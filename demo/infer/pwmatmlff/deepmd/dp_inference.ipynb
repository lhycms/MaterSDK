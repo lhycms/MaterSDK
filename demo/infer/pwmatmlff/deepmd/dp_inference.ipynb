{
 "cells": [
  {
   "cell_type": "code",
   "execution_count": 1,
   "metadata": {},
   "outputs": [
    {
     "name": "stderr",
     "output_type": "stream",
     "text": [
      "/data/home/liuhanyu/anaconda3/envs/mlff_dev310/lib/python3.10/site-packages/tqdm/auto.py:21: TqdmWarning: IProgress not found. Please update jupyter and ipywidgets. See https://ipywidgets.readthedocs.io/en/stable/user_install.html\n",
      "  from .autonotebook import tqdm as notebook_tqdm\n"
     ]
    }
   ],
   "source": [
    "from matersdk.io.pwmat.output.movement import Movement\n",
    "from matersdk.data.deepmd.data_system import DpLabeledSystem\n",
    "from matersdk.feature.deepmd.preprocess import TildeRNormalizer\n",
    "from matersdk.infer.pwmatmlff.deepmd.inference import DpInfer"
   ]
  },
  {
   "attachments": {},
   "cell_type": "markdown",
   "metadata": {},
   "source": [
    "# 0. 自定义参数"
   ]
  },
  {
   "cell_type": "code",
   "execution_count": 2,
   "metadata": {},
   "outputs": [],
   "source": [
    "movement_path = \"/data/home/liuhanyu/hyliu/code/mlff/test/demo2/PWdata/data1/MOVEMENT\"  # 产生训练集、验证集的 MOVEMENT\n",
    "pt_file_path = \"/data/home/liuhanyu/hyliu/code/mlff/PWmatMLFF_dev/test/demo2/record/checkpoint.pt\"\n",
    "device = \"cuda:0\"\n",
    "rcut = 6.0                      # Rmax\n",
    "rcut_smooth = 5.5               # Rmin\n",
    "scaling_matrix = [3, 3, 3]      # 三维体系：[3, 3, 3]; 二维体系: [3, 3, 1]\n",
    "davg = None                     # 设置为 None 时，可以从 MOVEMENT 自动计算\n",
    "dstd = None                     # 设置为 None 时，可以从 MOVEMENT 自动计算\n",
    "center_atomic_numbers = [3, 14] # 体系内所有元素的原子序数，从小到大排列\n",
    "nbr_atomic_numbers = [3, 14] # 体系内所有元素的原子序数，从小到大排列\n",
    "max_num_nbrs = [100, 100]    # 近邻原子的最大数目，与 nbr_atomic_numbers 对应\n",
    "reformat_mark = True            # 永远都是True\n",
    "coords_are_cartesian = True # 永远都是True"
   ]
  },
  {
   "attachments": {},
   "cell_type": "markdown",
   "metadata": {},
   "source": [
    "# 1. 计算 `davg`, `dstd`"
   ]
  },
  {
   "cell_type": "code",
   "execution_count": 3,
   "metadata": {},
   "outputs": [
    {
     "name": "stdout",
     "output_type": "stream",
     "text": [
      "[[0.05947828 0.         0.         0.        ]\n",
      " [0.05949253 0.         0.         0.        ]]\n",
      "[[0.10855239 0.07146395 0.07146395 0.07146395]\n",
      " [0.11013367 0.07226983 0.07226983 0.07226983]]\n"
     ]
    }
   ],
   "source": [
    "movement = Movement(movement_path=movement_path)\n",
    "### Step 0.1. 计算 Rij 的 davg, dstd\n",
    "dpsys = DpLabeledSystem.from_trajectory_s(trajectory_object=movement)\n",
    "tildeR_normalizer = TildeRNormalizer.from_dp_labeled_system(\n",
    "                    dp_labeled_system=dpsys,\n",
    "                    structure_indices=[*(range(10))],\n",
    "                    rcut=rcut,\n",
    "                    rcut_smooth=rcut_smooth,\n",
    "                    center_atomic_numbers=center_atomic_numbers,\n",
    "                    nbr_atomic_numbers=nbr_atomic_numbers,\n",
    "                    max_num_nbrs=max_num_nbrs,\n",
    "                    scaling_matrix=scaling_matrix\n",
    ")\n",
    "davg, dstd = tildeR_normalizer.davgs, tildeR_normalizer.dstds\n",
    "\n",
    "print(davg)\n",
    "print(dstd)"
   ]
  },
  {
   "attachments": {},
   "cell_type": "markdown",
   "metadata": {},
   "source": [
    "# 2. Inference\n",
    "<font color=\"coral\" size=\"4\">\n",
    "\n",
    "Note\n",
    "----\n",
    "1. Now you must link gpu by `srun -p 3080ti --pty /bin/bash` at first, then you can do inference\n",
    "\n",
    "</font>"
   ]
  },
  {
   "cell_type": "code",
   "execution_count": 4,
   "metadata": {},
   "outputs": [
    {
     "ename": "ValueError",
     "evalue": "Cuda is not available, please change device.",
     "output_type": "error",
     "traceback": [
      "\u001b[0;31m---------------------------------------------------------------------------\u001b[0m",
      "\u001b[0;31mValueError\u001b[0m                                Traceback (most recent call last)",
      "Cell \u001b[0;32mIn[4], line 2\u001b[0m\n\u001b[1;32m      1\u001b[0m \u001b[39m### Step 1. \u001b[39;00m\n\u001b[0;32m----> 2\u001b[0m dp_infer \u001b[39m=\u001b[39m DpInfer(\n\u001b[1;32m      3\u001b[0m     pt_file_path\u001b[39m=\u001b[39;49mpt_file_path,\n\u001b[1;32m      4\u001b[0m     device\u001b[39m=\u001b[39;49mdevice,\n\u001b[1;32m      5\u001b[0m     rcut\u001b[39m=\u001b[39;49mrcut,\n\u001b[1;32m      6\u001b[0m     rcut_smooth\u001b[39m=\u001b[39;49mrcut_smooth,\n\u001b[1;32m      7\u001b[0m     davg\u001b[39m=\u001b[39;49mdavg,\n\u001b[1;32m      8\u001b[0m     dstd\u001b[39m=\u001b[39;49mdstd,\n\u001b[1;32m      9\u001b[0m     center_atomic_numbers\u001b[39m=\u001b[39;49mcenter_atomic_numbers,\n\u001b[1;32m     10\u001b[0m     nbr_atomic_numbers\u001b[39m=\u001b[39;49mnbr_atomic_numbers,\n\u001b[1;32m     11\u001b[0m     max_num_nbrs\u001b[39m=\u001b[39;49mmax_num_nbrs,\n\u001b[1;32m     12\u001b[0m     scaling_matrix\u001b[39m=\u001b[39;49mscaling_matrix\n\u001b[1;32m     13\u001b[0m )\n\u001b[1;32m     15\u001b[0m \u001b[39m### Step 2. \u001b[39;00m\n\u001b[1;32m     16\u001b[0m new_structure \u001b[39m=\u001b[39m movement\u001b[39m.\u001b[39mget_frame_structure(idx_frame\u001b[39m=\u001b[39m\u001b[39m500\u001b[39m)\n",
      "File \u001b[0;32m~/hyliu/code/matersdk/matersdk/infer/pwmatmlff/deepmd/inference.py:73\u001b[0m, in \u001b[0;36mDpInfer.__init__\u001b[0;34m(self, pt_file_path, device, rcut, rcut_smooth, davg, dstd, center_atomic_numbers, nbr_atomic_numbers, max_num_nbrs, scaling_matrix, reformat_mark, coords_are_cartesian)\u001b[0m\n\u001b[1;32m     71\u001b[0m \u001b[39mif\u001b[39;00m \u001b[39m\"\u001b[39m\u001b[39mcuda\u001b[39m\u001b[39m\"\u001b[39m \u001b[39min\u001b[39;00m device:\n\u001b[1;32m     72\u001b[0m     \u001b[39mif\u001b[39;00m \u001b[39mnot\u001b[39;00m torch\u001b[39m.\u001b[39mcuda\u001b[39m.\u001b[39mis_available():\n\u001b[0;32m---> 73\u001b[0m         \u001b[39mraise\u001b[39;00m \u001b[39mValueError\u001b[39;00m(\u001b[39m\"\u001b[39m\u001b[39mCuda is not available, please change device.\u001b[39m\u001b[39m\"\u001b[39m)\n",
      "\u001b[0;31mValueError\u001b[0m: Cuda is not available, please change device."
     ]
    }
   ],
   "source": [
    "### Step 1. \n",
    "dp_infer = DpInfer(\n",
    "    pt_file_path=pt_file_path,\n",
    "    device=device,\n",
    "    rcut=rcut,\n",
    "    rcut_smooth=rcut_smooth,\n",
    "    davg=davg,\n",
    "    dstd=dstd,\n",
    "    center_atomic_numbers=center_atomic_numbers,\n",
    "    nbr_atomic_numbers=nbr_atomic_numbers,\n",
    "    max_num_nbrs=max_num_nbrs,\n",
    "    scaling_matrix=scaling_matrix\n",
    ")\n",
    "\n",
    "### Step 2. \n",
    "new_structure = movement.get_frame_structure(idx_frame=500)\n",
    "e_tot, e_atoms, f_atoms, virial = dp_infer.infer(structure=new_structure)\n",
    "print( \"S 2.1. e_tot = {0} eV\".format(e_tot.item()) )\n",
    "print( \"S 2.2. e_atoms.shape = \", e_atoms.shape )\n",
    "print( \"S 2.3. f_atoms.shape = \", f_atoms.shape )\n",
    "print( \"S 2.4. virial = \\n\", virial )      "
   ]
  },
  {
   "cell_type": "code",
   "execution_count": null,
   "metadata": {},
   "outputs": [],
   "source": []
  }
 ],
 "metadata": {
  "kernelspec": {
   "display_name": "mlff",
   "language": "python",
   "name": "python3"
  },
  "language_info": {
   "codemirror_mode": {
    "name": "ipython",
    "version": 3
   },
   "file_extension": ".py",
   "mimetype": "text/x-python",
   "name": "python",
   "nbconvert_exporter": "python",
   "pygments_lexer": "ipython3",
   "version": "3.10.12"
  },
  "orig_nbformat": 4
 },
 "nbformat": 4,
 "nbformat_minor": 2
}
