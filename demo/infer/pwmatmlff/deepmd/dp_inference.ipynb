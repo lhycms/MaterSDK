{
 "cells": [
  {
   "cell_type": "code",
   "execution_count": null,
   "metadata": {},
   "outputs": [],
   "source": [
    "from matersdk.io.pwmat.output.movement import Movement\n",
    "from matersdk.data.deepmd.data_system import DpLabeledSystem\n",
    "from matersdk.feature.deepmd.preprocess import TildeRNormalizer\n",
    "from matersdk.infer.pwmatmlff.deepmd.inference import DpInfer"
   ]
  },
  {
   "attachments": {},
   "cell_type": "markdown",
   "metadata": {},
   "source": [
    "# 0. 自定义参数"
   ]
  },
  {
   "cell_type": "code",
   "execution_count": null,
   "metadata": {},
   "outputs": [],
   "source": [
    "movement_path = \"/data/home/liuhanyu/hyliu/code/mlff/test/demo2/PWdata/data1/MOVEMENT\"  # 产生训练集、验证集的 MOVEMENT\n",
    "pt_file_path = \"/data/home/liuhanyu/hyliu/code/mlff/PWmatMLFF_dev/test/demo2/record/checkpoint.pt\"\n",
    "device = \"cuda:0\"\n",
    "rcut = 6.0                      # Rmax\n",
    "rcut_smooth = 5.5               # Rmin\n",
    "scaling_matrix = [3, 3, 3]      # 三维体系：[3, 3, 3]; 二维体系: [3, 3, 1]\n",
    "davg = None                     # 设置为 None 时，可以从 MOVEMENT 自动计算\n",
    "dstd = None                     # 设置为 None 时，可以从 MOVEMENT 自动计算\n",
    "center_atomic_numbers = [3, 14] # 体系内所有元素的原子序数，从小到大排列\n",
    "nbr_atomic_numbers = [3, 14] # 体系内所有元素的原子序数，从小到大排列\n",
    "max_num_nbrs = [100, 100]    # 近邻原子的最大数目，与 nbr_atomic_numbers 对应\n",
    "reformat_mark = True            # 永远都是True\n",
    "coords_are_cartesian = True # 永远都是True"
   ]
  },
  {
   "attachments": {},
   "cell_type": "markdown",
   "metadata": {},
   "source": [
    "# 1. 计算 `davg`, `dstd`"
   ]
  },
  {
   "cell_type": "code",
   "execution_count": null,
   "metadata": {},
   "outputs": [],
   "source": [
    "movement = Movement(movement_path=movement_path)\n",
    "### Step 0.1. 计算 Rij 的 davg, dstd\n",
    "dpsys = DpLabeledSystem.from_trajectory_s(trajectory_object=movement)\n",
    "tildeR_normalizer = TildeRNormalizer.from_dp_labeled_system(\n",
    "                    dp_labeled_system=dpsys,\n",
    "                    structure_indices=[*(range(10))],\n",
    "                    rcut=rcut,\n",
    "                    rcut_smooth=rcut_smooth,\n",
    "                    center_atomic_numbers=center_atomic_numbers,\n",
    "                    nbr_atomic_numbers=nbr_atomic_numbers,\n",
    "                    max_num_nbrs=max_num_nbrs,\n",
    "                    scaling_matrix=scaling_matrix\n",
    ")\n",
    "davg, dstd = tildeR_normalizer.davgs, tildeR_normalizer.dstds\n",
    "\n",
    "print(davg)\n",
    "print(dstd)"
   ]
  },
  {
   "attachments": {},
   "cell_type": "markdown",
   "metadata": {},
   "source": [
    "# 2. Inference\n",
    "<font color=\"coral\" size=\"4\">\n",
    "\n",
    "Note\n",
    "----\n",
    "1. Now you must link gpu by `srun -p 3080ti --pty /bin/bash` at first, then you can do inference\n",
    "\n",
    "</font>"
   ]
  },
  {
   "cell_type": "code",
   "execution_count": null,
   "metadata": {},
   "outputs": [],
   "source": [
    "### Step 1. \n",
    "dp_infer = DpInfer(\n",
    "    pt_file_path=pt_file_path,\n",
    "    device=device,\n",
    "    rcut=rcut,\n",
    "    rcut_smooth=rcut_smooth,\n",
    "    davg=davg,\n",
    "    dstd=dstd,\n",
    "    center_atomic_numbers=center_atomic_numbers,\n",
    "    nbr_atomic_numbers=nbr_atomic_numbers,\n",
    "    max_num_nbrs=max_num_nbrs,\n",
    "    scaling_matrix=scaling_matrix\n",
    ")\n",
    "\n",
    "### Step 2. \n",
    "new_structure = movement.get_frame_structure(idx_frame=500)\n",
    "e_tot, e_atoms, f_atoms, virial = dp_infer.infer(structure=new_structure)\n",
    "print( \"S 2.1. e_tot = {0} eV\".format(e_tot.item()) )\n",
    "print( \"S 2.2. e_atoms.shape = \", e_atoms.shape )\n",
    "print( \"S 2.3. f_atoms.shape = \", f_atoms.shape )\n",
    "print( \"S 2.4. virial = \\n\", virial )      "
   ]
  }
 ],
 "metadata": {
  "kernelspec": {
   "display_name": "mlff",
   "language": "python",
   "name": "python3"
  },
  "language_info": {
   "codemirror_mode": {
    "name": "ipython",
    "version": 3
   },
   "file_extension": ".py",
   "mimetype": "text/x-python",
   "name": "python",
   "nbconvert_exporter": "python",
   "pygments_lexer": "ipython3",
   "version": "3.10.12"
  },
  "orig_nbformat": 4
 },
 "nbformat": 4,
 "nbformat_minor": 2
}
