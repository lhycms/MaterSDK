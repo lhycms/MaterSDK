{
 "cells": [
  {
   "cell_type": "code",
   "execution_count": 1,
   "metadata": {},
   "outputs": [
    {
     "name": "stderr",
     "output_type": "stream",
     "text": [
      "/data/home/liuhanyu/anaconda3/envs/mlff_dev310/lib/python3.10/site-packages/tqdm/auto.py:21: TqdmWarning: IProgress not found. Please update jupyter and ipywidgets. See https://ipywidgets.readthedocs.io/en/stable/user_install.html\n",
      "  from .autonotebook import tqdm as notebook_tqdm\n"
     ]
    }
   ],
   "source": [
    "from matersdk.adalearn.generator.perturbation import BatchPerturbStructure"
   ]
  },
  {
   "cell_type": "code",
   "execution_count": 2,
   "metadata": {},
   "outputs": [],
   "source": [
    "# \"/data/home/liuhanyu/hyliu/code/test\" 下需要放置一个 atom.config 文件\n",
    "Perturbed = ['/data/home/liuhanyu/hyliu/code/test']\n",
    "pert_num = 50\n",
    "cell_pert_fraction = 0.03\n",
    "atom_pert_distance = 0.01\n",
    "\n",
    "\n",
    "BatchPerturbStructure.batch_perturb(\n",
    "    Perturbed=Perturbed,\n",
    "    pert_num=pert_num,\n",
    "    cell_pert_fraction=cell_pert_fraction,\n",
    "    atom_pert_distance=atom_pert_distance\n",
    ")"
   ]
  },
  {
   "cell_type": "code",
   "execution_count": 3,
   "metadata": {},
   "outputs": [
    {
     "name": "stdout",
     "output_type": "stream",
     "text": [
      "total 17\n",
      "-rw-rw-r-- 1 liuhanyu 5573 Jun 30 10:01 atom.config\n",
      "drwxrwxr-x 2 liuhanyu 4096 Jul  7 14:30 \u001b[0m\u001b[01;34mstructures\u001b[0m/\n"
     ]
    }
   ],
   "source": [
    "ll /data/home/liuhanyu/hyliu/code/test"
   ]
  },
  {
   "cell_type": "code",
   "execution_count": 4,
   "metadata": {},
   "outputs": [
    {
     "name": "stdout",
     "output_type": "stream",
     "text": [
      "0.config   17.config  24.config  31.config  39.config  46.config  8.config\n",
      "10.config  18.config  25.config  32.config  3.config   47.config  9.config\n",
      "11.config  19.config  26.config  33.config  40.config  48.config\n",
      "12.config  1.config   27.config  34.config  41.config  49.config\n",
      "13.config  20.config  28.config  35.config  42.config  4.config\n",
      "14.config  21.config  29.config  36.config  43.config  5.config\n",
      "15.config  22.config  2.config   37.config  44.config  6.config\n",
      "16.config  23.config  30.config  38.config  45.config  7.config\n"
     ]
    }
   ],
   "source": [
    "ls /data/home/liuhanyu/hyliu/code/test/structures"
   ]
  },
  {
   "cell_type": "code",
   "execution_count": null,
   "metadata": {},
   "outputs": [],
   "source": []
  }
 ],
 "metadata": {
  "kernelspec": {
   "display_name": "mlff_dev310",
   "language": "python",
   "name": "python3"
  },
  "language_info": {
   "codemirror_mode": {
    "name": "ipython",
    "version": 3
   },
   "file_extension": ".py",
   "mimetype": "text/x-python",
   "name": "python",
   "nbconvert_exporter": "python",
   "pygments_lexer": "ipython3",
   "version": "3.10.12"
  },
  "orig_nbformat": 4
 },
 "nbformat": 4,
 "nbformat_minor": 2
}
