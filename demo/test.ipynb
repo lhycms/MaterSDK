{
 "cells": [
  {
   "cell_type": "code",
   "execution_count": 1,
   "metadata": {},
   "outputs": [
    {
     "name": "stderr",
     "output_type": "stream",
     "text": [
      "/data/home/liuhanyu/anaconda3/envs/mlff_dev310/lib/python3.10/site-packages/tqdm/auto.py:21: TqdmWarning: IProgress not found. Please update jupyter and ipywidgets. See https://ipywidgets.readthedocs.io/en/stable/user_install.html\n",
      "  from .autonotebook import tqdm as notebook_tqdm\n"
     ]
    }
   ],
   "source": [
    "import torch"
   ]
  },
  {
   "cell_type": "markdown",
   "metadata": {},
   "source": [
    "# 1. 数据读取"
   ]
  },
  {
   "cell_type": "code",
   "execution_count": 2,
   "metadata": {},
   "outputs": [],
   "source": [
    "a1 = torch.tensor(\n",
    "        [[0.856567152849, 0.851145579765, 0.866101298931, 0.855391832561],\n",
    "        [0.856567152849, 0.647034701757, 0.679249900171, 0.654068935962],\n",
    "        [0.851145579765, 0.647034701757, 0.667774159158, 0.652411269045],\n",
    "        [0.866101298931, 0.679249900171, 0.667774159158, 0.679958540942],\n",
    "        [0.855391832561, 0.654068935962, 0.652411269045, 0.679958540942]]\n",
    ")"
   ]
  },
  {
   "cell_type": "code",
   "execution_count": 3,
   "metadata": {},
   "outputs": [
    {
     "data": {
      "text/plain": [
       "tensor([[0.8566, 0.8511, 0.8661, 0.8554],\n",
       "        [0.8566, 0.6470, 0.6792, 0.6541],\n",
       "        [0.8511, 0.6470, 0.6678, 0.6524],\n",
       "        [0.8661, 0.6792, 0.6678, 0.6800],\n",
       "        [0.8554, 0.6541, 0.6524, 0.6800]])"
      ]
     },
     "execution_count": 3,
     "metadata": {},
     "output_type": "execute_result"
    }
   ],
   "source": [
    "a1"
   ]
  },
  {
   "cell_type": "markdown",
   "metadata": {},
   "source": [
    "# 2. 插值"
   ]
  },
  {
   "cell_type": "code",
   "execution_count": 58,
   "metadata": {},
   "outputs": [
    {
     "data": {
      "text/plain": [
       "tensor([[0.8566, 0.8511, 0.8661, 0.8554],\n",
       "        [0.8566, 0.6470, 0.6792, 0.6541],\n",
       "        [0.8511, 0.6470, 0.6678, 0.6524],\n",
       "        [0.8661, 0.6792, 0.6678, 0.6800],\n",
       "        [0.8554, 0.6541, 0.6524, 0.6800]])"
      ]
     },
     "execution_count": 58,
     "metadata": {},
     "output_type": "execute_result"
    }
   ],
   "source": [
    "a1"
   ]
  },
  {
   "cell_type": "code",
   "execution_count": 59,
   "metadata": {},
   "outputs": [
    {
     "data": {
      "text/plain": [
       "tensor([[1.0000, 0.8566, 0.8511, 0.8661, 0.8554],\n",
       "        [0.8566, 1.0000, 0.6470, 0.6792, 0.6541],\n",
       "        [0.8511, 0.6470, 1.0000, 0.6678, 0.6524],\n",
       "        [0.8661, 0.6792, 0.6678, 1.0000, 0.6800],\n",
       "        [0.8554, 0.6541, 0.6524, 0.6800, 1.0000]])"
      ]
     },
     "execution_count": 59,
     "metadata": {},
     "output_type": "execute_result"
    }
   ],
   "source": [
    "a_expanded = torch.zeros(size=(5, 5))\n",
    "a_low_diag = torch.tril(a1, diagonal=-1)\n",
    "a_expanded[:5, :4] = a_low_diag\n",
    "\n",
    "a_new = a_expanded + a_expanded.transpose(-1, -2)\n",
    "a_new.diagonal().fill_(1)\n",
    "a_new"
   ]
  },
  {
   "cell_type": "code",
   "execution_count": null,
   "metadata": {},
   "outputs": [],
   "source": []
  }
 ],
 "metadata": {
  "kernelspec": {
   "display_name": "mlff_dev310",
   "language": "python",
   "name": "python3"
  },
  "language_info": {
   "codemirror_mode": {
    "name": "ipython",
    "version": 3
   },
   "file_extension": ".py",
   "mimetype": "text/x-python",
   "name": "python",
   "nbconvert_exporter": "python",
   "pygments_lexer": "ipython3",
   "version": "3.10.12"
  },
  "orig_nbformat": 4
 },
 "nbformat": 4,
 "nbformat_minor": 2
}
