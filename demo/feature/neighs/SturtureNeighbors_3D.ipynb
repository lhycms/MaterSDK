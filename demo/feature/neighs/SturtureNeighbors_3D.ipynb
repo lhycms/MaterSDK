{
 "cells": [
  {
   "attachments": {},
   "cell_type": "markdown",
   "metadata": {},
   "source": [
    "# Introduction\n",
    "1. We have two `class` to extract the information neighbors from center atoms, they are all derived class of `StructureNeighborsBase`\n",
    "    1. `matersdk.io.publicLayer.neigh.StructureNeighborsV1`"
   ]
  },
  {
   "cell_type": "code",
   "execution_count": 12,
   "metadata": {},
   "outputs": [],
   "source": [
    "from timeit import default_timer as timer\n",
    "\n",
    "from matersdk.io.publicLayer.structure import DStructure\n",
    "from matersdk.io.pwmat.output.movement import Movement\n",
    "from matersdk.io.publicLayer.neigh import StructureNeighborsUtils\n",
    "from matersdk.io.publicLayer.neigh import StructureNeighborsDescriptor"
   ]
  },
  {
   "attachments": {},
   "cell_type": "markdown",
   "metadata": {},
   "source": [
    "# 0. Some utils to get information of structure neighbors-- `matersdk.io.publicLayer.neigh.StructureNeighborUtils`"
   ]
  },
  {
   "attachments": {},
   "cell_type": "markdown",
   "metadata": {},
   "source": [
    "## 0.1. Get `max_nbrs_num_real`"
   ]
  },
  {
   "cell_type": "code",
   "execution_count": 13,
   "metadata": {},
   "outputs": [
    {
     "name": "stdout",
     "output_type": "stream",
     "text": [
      "1. `max_num_nbrs_real` within rcut(6.5) of this structure is : 61\n"
     ]
    }
   ],
   "source": [
    "movement_path = \"/data/home/liuhanyu/hyliu/code/mlff/test/demo2/PWdata/data1/MOVEMENT\"\n",
    "scaling_matrix = [3, 3, 3]\n",
    "rcut = 6.5\n",
    "coords_are_cartesian = True\n",
    "\n",
    "movement = Movement(movement_path=movement_path)\n",
    "structure = movement.get_frame_structure(idx_frame=0)\n",
    "max_num_nbrs_real = StructureNeighborsUtils.get_max_num_nbrs_real(\n",
    "                        structure=structure,\n",
    "                        rcut=rcut,\n",
    "                        scaling_matrix=scaling_matrix,\n",
    "                        coords_are_cartesian=coords_are_cartesian)\n",
    "print(\"1. `max_num_nbrs_real` within rcut({0}) of this structure is : {1}\".format(rcut, max_num_nbrs_real))"
   ]
  },
  {
   "attachments": {},
   "cell_type": "markdown",
   "metadata": {},
   "source": [
    "## 0.2. Get `max_nbrs_num_real_element`"
   ]
  },
  {
   "cell_type": "code",
   "execution_count": 14,
   "metadata": {},
   "outputs": [
    {
     "name": "stdout",
     "output_type": "stream",
     "text": [
      "1. `max_num_nbrs_real` within rcut(6.5) of this structure is : {'Li': 39, 'Si': 23}\n"
     ]
    }
   ],
   "source": [
    "atom_config_path = \"/data/home/liuhanyu/hyliu/code/matersdk/demo/feature/movement/LiSi.config\"\n",
    "scaling_matrix = [3, 3, 3]\n",
    "rcut = 6.5\n",
    "coords_are_cartesian = True\n",
    "\n",
    "structure = DStructure.from_file(file_format=\"pwmat\", file_path=atom_config_path)\n",
    "max_num_nbrs_real = StructureNeighborsUtils.get_max_num_nbrs_real_element(\n",
    "                        structure=structure,\n",
    "                        rcut=rcut,\n",
    "                        nbr_elements=[\"Li\", \"Si\"],\n",
    "                        scaling_matrix=scaling_matrix,\n",
    "                        coords_are_cartesian=coords_are_cartesian)\n",
    "print(\"1. `max_num_nbrs_real` within rcut({0}) of this structure is : {1}\".format(rcut, max_num_nbrs_real))"
   ]
  },
  {
   "attachments": {},
   "cell_type": "markdown",
   "metadata": {},
   "source": [
    "# 1. Demo for `StructureNeighborsV1`"
   ]
  },
  {
   "cell_type": "code",
   "execution_count": 15,
   "metadata": {},
   "outputs": [
    {
     "name": "stdout",
     "output_type": "stream",
     "text": [
      "\n",
      "Step 1. primitive_cell 中原子的近邻原子情况:\n",
      "\t1.1. The number of atoms in primitive cell:\t 72\n",
      "\t1.2. The shape of key_nbr_species:\t (72, 62)\n",
      "\t1.3. The shape of key_nbr_distances:\t (72, 62)\n",
      "\t1.4. The shape of key_nbr_coords:\t (72, 62, 3)\n",
      "Running time: 0.09721671603620052 s\n"
     ]
    }
   ],
   "source": [
    "atom_config_path = \"/data/home/liuhanyu/hyliu/code/matersdk/demo/feature/movement/LiSi.config\"\n",
    "scaling_matrix = [3, 3, 3]\n",
    "reformat_mark = True\n",
    "coords_are_cartesian = True\n",
    "rcut = 6.5\n",
    "\n",
    "\n",
    "_start = timer()\n",
    "structure = DStructure.from_file(file_format=\"pwmat\", file_path=atom_config_path)\n",
    "neighbors_v1 = StructureNeighborsDescriptor.create(\n",
    "                    'v1',\n",
    "                    structure=structure,\n",
    "                    rcut=rcut,\n",
    "                    scaling_matrix=scaling_matrix,\n",
    "                    reformat_mark=reformat_mark,\n",
    "                    coords_are_cartesian=coords_are_cartesian)\n",
    "_end = timer()\n",
    "\n",
    "\n",
    "print()\n",
    "print(\"Step 1. primitive_cell 中原子的近邻原子情况:\")\n",
    "print(\"\\t1.1. The number of atoms in primitive cell:\\t\", len(neighbors_v1.structure.species))\n",
    "print(\"\\t1.2. The shape of key_nbr_species:\\t\", neighbors_v1.key_nbr_atomic_numbers.shape)\n",
    "print(\"\\t1.3. The shape of key_nbr_distances:\\t\", neighbors_v1.key_nbr_distances.shape)\n",
    "print(\"\\t1.4. The shape of key_nbr_coords:\\t\", neighbors_v1.key_nbr_coords.shape)\n",
    "\n",
    "print(\"Running time: {0} s\".format(_end-_start))"
   ]
  },
  {
   "cell_type": "code",
   "execution_count": 16,
   "metadata": {},
   "outputs": [
    {
     "data": {
      "text/plain": [
       "array([[ 2.24613115,  1.26193103,  0.40983649],\n",
       "       [ 4.41639206,  0.00997971,  1.13661589],\n",
       "       [ 2.32551443,  3.78535143,  1.13634155],\n",
       "       [ 0.05971646,  2.4974472 , -0.41150086],\n",
       "       [ 4.44548443,  2.48641568, -0.41111678],\n",
       "       [ 0.01962851,  0.01983827,  1.12891591],\n",
       "       [ 2.15597907, -1.26536109, -0.40700158],\n",
       "       [ 2.17255685,  1.21688548, -2.34425085],\n",
       "       [ 4.34851363, -0.02954319, -1.13756696],\n",
       "       [ 2.27947929,  3.73469457, -1.13623181],\n",
       "       [-0.02286512, -0.01689586, -1.13584772],\n",
       "       [ 0.12225203,  2.5334953 ,  2.34697602],\n",
       "       [ 2.20503752, -1.21646395,  2.35518811],\n",
       "       [ 4.5053906 ,  2.54081382,  2.34545797],\n",
       "       [ 0.0914622 ,  0.051895  ,  3.76444916],\n",
       "       [ 4.47197198,  0.05317369,  3.75780998],\n",
       "       [ 2.3921808 ,  3.80696915,  3.75197555],\n",
       "       [ 4.31042488, -2.49966982,  0.40848305],\n",
       "       [ 0.1579049 ,  5.01364662,  0.40720277],\n",
       "       [ 6.61684702,  1.2623561 ,  0.4142809 ],\n",
       "       [-2.14267198,  1.2623561 ,  0.4142809 ],\n",
       "       [ 4.53132488,  5.01366518,  0.40848305],\n",
       "       [-0.0629951 , -2.49968838,  0.40720277],\n",
       "       [ 2.2242508 ,  3.70669962, -3.75020145],\n",
       "       [ 4.30062208, -0.05509242, -3.75696865],\n",
       "       [-0.07534392, -0.06167074, -3.74533638],\n",
       "       [-2.05120146,  3.76777403,  1.13453086],\n",
       "       [ 6.52916122, -1.25565987, -0.40637973],\n",
       "       [ 2.10461443, -3.72798357,  1.13634155],\n",
       "       [ 2.37687907,  6.24797391, -0.40700158],\n",
       "       [ 0.09578034,  4.97002428, -2.34355583],\n",
       "       [ 4.24986446, -2.5471023 , -2.34492757],\n",
       "       [ 6.55583205,  1.22107615, -2.34333636],\n",
       "       [ 4.47076446,  4.9662327 , -2.34492757],\n",
       "       [ 0.19213435,  2.57414165,  4.95154473],\n",
       "       [ 2.25881105, -1.18158519,  4.96149435],\n",
       "       [ 6.70831754,  3.76777403,  1.13453086],\n",
       "       [-2.23035778, -1.25565987, -0.40637973],\n",
       "       [-2.20368695,  1.22107615, -2.34333636],\n",
       "       [-2.09417323,  3.74354908, -1.13804249],\n",
       "       [-0.12511966, -2.54331072, -2.34355583],\n",
       "       [ 2.05857929, -3.77864043, -1.13623181],\n",
       "       [ 4.56140504,  2.5716115 ,  4.97032829],\n",
       "       [ 2.35316874,  1.33108646,  5.69182196],\n",
       "       [ 6.66534577,  3.74354908, -1.13804249],\n",
       "       [ 6.5898255 , -1.22028115,  2.33598388],\n",
       "       [ 2.11396723,  1.17464074, -4.95697678],\n",
       "       [ 2.42593752,  6.29687105,  2.35518811],\n",
       "       [-2.1696935 , -1.22028115,  2.33598388],\n",
       "       [-2.00098271,  3.80684717,  3.75444467],\n",
       "       [ 2.1712808 , -3.70636585,  3.75197555],\n",
       "       [ 6.75853629,  3.80684717,  3.75444467],\n",
       "       [ 6.59218211,  3.6971888 , -3.7563468 ],\n",
       "       [ 0.        ,  0.        ,  0.        ],\n",
       "       [ 0.        ,  0.        ,  0.        ],\n",
       "       [ 0.        ,  0.        ,  0.        ],\n",
       "       [ 0.        ,  0.        ,  0.        ],\n",
       "       [ 0.        ,  0.        ,  0.        ],\n",
       "       [ 0.        ,  0.        ,  0.        ],\n",
       "       [ 0.        ,  0.        ,  0.        ],\n",
       "       [ 0.        ,  0.        ,  0.        ],\n",
       "       [ 0.        ,  0.        ,  0.        ]])"
      ]
     },
     "execution_count": 16,
     "metadata": {},
     "output_type": "execute_result"
    }
   ],
   "source": [
    "neighbors_v1.key_nbr_coords[0]"
   ]
  },
  {
   "cell_type": "code",
   "execution_count": 17,
   "metadata": {},
   "outputs": [
    {
     "data": {
      "text/plain": [
       "array([[ 3., 14., 14., ...,  0.,  0.,  0.],\n",
       "       [ 3., 14.,  3., ...,  0.,  0.,  0.],\n",
       "       [ 3., 14., 14., ...,  0.,  0.,  0.],\n",
       "       ...,\n",
       "       [14., 14.,  3., ...,  0.,  0.,  0.],\n",
       "       [14., 14.,  3., ...,  0.,  0.,  0.],\n",
       "       [14., 14.,  3., ...,  0.,  0.,  0.]])"
      ]
     },
     "execution_count": 17,
     "metadata": {},
     "output_type": "execute_result"
    }
   ],
   "source": [
    "### Print atomic number of neighbor atoms for all central atom in `DStructure`\n",
    "neighbors_v1.key_nbr_atomic_numbers"
   ]
  },
  {
   "cell_type": "code",
   "execution_count": null,
   "metadata": {},
   "outputs": [],
   "source": [
    "\n"
   ]
  }
 ],
 "metadata": {
  "kernelspec": {
   "display_name": "mlff",
   "language": "python",
   "name": "python3"
  },
  "language_info": {
   "codemirror_mode": {
    "name": "ipython",
    "version": 3
   },
   "file_extension": ".py",
   "mimetype": "text/x-python",
   "name": "python",
   "nbconvert_exporter": "python",
   "pygments_lexer": "ipython3",
   "version": "3.8.16"
  },
  "orig_nbformat": 4
 },
 "nbformat": 4,
 "nbformat_minor": 2
}
