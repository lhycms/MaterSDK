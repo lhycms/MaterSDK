{
 "cells": [
  {
   "attachments": {},
   "cell_type": "markdown",
   "metadata": {},
   "source": [
    "# Introduction\n",
    "1. We have two `class` to extract the information neighbors from center atoms, they are all derived class of `StructureNeighborsBase`\n",
    "    1. `matersdk.io.publicLayer.neigh.StructureNeighborsV1`"
   ]
  },
  {
   "cell_type": "code",
   "execution_count": 1,
   "metadata": {},
   "outputs": [],
   "source": [
    "from timeit import default_timer as timer\n",
    "from matersdk.io.publicLayer.structure import DStructure\n",
    "from matersdk.io.publicLayer.neigh import StructureNeighborsUtils\n",
    "from matersdk.io.publicLayer.neigh import StructureNeighborsDescriptor"
   ]
  },
  {
   "attachments": {},
   "cell_type": "markdown",
   "metadata": {},
   "source": [
    "# 0. Some utils to get information of structure neighbors-- `matersdk.io.publicLayer.neigh.StructureNeighborUtils`"
   ]
  },
  {
   "attachments": {},
   "cell_type": "markdown",
   "metadata": {},
   "source": [
    "## 0.1. Get `max_nbrs_num_real`"
   ]
  },
  {
   "cell_type": "code",
   "execution_count": 2,
   "metadata": {},
   "outputs": [
    {
     "name": "stdout",
     "output_type": "stream",
     "text": [
      "1. `max_num_nbrs_real` within rcut(6.5) of this structure is : 68\n"
     ]
    }
   ],
   "source": [
    "atom_config_path = \"/data/home/liuhanyu/hyliu/code/matersdk/demo/feature/movement/LiSi.config\"\n",
    "scaling_matrix = [3, 3, 3]\n",
    "rcut = 6.5\n",
    "coords_are_cartesian = True\n",
    "\n",
    "structure = DStructure.from_file(file_format=\"pwmat\", file_path=atom_config_path)\n",
    "max_num_nbrs_real = StructureNeighborsUtils.get_max_num_nbrs_real(\n",
    "                        structure=structure,\n",
    "                        rcut=rcut,\n",
    "                        scaling_matrix=scaling_matrix,\n",
    "                        coords_are_cartesian=coords_are_cartesian)\n",
    "print(\"1. `max_num_nbrs_real` within rcut({0}) of this structure is : {1}\".format(rcut, max_num_nbrs_real))"
   ]
  },
  {
   "attachments": {},
   "cell_type": "markdown",
   "metadata": {},
   "source": [
    "## 0.2. Get `max_nbrs_num_real_element`"
   ]
  },
  {
   "cell_type": "code",
   "execution_count": 3,
   "metadata": {},
   "outputs": [
    {
     "name": "stdout",
     "output_type": "stream",
     "text": [
      "1. `max_num_nbrs_real` within rcut(6.5) of this structure is : {'Li': 43, 'Si': 26}\n"
     ]
    }
   ],
   "source": [
    "atom_config_path = \"/data/home/liuhanyu/hyliu/code/matersdk/demo/feature/movement/LiSi.config\"\n",
    "scaling_matrix = [3, 3, 3]\n",
    "rcut = 6.5\n",
    "coords_are_cartesian = True\n",
    "\n",
    "structure = DStructure.from_file(file_format=\"pwmat\", file_path=atom_config_path)\n",
    "max_num_nbrs_real = StructureNeighborsUtils.get_max_num_nbrs_real_element(\n",
    "                        structure=structure,\n",
    "                        rcut=rcut,\n",
    "                        nbr_elements=[\"Li\", \"Si\"],\n",
    "                        scaling_matrix=scaling_matrix,\n",
    "                        coords_are_cartesian=coords_are_cartesian)\n",
    "print(\"1. `max_num_nbrs_real` within rcut({0}) of this structure is : {1}\".format(rcut, max_num_nbrs_real))"
   ]
  },
  {
   "attachments": {},
   "cell_type": "markdown",
   "metadata": {},
   "source": [
    "# 1. Demo for `StructureNeighborsV1`"
   ]
  },
  {
   "cell_type": "code",
   "execution_count": 4,
   "metadata": {},
   "outputs": [
    {
     "name": "stdout",
     "output_type": "stream",
     "text": [
      "\n",
      "Step 1. primitive_cell 中原子的近邻原子情况:\n",
      "\t1.1. The number of atoms in primitive cell:\t 72\n",
      "\t1.2. The shape of key_nbr_species:\t (72, 69)\n",
      "\t1.3. The shape of key_nbr_distances:\t (72, 69)\n",
      "\t1.4. The shape of key_nbr_coords:\t (72, 69, 3)\n",
      "Running time: 0.0998398270457983 s\n"
     ]
    }
   ],
   "source": [
    "atom_config_path = \"/data/home/liuhanyu/hyliu/code/matersdk/demo/feature/movement/LiSi.config\"\n",
    "scaling_matrix = [3, 3, 3]\n",
    "reformat_mark = True\n",
    "coords_are_cartesian = True\n",
    "rcut = 6.5\n",
    "\n",
    "\n",
    "_start = timer()\n",
    "structure = DStructure.from_file(file_format=\"pwmat\", file_path=atom_config_path)\n",
    "neighbors_v1 = StructureNeighborsDescriptor.create(\n",
    "                    'v1',\n",
    "                    structure=structure,\n",
    "                    rcut=rcut,\n",
    "                    scaling_matrix=scaling_matrix,\n",
    "                    reformat_mark=reformat_mark,\n",
    "                    coords_are_cartesian=coords_are_cartesian)\n",
    "_end = timer()\n",
    "\n",
    "\n",
    "print()\n",
    "print(\"Step 1. primitive_cell 中原子的近邻原子情况:\")\n",
    "print(\"\\t1.1. The number of atoms in primitive cell:\\t\", len(neighbors_v1.structure.species))\n",
    "print(\"\\t1.2. The shape of key_nbr_species:\\t\", neighbors_v1.key_nbr_atomic_numbers.shape)\n",
    "print(\"\\t1.3. The shape of key_nbr_distances:\\t\", neighbors_v1.key_nbr_distances.shape)\n",
    "print(\"\\t1.4. The shape of key_nbr_coords:\\t\", neighbors_v1.key_nbr_coords.shape)\n",
    "\n",
    "print(\"Running time: {0} s\".format(_end-_start))"
   ]
  },
  {
   "cell_type": "code",
   "execution_count": 5,
   "metadata": {},
   "outputs": [
    {
     "data": {
      "text/plain": [
       "array([[ 2.09719540e+00,  1.24439974e+00,  4.44524321e-01],\n",
       "       [-2.38562937e-02,  1.74707370e-02,  1.08398290e+00],\n",
       "       [ 4.19211573e+00,  2.44196362e+00, -3.54271977e-01],\n",
       "       [ 3.30787027e-03,  2.50782862e+00, -3.63639486e-01],\n",
       "       [ 4.28254784e+00,  2.45269499e-02,  1.08576633e+00],\n",
       "       [ 2.20774202e+00, -1.20726344e+00, -4.45371000e-01],\n",
       "       [ 2.08020869e+00,  3.80272846e+00,  1.14636690e+00],\n",
       "       [ 2.17710102e+00,  1.17363813e+00, -2.27070215e+00],\n",
       "       [ 3.51621950e-02, -4.44656337e-02, -1.12323636e+00],\n",
       "       [ 4.29263394e+00,  5.22659886e-03, -1.09468348e+00],\n",
       "       [ 2.10461613e+00,  3.75094469e+00, -1.11900297e+00],\n",
       "       [ 4.17511485e+00,  2.50083840e+00,  2.37352857e+00],\n",
       "       [ 2.14388523e+00, -1.27252390e+00,  2.31739558e+00],\n",
       "       [-9.64204467e-03,  2.61975264e+00,  2.32334034e+00],\n",
       "       [ 4.35786406e+00,  6.68629666e-02,  3.65123876e+00],\n",
       "       [ 2.95821075e-03,  7.97389369e-02,  3.76781020e+00],\n",
       "       [ 2.03054743e+00,  3.81385315e+00,  3.74419327e+00],\n",
       "       [ 6.35556718e+00,  1.22629573e+00,  4.09936597e-01],\n",
       "       [ 9.29808158e-02, -2.56302430e+00,  4.61169664e-01],\n",
       "       [ 4.33879386e+00, -2.45201918e+00,  3.56523782e-01],\n",
       "       [-2.24436882e+00,  1.22629573e+00,  4.09936597e-01],\n",
       "       [-5.68551842e-02,  5.01853470e+00,  4.61169664e-01],\n",
       "       [ 4.18895786e+00,  5.12953982e+00,  3.56523782e-01],\n",
       "       [ 7.13650679e-02,  2.39044444e-03, -3.63129677e+00],\n",
       "       [ 2.10629658e+00,  3.72708284e+00, -3.62351453e+00],\n",
       "       [ 4.25789626e+00, -4.49311684e-02, -3.66240771e+00],\n",
       "       [-2.07677063e+00, -1.21333062e+00, -3.91615911e-01],\n",
       "       [ 6.34091473e+00,  3.82690611e+00,  1.10451936e+00],\n",
       "       [ 2.17907398e+00, -1.16490023e+00,  4.87823829e+00],\n",
       "       [ 6.36835960e+00,  1.16925903e+00, -2.25800197e+00],\n",
       "       [ 2.23004469e+00, -3.77883054e+00,  1.14636690e+00],\n",
       "       [ 1.21894331e-01, -2.54981986e+00, -2.29781388e+00],\n",
       "       [ 2.06310522e+00,  1.38511056e+00,  5.52421810e+00],\n",
       "       [-2.23157640e+00,  1.16925903e+00, -2.25800197e+00],\n",
       "       [-2.25902127e+00,  3.82690611e+00,  1.10451936e+00],\n",
       "       [ 4.24059701e+00,  2.59153217e+00,  4.89057819e+00],\n",
       "       [ 6.52316537e+00, -1.21333062e+00, -3.91615911e-01],\n",
       "       [-2.79416690e-02,  5.03173914e+00, -2.29781388e+00],\n",
       "       [-5.64512200e-02,  2.63326099e+00,  4.91606862e+00],\n",
       "       [ 4.15895884e+00,  5.07481007e+00, -2.34110258e+00],\n",
       "       [ 4.30879484e+00, -2.50674893e+00, -2.34110258e+00],\n",
       "       [-2.05868143e+00, -1.22203675e+00,  2.36367467e+00],\n",
       "       [ 2.05790602e+00,  6.37429556e+00, -4.45371000e-01],\n",
       "       [ 6.38559652e+00,  3.80151473e+00, -1.08863062e+00],\n",
       "       [-2.21433948e+00,  3.80151473e+00, -1.08863062e+00],\n",
       "       [ 2.25445213e+00, -3.83061431e+00, -1.11900297e+00],\n",
       "       [ 2.15071864e+00,  1.18362910e+00, -4.91945533e+00],\n",
       "       [ 1.99404923e+00,  6.30903510e+00,  2.31739558e+00],\n",
       "       [ 6.54125457e+00, -1.22203675e+00,  2.36367467e+00],\n",
       "       [ 6.30648889e+00,  3.77729835e+00,  3.69775204e+00],\n",
       "       [ 2.18038343e+00, -3.76770585e+00,  3.74419327e+00],\n",
       "       [-2.29344711e+00,  3.77729835e+00,  3.69775204e+00],\n",
       "       [-2.44129294e-02,  1.69465002e-01,  6.37691360e+00],\n",
       "       [-2.19839809e+00,  3.76143777e+00, -3.62958540e+00],\n",
       "       [ 6.40153791e+00,  3.76143777e+00, -3.62958540e+00],\n",
       "       [-4.91534927e-02,  2.45330534e+00, -5.56116571e+00],\n",
       "       [ 2.02598226e+00,  3.84986131e+00,  6.39690963e+00],\n",
       "       [ 0.00000000e+00,  0.00000000e+00,  0.00000000e+00],\n",
       "       [ 0.00000000e+00,  0.00000000e+00,  0.00000000e+00],\n",
       "       [ 0.00000000e+00,  0.00000000e+00,  0.00000000e+00],\n",
       "       [ 0.00000000e+00,  0.00000000e+00,  0.00000000e+00],\n",
       "       [ 0.00000000e+00,  0.00000000e+00,  0.00000000e+00],\n",
       "       [ 0.00000000e+00,  0.00000000e+00,  0.00000000e+00],\n",
       "       [ 0.00000000e+00,  0.00000000e+00,  0.00000000e+00],\n",
       "       [ 0.00000000e+00,  0.00000000e+00,  0.00000000e+00],\n",
       "       [ 0.00000000e+00,  0.00000000e+00,  0.00000000e+00],\n",
       "       [ 0.00000000e+00,  0.00000000e+00,  0.00000000e+00],\n",
       "       [ 0.00000000e+00,  0.00000000e+00,  0.00000000e+00],\n",
       "       [ 0.00000000e+00,  0.00000000e+00,  0.00000000e+00]])"
      ]
     },
     "execution_count": 5,
     "metadata": {},
     "output_type": "execute_result"
    }
   ],
   "source": [
    "neighbors_v1.key_nbr_coords[0]"
   ]
  },
  {
   "cell_type": "code",
   "execution_count": 6,
   "metadata": {},
   "outputs": [
    {
     "data": {
      "text/plain": [
       "array([[ 3., 14.,  3., ...,  0.,  0.,  0.],\n",
       "       [ 3., 14.,  3., ...,  0.,  0.,  0.],\n",
       "       [ 3., 14.,  3., ...,  0.,  0.,  0.],\n",
       "       ...,\n",
       "       [14., 14.,  3., ...,  0.,  0.,  0.],\n",
       "       [14., 14.,  3., ...,  0.,  0.,  0.],\n",
       "       [14., 14.,  3., ...,  0.,  0.,  0.]])"
      ]
     },
     "execution_count": 6,
     "metadata": {},
     "output_type": "execute_result"
    }
   ],
   "source": [
    "### Print atomic number of neighbor atoms for all central atom in `DStructure`\n",
    "neighbors_v1.key_nbr_atomic_numbers"
   ]
  },
  {
   "cell_type": "code",
   "execution_count": null,
   "metadata": {},
   "outputs": [],
   "source": []
  }
 ],
 "metadata": {
  "kernelspec": {
   "display_name": "mlff",
   "language": "python",
   "name": "python3"
  },
  "language_info": {
   "codemirror_mode": {
    "name": "ipython",
    "version": 3
   },
   "file_extension": ".py",
   "mimetype": "text/x-python",
   "name": "python",
   "nbconvert_exporter": "python",
   "pygments_lexer": "ipython3",
   "version": "3.8.16"
  },
  "orig_nbformat": 4
 },
 "nbformat": 4,
 "nbformat_minor": 2
}
