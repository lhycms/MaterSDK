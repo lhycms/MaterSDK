{
 "cells": [
  {
   "attachments": {},
   "cell_type": "markdown",
   "metadata": {},
   "source": [
    "# Introduction\n",
    "1. We have two `class` to extract the information neighbors from center atoms, they are all derived class of `StructureNeighborsBase`\n",
    "    1. `matersdk.io.publicLayer.neigh.StructureNeighborsV1`: Use `NearestNeighbors` in `sklearn`\n",
    "    2. `matersdk.io.publicLayer.neigh.StructureNeighborsV2`: Implemet custom `NearestNeighbors`\n",
    "    3. Now `StructureNeighborsV2` is much faster than `StructureNeighborsV1`"
   ]
  },
  {
   "cell_type": "code",
   "execution_count": 7,
   "metadata": {},
   "outputs": [],
   "source": [
    "from timeit import default_timer as timer\n",
    "from matersdk.io.publicLayer.structure import DStructure\n",
    "from matersdk.io.publicLayer.neigh import StructureNeighborUtils\n",
    "from matersdk.io.publicLayer.neigh import StructureNeighborsDescriptor"
   ]
  },
  {
   "attachments": {},
   "cell_type": "markdown",
   "metadata": {},
   "source": [
    "# 0. Some utils to get information of structure neighbors-- `matersdk.io.publicLayer.neigh.StructureNeighborUtils`"
   ]
  },
  {
   "attachments": {},
   "cell_type": "markdown",
   "metadata": {},
   "source": [
    "## 0.1. Get `max_nbrs_num_real`"
   ]
  },
  {
   "cell_type": "code",
   "execution_count": 8,
   "metadata": {},
   "outputs": [
    {
     "name": "stdout",
     "output_type": "stream",
     "text": [
      "1. max_num_nbrs_real of this structure is :  12\n"
     ]
    }
   ],
   "source": [
    "atom_config_path = \"/data/home/liuhanyu/hyliu/code/matersdk/demo/structure/atom.config\"\n",
    "scaling_matrix = [5, 5, 1]\n",
    "rcut = 3.2\n",
    "coords_are_cartesian = True\n",
    "\n",
    "structure = DStructure.from_file(file_format=\"pwmat\", file_path=atom_config_path)\n",
    "max_num_nbrs_real = StructureNeighborUtils.get_max_num_nbrs_real(\n",
    "                        structure=structure,\n",
    "                        scaling_matrix=scaling_matrix,\n",
    "                        rcut=rcut,\n",
    "                        coords_are_cartesian=coords_are_cartesian)\n",
    "print(\"1. max_num_nbrs_real of this structure is : \", max_num_nbrs_real)"
   ]
  },
  {
   "attachments": {},
   "cell_type": "markdown",
   "metadata": {},
   "source": [
    "# 1. Demo for `StructureNeighborsV1`\n",
    "1. Running time: 1.66 s"
   ]
  },
  {
   "cell_type": "code",
   "execution_count": 3,
   "metadata": {},
   "outputs": [
    {
     "name": "stdout",
     "output_type": "stream",
     "text": [
      "\t1.1. The number of atoms in primitive cell:\t 12\n",
      "\t1.2. The shape of key_nbr_atomic_numbers:\t (12, 200)\n",
      "\t1.3. The shape of key_nbr_distances:\t (12, 200)\n",
      "\t1.4. The shape of key_nbr_coords:\t (12, 200, 3)\n",
      "Running time: 1.6804661779897287 s\n"
     ]
    }
   ],
   "source": [
    "atom_config_path = \"/data/home/liuhanyu/hyliu/code/matersdk/demo/structure/atom.config\"\n",
    "scaling_matrix = [5, 5, 1]  # Expand the primitive cell to process pbc\n",
    "reformat_mark = True    # Resort the atoms according to atomic number after expanding to supercell\n",
    "n_neighbors = 200   # The total number of all kinds of atoms. You'd better set it larger than `max_num_nbr`(usually 100) in `DeepPot-SE`\n",
    "algorithm = \"ball_tree\" # The algorithm for `sklearn.NearestNerghbors`\n",
    "coords_are_cartesian = True # Use cartesian coordinates to find neighbors\n",
    "\n",
    "_start = timer()\n",
    "structure = DStructure.from_file(file_format=\"pwmat\", file_path=atom_config_path)\n",
    "struct_neighbors = StructureNeighborsDescriptor.create(\n",
    "                    'v1',\n",
    "                    structure=structure,\n",
    "                    scaling_matrix=scaling_matrix,\n",
    "                    reformat_mark=reformat_mark,\n",
    "                    coords_are_cartesian=coords_are_cartesian,\n",
    "                    n_neighbors=n_neighbors,\n",
    "                    algorithm=algorithm)\n",
    "_end = timer()\n",
    "\n",
    "print(\"\\t1.1. The number of atoms in primitive cell:\\t\", len(struct_neighbors.structure.species))\n",
    "print(\"\\t1.2. The shape of key_nbr_atomic_numbers:\\t\", struct_neighbors.key_nbr_atomic_numbers.shape)\n",
    "print(\"\\t1.3. The shape of key_nbr_distances:\\t\", struct_neighbors.key_nbr_distances.shape)\n",
    "print(\"\\t1.4. The shape of key_nbr_coords:\\t\", struct_neighbors.key_nbr_coords.shape)\n",
    "print(\"Running time: {0} s\".format(_end-_start))"
   ]
  },
  {
   "attachments": {},
   "cell_type": "markdown",
   "metadata": {},
   "source": [
    "# 2. Demo for `StructureNeighborsV2`\n",
    "1. Running time: 0.037 s"
   ]
  },
  {
   "cell_type": "code",
   "execution_count": 4,
   "metadata": {},
   "outputs": [
    {
     "name": "stdout",
     "output_type": "stream",
     "text": [
      "\t1.1. The number of atoms in primitive cell:\t 12\n",
      "\t1.2. The shape of key_nbr_atomic_numbers:\t (12, 200)\n",
      "\t1.3. The shape of key_nbr_distances:\t (12, 200)\n",
      "\t1.4. The shape of key_nbr_coords:\t (12, 200, 3)\n",
      "Running time: 0.025744684971868992 s\n"
     ]
    }
   ],
   "source": [
    "atom_config_path = \"/data/home/liuhanyu/hyliu/code/matersdk/demo/structure/atom.config\"\n",
    "scaling_matrix = [5, 5, 1]  # Expand the primitive cell to process pbd\n",
    "reformat_mark = True    # Resort the atoms according to atomic number after expanding to supercell\n",
    "n_neighbors = 200   # The total number of all kinds of atoms. You'd better set it larger than `max_num_nbr`(usually 100) in `DeepPot-SE`\n",
    "coords_are_cartesian = True # Use cartesian coordinates to find neighbors\n",
    "\n",
    "_start = timer()\n",
    "structure = DStructure.from_file(file_format=\"pwmat\", file_path=atom_config_path)\n",
    "struct_neighbors = StructureNeighborsDescriptor.create(\n",
    "                    'v2',\n",
    "                    structure=structure,\n",
    "                    scaling_matrix=scaling_matrix,\n",
    "                    reformat_mark=reformat_mark,\n",
    "                    coords_are_cartesian=coords_are_cartesian,\n",
    "                    n_neighbors=n_neighbors)\n",
    "_end = timer()\n",
    "\n",
    "print(\"\\t1.1. The number of atoms in primitive cell:\\t\", len(struct_neighbors.structure.species))\n",
    "print(\"\\t1.2. The shape of key_nbr_atomic_numbers:\\t\", struct_neighbors.key_nbr_atomic_numbers.shape)\n",
    "print(\"\\t1.3. The shape of key_nbr_distances:\\t\", struct_neighbors.key_nbr_distances.shape)\n",
    "print(\"\\t1.4. The shape of key_nbr_coords:\\t\", struct_neighbors.key_nbr_coords.shape)\n",
    "print(\"Running time: {0} s\".format(_end-_start))"
   ]
  },
  {
   "attachments": {},
   "cell_type": "markdown",
   "metadata": {},
   "source": [
    "# 3. Demo for `StructureNeighborsV3`"
   ]
  },
  {
   "attachments": {},
   "cell_type": "markdown",
   "metadata": {},
   "source": [
    "## 3.1. If you don't specify the `max_nbrs_num` (`max_nbrs_num=False`).\n",
    "1. The `max_nbrs_num = max_nbrs_num_real+1`"
   ]
  },
  {
   "cell_type": "code",
   "execution_count": 5,
   "metadata": {},
   "outputs": [
    {
     "name": "stdout",
     "output_type": "stream",
     "text": [
      "\n",
      "Step 1. primitive_cell 中原子的近邻原子情况:\n",
      "\t1.1. The number of atoms in primitive cell:\t 12\n",
      "\t1.2. The shape of key_nbr_species:\t (12, 13)\n",
      "\t1.3. The shape of key_nbr_distances:\t (12, 13)\n",
      "\t1.4. The shape of key_nbr_coords:\t (12, 13, 3)\n",
      "Running time: 0.014387373114004731 s\n"
     ]
    }
   ],
   "source": [
    "atom_config_path = \"/data/home/liuhanyu/hyliu/code/matersdk/demo/structure/atom.config\"\n",
    "scaling_matrix = [3, 3, 1]\n",
    "reformat_mark = True\n",
    "rcut = 3.2\n",
    "coords_are_cartesian = True   \n",
    "\n",
    "\n",
    "_start = timer()\n",
    "structure = DStructure.from_file(file_format=\"pwmat\", file_path=atom_config_path)\n",
    "neighbors_v3 = StructureNeighborsDescriptor.create(\n",
    "                    'v3',\n",
    "                    structure=structure,\n",
    "                    scaling_matrix=scaling_matrix,\n",
    "                    reformat_mark=reformat_mark,\n",
    "                    coords_are_cartesian=coords_are_cartesian,\n",
    "                    rcut=rcut)\n",
    "_end = timer()\n",
    "\n",
    "\n",
    "print()\n",
    "print(\"Step 1. primitive_cell 中原子的近邻原子情况:\")\n",
    "key_nbr_species, key_nbr_distances, key_nbr_coords = \\\n",
    "            neighbors_v3._get_key_neighs_info(\n",
    "                            scaling_matrix=scaling_matrix,\n",
    "                            rcut=rcut,\n",
    "                            coords_are_cartesian=coords_are_cartesian)\n",
    "print(\"\\t1.1. The number of atoms in primitive cell:\\t\", len(neighbors_v3.structure.species))\n",
    "print(\"\\t1.2. The shape of key_nbr_species:\\t\", key_nbr_species.shape)\n",
    "print(\"\\t1.3. The shape of key_nbr_distances:\\t\", key_nbr_distances.shape)\n",
    "print(\"\\t1.4. The shape of key_nbr_coords:\\t\", key_nbr_coords.shape)\n",
    "\n",
    "print(\"Running time: {0} s\".format(_end-_start))"
   ]
  },
  {
   "attachments": {},
   "cell_type": "markdown",
   "metadata": {},
   "source": [
    "## 3.2. If you specify the `max_nbrs_num` (`max_nbrs_num=int`).\n",
    "1. The `max_nbrs_num = max_nbrs_num`\n",
    "2. Note: Including center atom self."
   ]
  },
  {
   "cell_type": "code",
   "execution_count": 6,
   "metadata": {},
   "outputs": [
    {
     "name": "stdout",
     "output_type": "stream",
     "text": [
      "\n",
      "Step 1. primitive_cell 中原子的近邻原子情况:\n",
      "\t1.1. The number of atoms in primitive cell:\t 12\n",
      "\t1.2. The shape of key_nbr_species:\t (12, 44)\n",
      "\t1.3. The shape of key_nbr_distances:\t (12, 44)\n",
      "\t1.4. The shape of key_nbr_coords:\t (12, 44, 3)\n",
      "Running time: 0.013317600940354168 s\n"
     ]
    }
   ],
   "source": [
    "atom_config_path = \"/data/home/liuhanyu/hyliu/code/matersdk/demo/structure/atom.config\"\n",
    "scaling_matrix = [3, 3, 1]\n",
    "reformat_mark = True\n",
    "rcut = 3.2\n",
    "max_nbrs_num = 44\n",
    "coords_are_cartesian = True   \n",
    "\n",
    "\n",
    "_start = timer()\n",
    "structure = DStructure.from_file(file_format=\"pwmat\", file_path=atom_config_path)\n",
    "neighbors_v3 = StructureNeighborsDescriptor.create(\n",
    "                    'v3',\n",
    "                    structure=structure,\n",
    "                    scaling_matrix=scaling_matrix,\n",
    "                    reformat_mark=reformat_mark,\n",
    "                    coords_are_cartesian=coords_are_cartesian,\n",
    "                    rcut=rcut,\n",
    "                    max_nbrs_num=max_nbrs_num\n",
    "                    )\n",
    "_end = timer()\n",
    "\n",
    "\n",
    "print()\n",
    "print(\"Step 1. primitive_cell 中原子的近邻原子情况:\")\n",
    "key_nbr_species, key_nbr_distances, key_nbr_coords = \\\n",
    "            neighbors_v3._get_key_neighs_info(\n",
    "                            scaling_matrix=scaling_matrix,\n",
    "                            rcut=rcut,\n",
    "                            coords_are_cartesian=coords_are_cartesian)\n",
    "print(\"\\t1.1. The number of atoms in primitive cell:\\t\", len(neighbors_v3.structure.species))\n",
    "print(\"\\t1.2. The shape of key_nbr_species:\\t\", key_nbr_species.shape)\n",
    "print(\"\\t1.3. The shape of key_nbr_distances:\\t\", key_nbr_distances.shape)\n",
    "print(\"\\t1.4. The shape of key_nbr_coords:\\t\", key_nbr_coords.shape)\n",
    "\n",
    "print(\"Running time: {0} s\".format(_end-_start))"
   ]
  },
  {
   "cell_type": "code",
   "execution_count": null,
   "metadata": {},
   "outputs": [],
   "source": []
  }
 ],
 "metadata": {
  "kernelspec": {
   "display_name": "mlff",
   "language": "python",
   "name": "python3"
  },
  "language_info": {
   "codemirror_mode": {
    "name": "ipython",
    "version": 3
   },
   "file_extension": ".py",
   "mimetype": "text/x-python",
   "name": "python",
   "nbconvert_exporter": "python",
   "pygments_lexer": "ipython3",
   "version": "3.8.16"
  },
  "orig_nbformat": 4
 },
 "nbformat": 4,
 "nbformat_minor": 2
}
