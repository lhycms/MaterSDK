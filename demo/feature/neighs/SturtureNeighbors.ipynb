{
 "cells": [
  {
   "attachments": {},
   "cell_type": "markdown",
   "metadata": {},
   "source": [
    "# 0. Introduction\n",
    "1. We have two `class` to extract the information neighbors from center atoms, they are all derived class of `StructureNeighborsBase`\n",
    "    1. `matersdk.io.publicLayer.neigh.StructureNeighborsV1`: Use `NearestNeighbors` in `sklearn`\n",
    "    2. `matersdk.io.publicLayer.neigh.StructureNeighborsV2`: Implemet custom `NearestNeighbors`\n",
    "    3. Now `StructureNeighborsV2` is much faster than `StructureNeighborsV1`"
   ]
  },
  {
   "cell_type": "code",
   "execution_count": 1,
   "metadata": {},
   "outputs": [],
   "source": [
    "from timeit import default_timer as timer\n",
    "from matersdk.io.publicLayer.structure import DStructure\n",
    "from matersdk.io.publicLayer.neigh import StructureNeighborsDescriptor"
   ]
  },
  {
   "attachments": {},
   "cell_type": "markdown",
   "metadata": {},
   "source": [
    "# 1. Demo for `StructureNeighborsV1`\n",
    "1. Running time: 1.66 s"
   ]
  },
  {
   "cell_type": "code",
   "execution_count": 2,
   "metadata": {},
   "outputs": [
    {
     "name": "stdout",
     "output_type": "stream",
     "text": [
      "\t1.1. The number of atoms in primitive cell:\t 12\n",
      "\t1.2. The shape of key_nbr_atomic_numbers:\t (12, 200)\n",
      "\t1.3. The shape of key_nbr_distances:\t (12, 200)\n",
      "\t1.4. The shape of key_nbr_coords:\t (12, 200, 3)\n",
      "Running time: 1.6094769388437271 s\n"
     ]
    }
   ],
   "source": [
    "atom_config_path = \"/data/home/liuhanyu/hyliu/code/matersdk/demo/structure/atom.config\"\n",
    "scaling_matrix = [5, 5, 1]  # Expand the primitive cell to process pbc\n",
    "reformat_mark = True    # Resort the atoms according to atomic number after expanding to supercell\n",
    "n_neighbors = 200   # The total number of all kinds of atoms. You'd better set it larger than `max_num_nbr`(usually 100) in `DeepPot-SE`\n",
    "algorithm = \"ball_tree\" # The algorithm for `sklearn.NearestNerghbors`\n",
    "coords_are_cartesian = True # Use cartesian coordinates to find neighbors\n",
    "\n",
    "_start = timer()\n",
    "structure = DStructure.from_file(file_format=\"pwmat\", file_path=atom_config_path)\n",
    "struct_neighbors = StructureNeighborsDescriptor.create(\n",
    "                    'v1',\n",
    "                    structure=structure,\n",
    "                    scaling_matrix=scaling_matrix,\n",
    "                    reformat_mark=reformat_mark,\n",
    "                    coords_are_cartesian=coords_are_cartesian,\n",
    "                    n_neighbors=n_neighbors,\n",
    "                    algorithm=algorithm)\n",
    "_end = timer()\n",
    "\n",
    "print(\"\\t1.1. The number of atoms in primitive cell:\\t\", len(struct_neighbors.structure.species))\n",
    "print(\"\\t1.2. The shape of key_nbr_atomic_numbers:\\t\", struct_neighbors.key_nbr_atomic_numbers.shape)\n",
    "print(\"\\t1.3. The shape of key_nbr_distances:\\t\", struct_neighbors.key_nbr_distances.shape)\n",
    "print(\"\\t1.4. The shape of key_nbr_coords:\\t\", struct_neighbors.key_nbr_coords.shape)\n",
    "print(\"Running time: {0} s\".format(_end-_start))"
   ]
  },
  {
   "attachments": {},
   "cell_type": "markdown",
   "metadata": {},
   "source": [
    "# 2. Demo for `StructureNeighborsV2`\n",
    "1. Running time: 0.037 s"
   ]
  },
  {
   "cell_type": "code",
   "execution_count": 3,
   "metadata": {},
   "outputs": [
    {
     "name": "stdout",
     "output_type": "stream",
     "text": [
      "\t1.1. The number of atoms in primitive cell:\t 12\n",
      "\t1.2. The shape of key_nbr_atomic_numbers:\t (12, 200)\n",
      "\t1.3. The shape of key_nbr_distances:\t (12, 200)\n",
      "\t1.4. The shape of key_nbr_coords:\t (12, 200, 3)\n",
      "Running time: 0.034351348876953125 s\n"
     ]
    }
   ],
   "source": [
    "atom_config_path = \"/data/home/liuhanyu/hyliu/code/matersdk/demo/structure/atom.config\"\n",
    "scaling_matrix = [5, 5, 1]  # Expand the primitive cell to process pbd\n",
    "reformat_mark = True    # Resort the atoms according to atomic number after expanding to supercell\n",
    "n_neighbors = 200   # The total number of all kinds of atoms. You'd better set it larger than `max_num_nbr`(usually 100) in `DeepPot-SE`\n",
    "coords_are_cartesian = True # Use cartesian coordinates to find neighbors\n",
    "\n",
    "_start = timer()\n",
    "structure = DStructure.from_file(file_format=\"pwmat\", file_path=atom_config_path)\n",
    "struct_neighbors = StructureNeighborsDescriptor.create(\n",
    "                    'v2',\n",
    "                    structure=structure,\n",
    "                    scaling_matrix=scaling_matrix,\n",
    "                    reformat_mark=reformat_mark,\n",
    "                    coords_are_cartesian=coords_are_cartesian,\n",
    "                    n_neighbors=n_neighbors)\n",
    "_end = timer()\n",
    "\n",
    "print(\"\\t1.1. The number of atoms in primitive cell:\\t\", len(struct_neighbors.structure.species))\n",
    "print(\"\\t1.2. The shape of key_nbr_atomic_numbers:\\t\", struct_neighbors.key_nbr_atomic_numbers.shape)\n",
    "print(\"\\t1.3. The shape of key_nbr_distances:\\t\", struct_neighbors.key_nbr_distances.shape)\n",
    "print(\"\\t1.4. The shape of key_nbr_coords:\\t\", struct_neighbors.key_nbr_coords.shape)\n",
    "print(\"Running time: {0} s\".format(_end-_start))"
   ]
  },
  {
   "attachments": {},
   "cell_type": "markdown",
   "metadata": {},
   "source": [
    "# 3. Demo for `StructureNeighborsV3`\n",
    "1. Running time: 0.007814742624759674 s"
   ]
  },
  {
   "cell_type": "code",
   "execution_count": 7,
   "metadata": {},
   "outputs": [
    {
     "name": "stdout",
     "output_type": "stream",
     "text": [
      "\n",
      "Step 1. 在截断半径 3.2 内，最大近邻原子数为:\t13\n",
      "\n",
      "Step 2. primitive_cell 中原子的近邻原子情况:\n",
      "\t1.1. The number of atoms in primitive cell:\t 12\n",
      "\t1.2. The shape of key_nbr_species:\t (12, 13)\n",
      "\t1.3. The shape of key_nbr_distances:\t (12, 13)\n",
      "\t1.4. The shape of key_nbr_coords:\t (12, 13, 3)\n",
      "Running time: 0.007814742624759674 s\n"
     ]
    }
   ],
   "source": [
    "atom_config_path = \"/data/home/liuhanyu/hyliu/code/matersdk/demo/structure/atom.config\"\n",
    "scaling_matrix = [3, 3, 1]\n",
    "reformat_mark = True\n",
    "rcut = 3.2\n",
    "coords_are_cartesian = True   \n",
    "\n",
    "\n",
    "_start = timer()\n",
    "structure = DStructure.from_file(file_format=\"pwmat\", file_path=atom_config_path)\n",
    "neighbors_v3 = StructureNeighborsDescriptor.create(\n",
    "                    'v3',\n",
    "                    structure=structure,\n",
    "                    scaling_matrix=scaling_matrix,\n",
    "                    reformat_mark=reformat_mark,\n",
    "                    coords_are_cartesian=coords_are_cartesian,\n",
    "                    rcut=rcut)\n",
    "_end = timer()\n",
    "\n",
    "\n",
    "### Step 1.\n",
    "print()\n",
    "print(\"Step 1. 在截断半径 {0} 内，最大近邻原子数为:\".format(rcut), end=\"\\t\")\n",
    "print(neighbors_v3.get_max_num_nbrs(\n",
    "            scaling_matrix=scaling_matrix,\n",
    "            rcut=rcut,\n",
    "            coords_are_cartesian=coords_are_cartesian)\n",
    ")\n",
    "\n",
    "print()\n",
    "print(\"Step 2. primitive_cell 中原子的近邻原子情况:\")\n",
    "key_nbr_species, key_nbr_distances, key_nbr_coords = \\\n",
    "            neighbors_v3._get_key_neighs_info(\n",
    "                            scaling_matrix=scaling_matrix,\n",
    "                            rcut=rcut,\n",
    "                            coords_are_cartesian=coords_are_cartesian)\n",
    "print(\"\\t1.1. The number of atoms in primitive cell:\\t\", len(neighbors_v3.structure.species))\n",
    "print(\"\\t1.2. The shape of key_nbr_species:\\t\", key_nbr_species.shape)\n",
    "print(\"\\t1.3. The shape of key_nbr_distances:\\t\", key_nbr_distances.shape)\n",
    "print(\"\\t1.4. The shape of key_nbr_coords:\\t\", key_nbr_coords.shape)\n",
    "\n",
    "print(\"Running time: {0} s\".format(_end-_start))"
   ]
  },
  {
   "cell_type": "code",
   "execution_count": null,
   "metadata": {},
   "outputs": [],
   "source": []
  }
 ],
 "metadata": {
  "kernelspec": {
   "display_name": "mlff",
   "language": "python",
   "name": "python3"
  },
  "language_info": {
   "codemirror_mode": {
    "name": "ipython",
    "version": 3
   },
   "file_extension": ".py",
   "mimetype": "text/x-python",
   "name": "python",
   "nbconvert_exporter": "python",
   "pygments_lexer": "ipython3",
   "version": "3.8.16"
  },
  "orig_nbformat": 4
 },
 "nbformat": 4,
 "nbformat_minor": 2
}
