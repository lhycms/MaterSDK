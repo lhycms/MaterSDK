{
 "cells": [
  {
   "attachments": {},
   "cell_type": "markdown",
   "metadata": {},
   "source": [
    "# Introduction\n",
    "1. We have two `class` to extract the information neighbors from center atoms, they are all derived class of `StructureNeighborsBase`\n",
    "    1. `matersdk.io.publicLayer.neigh.StructureNeighborsV1`"
   ]
  },
  {
   "cell_type": "code",
   "execution_count": 1,
   "metadata": {},
   "outputs": [],
   "source": [
    "from timeit import default_timer as timer\n",
    "from matersdk.io.publicLayer.structure import DStructure\n",
    "from matersdk.io.publicLayer.neigh import StructureNeighborsUtils\n",
    "from matersdk.io.publicLayer.neigh import StructureNeighborsDescriptor"
   ]
  },
  {
   "attachments": {},
   "cell_type": "markdown",
   "metadata": {},
   "source": [
    "# 0. Some utils to get information of structure neighbors-- `matersdk.io.publicLayer.neigh.StructureNeighborUtils`"
   ]
  },
  {
   "attachments": {},
   "cell_type": "markdown",
   "metadata": {},
   "source": [
    "## 0.1. Get `max_nbrs_num_real`"
   ]
  },
  {
   "cell_type": "code",
   "execution_count": 2,
   "metadata": {},
   "outputs": [
    {
     "name": "stdout",
     "output_type": "stream",
     "text": [
      "1. `max_num_nbrs_real` within rcut(3.2) of this structure is : 12\n"
     ]
    }
   ],
   "source": [
    "atom_config_path = \"/data/home/liuhanyu/hyliu/code/matersdk/demo/structure/atom.config\"\n",
    "scaling_matrix = [5, 5, 1]\n",
    "rcut = 3.2\n",
    "coords_are_cartesian = True\n",
    "\n",
    "structure = DStructure.from_file(file_format=\"pwmat\", file_path=atom_config_path)\n",
    "max_num_nbrs_real = StructureNeighborsUtils.get_max_num_nbrs_real(\n",
    "                        structure=structure,\n",
    "                        rcut=rcut,\n",
    "                        scaling_matrix=scaling_matrix,\n",
    "                        coords_are_cartesian=coords_are_cartesian)\n",
    "print(\"1. `max_num_nbrs_real` within rcut({0}) of this structure is : {1}\".format(rcut, max_num_nbrs_real))"
   ]
  },
  {
   "attachments": {},
   "cell_type": "markdown",
   "metadata": {},
   "source": [
    "## 0.2. Get `max_nbrs_num_real_element`"
   ]
  },
  {
   "cell_type": "code",
   "execution_count": 3,
   "metadata": {},
   "outputs": [
    {
     "name": "stdout",
     "output_type": "stream",
     "text": [
      "1. `max_num_nbrs_real` within rcut(3.2) of this structure is : {'Mo': 6, 'S': 7}\n"
     ]
    }
   ],
   "source": [
    "atom_config_path = \"/data/home/liuhanyu/hyliu/code/matersdk/demo/structure/atom.config\"\n",
    "scaling_matrix = [5, 5, 1]\n",
    "rcut = 3.2\n",
    "coords_are_cartesian = True\n",
    "\n",
    "structure = DStructure.from_file(file_format=\"pwmat\", file_path=atom_config_path)\n",
    "max_num_nbrs_real = StructureNeighborsUtils.get_max_num_nbrs_real_element(\n",
    "                        structure=structure,\n",
    "                        rcut=rcut,\n",
    "                        nbr_elements=[\"Mo\", \"S\"],\n",
    "                        scaling_matrix=scaling_matrix,\n",
    "                        coords_are_cartesian=coords_are_cartesian)\n",
    "print(\"1. `max_num_nbrs_real` within rcut({0}) of this structure is : {1}\".format(rcut, max_num_nbrs_real))"
   ]
  },
  {
   "attachments": {},
   "cell_type": "markdown",
   "metadata": {},
   "source": [
    "# 1. Demo for `StructureNeighborsV1`"
   ]
  },
  {
   "cell_type": "code",
   "execution_count": 4,
   "metadata": {},
   "outputs": [
    {
     "name": "stdout",
     "output_type": "stream",
     "text": [
      "\n",
      "Step 1. primitive_cell 中原子的近邻原子情况:\n",
      "\t1.1. The number of atoms in primitive cell:\t 12\n",
      "\t1.2. The shape of key_nbr_species:\t (12, 13)\n",
      "\t1.3. The shape of key_nbr_distances:\t (12, 13)\n",
      "\t1.4. The shape of key_nbr_coords:\t (12, 13, 3)\n",
      "Running time: 0.006531250663101673 s\n"
     ]
    }
   ],
   "source": [
    "atom_config_path = \"/data/home/liuhanyu/hyliu/code/matersdk/demo/structure/atom.config\"\n",
    "scaling_matrix = [3, 3, 1]\n",
    "reformat_mark = True\n",
    "coords_are_cartesian = True\n",
    "rcut = 3.2\n",
    "\n",
    "\n",
    "_start = timer()\n",
    "structure = DStructure.from_file(file_format=\"pwmat\", file_path=atom_config_path)\n",
    "neighbors_v1 = StructureNeighborsDescriptor.create(\n",
    "                    'v1',\n",
    "                    structure=structure,\n",
    "                    rcut=rcut,\n",
    "                    scaling_matrix=scaling_matrix,\n",
    "                    reformat_mark=reformat_mark,\n",
    "                    coords_are_cartesian=coords_are_cartesian)\n",
    "_end = timer()\n",
    "\n",
    "\n",
    "print()\n",
    "print(\"Step 1. primitive_cell 中原子的近邻原子情况:\")\n",
    "print(\"\\t1.1. The number of atoms in primitive cell:\\t\", len(neighbors_v1.structure.species))\n",
    "print(\"\\t1.2. The shape of key_nbr_species:\\t\", neighbors_v1.key_nbr_atomic_numbers.shape)\n",
    "print(\"\\t1.3. The shape of key_nbr_distances:\\t\", neighbors_v1.key_nbr_distances.shape)\n",
    "print(\"\\t1.4. The shape of key_nbr_coords:\\t\", neighbors_v1.key_nbr_coords.shape)\n",
    "\n",
    "print(\"Running time: {0} s\".format(_end-_start))"
   ]
  },
  {
   "cell_type": "code",
   "execution_count": 5,
   "metadata": {},
   "outputs": [
    {
     "data": {
      "text/plain": [
       "array([[16., 42., 42., 42., 16., 16., 16., 16., 16., 16., 16.,  0.,  0.],\n",
       "       [16., 42., 42., 42., 16., 16., 16., 16., 16., 16., 16.,  0.,  0.],\n",
       "       [16., 42., 42., 42., 16., 16., 16., 16., 16., 16., 16.,  0.,  0.],\n",
       "       [16., 42., 42., 42., 16., 16., 16., 16., 16., 16., 16.,  0.,  0.],\n",
       "       [16., 42., 42., 42., 16., 16., 16., 16., 16., 16., 16.,  0.,  0.],\n",
       "       [16., 42., 42., 42., 16., 16., 16., 16., 16., 16., 16.,  0.,  0.],\n",
       "       [16., 42., 42., 42., 16., 16., 16., 16., 16., 16., 16.,  0.,  0.],\n",
       "       [16., 42., 42., 42., 16., 16., 16., 16., 16., 16., 16.,  0.,  0.],\n",
       "       [42., 16., 16., 16., 16., 16., 16., 42., 42., 42., 42., 42., 42.],\n",
       "       [42., 16., 16., 16., 16., 16., 16., 42., 42., 42., 42., 42., 42.],\n",
       "       [42., 16., 16., 16., 16., 16., 16., 42., 42., 42., 42., 42., 42.],\n",
       "       [42., 16., 16., 16., 16., 16., 16., 42., 42., 42., 42., 42., 42.]])"
      ]
     },
     "execution_count": 5,
     "metadata": {},
     "output_type": "execute_result"
    }
   ],
   "source": [
    "### Print atomic number of neighbor atoms for all central atom in `DStructure`\n",
    "neighbors_v1.key_nbr_atomic_numbers"
   ]
  },
  {
   "cell_type": "code",
   "execution_count": null,
   "metadata": {},
   "outputs": [],
   "source": []
  }
 ],
 "metadata": {
  "kernelspec": {
   "display_name": "mlff",
   "language": "python",
   "name": "python3"
  },
  "language_info": {
   "codemirror_mode": {
    "name": "ipython",
    "version": 3
   },
   "file_extension": ".py",
   "mimetype": "text/x-python",
   "name": "python",
   "nbconvert_exporter": "python",
   "pygments_lexer": "ipython3",
   "version": "3.8.16"
  },
  "orig_nbformat": 4
 },
 "nbformat": 4,
 "nbformat_minor": 2
}
