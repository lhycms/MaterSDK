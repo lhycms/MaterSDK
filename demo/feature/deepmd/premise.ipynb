{
 "cells": [
  {
   "attachments": {},
   "cell_type": "markdown",
   "metadata": {},
   "source": [
    "# 0. Introduction\n",
    "1. We write a class called `DpFeaturePairPremise` to extract information for $\\widetilde{R}$ from `StructNeighborsBase`.\n",
    "    - Because deepmd specifies the type of `center_atom` and the type of `nbr_atoms`, so we use name it with `pair`"
   ]
  },
  {
   "cell_type": "code",
   "execution_count": 1,
   "metadata": {},
   "outputs": [],
   "source": [
    "from timeit import default_timer as timer\n",
    "from matersdk.io.publicLayer.structure import DStructure\n",
    "from matersdk.io.publicLayer.neigh import StructureNeighborsDescriptor\n",
    "from matersdk.feature.deepmd.premise import DpFeaturePairPremiseDescriptor\n",
    "import warnings\n",
    "\n",
    "warnings.filterwarnings('ignore')"
   ]
  },
  {
   "attachments": {},
   "cell_type": "markdown",
   "metadata": {},
   "source": [
    "# 1. Demo for `DpFeaturePairPremiseV1`"
   ]
  },
  {
   "cell_type": "code",
   "execution_count": 4,
   "metadata": {},
   "outputs": [
    {
     "name": "stdout",
     "output_type": "stream",
     "text": [
      "1.1. Atomic number -- dp_feature_pair_an.shape:\t(4, 6)\n",
      "\n",
      "1.2. Distance -- dp_feature_pair_d:\t(4, 6)\n",
      "\n",
      "1.3. Coords -- dp_feature_pair_rc:\t(4, 6, 3)\n",
      "\n",
      "\n",
      "\n",
      "Running time : 0.01452708407305181 s\n"
     ]
    }
   ],
   "source": [
    "atom_config_path = \"/data/home/liuhanyu/hyliu/code/matersdk/demo/structure/atom.config\"\n",
    "rcut = 3.2                      # The r_cutoff in `DeepPot-SE`\n",
    "scaling_matrix = [5, 5, 1]  # Expand the primitive cell to process pbc\n",
    "reformat_mark = True    # Resort the atoms according to atomic number after expanding to supercell\n",
    "coords_are_cartesian = True     # Use cartesian coordinates to find neighbors\n",
    "\n",
    "center_atomic_number = 42       # The atomic number of center atom\n",
    "nbr_atomic_number = 42          # The atomic number of neighbor atom\n",
    "\n",
    "_start = timer()\n",
    "structure = DStructure.from_file(file_format=\"pwmat\", file_path=atom_config_path)\n",
    "struct_nbr = StructureNeighborsDescriptor.create(\n",
    "                'v1',\n",
    "                structure=structure,\n",
    "                rcut=rcut,\n",
    "                scaling_matrix=scaling_matrix,\n",
    "                reformat_mark=reformat_mark,\n",
    "                coords_are_cartesian=coords_are_cartesian)\n",
    "dp_feature_pair_premise = DpFeaturePairPremiseDescriptor.create(\n",
    "                                \"v1\",\n",
    "                                structure_neighbors=struct_nbr)\n",
    "\n",
    "dp_feature_pair_an, dp_feature_pair_d, dp_feature_pair_rc = \\\n",
    "        dp_feature_pair_premise.extract_feature_pair(\n",
    "                        center_atomic_number=center_atomic_number,\n",
    "                        nbr_atomic_number=nbr_atomic_number)\n",
    "_end = timer()\n",
    "        \n",
    "print(\"1.1. Atomic number -- dp_feature_pair_an.shape:\", end=\"\\t\")\n",
    "print(dp_feature_pair_an.shape)\n",
    "print()\n",
    "print(\"1.2. Distance -- dp_feature_pair_d:\", end=\"\\t\")\n",
    "print(dp_feature_pair_d.shape)\n",
    "print()\n",
    "print(\"1.3. Coords -- dp_feature_pair_rc:\", end=\"\\t\")\n",
    "print(dp_feature_pair_rc.shape)\n",
    "\n",
    "print(\"\\n\\n\")\n",
    "print(\"Running time : {0} s\".format(_end - _start))"
   ]
  },
  {
   "cell_type": "code",
   "execution_count": 5,
   "metadata": {},
   "outputs": [
    {
     "data": {
      "text/plain": [
       "array([[42., 42., 42., 42., 42., 42.],\n",
       "       [42., 42., 42., 42., 42., 42.],\n",
       "       [42., 42., 42., 42., 42., 42.],\n",
       "       [42., 42., 42., 42., 42., 42.]])"
      ]
     },
     "execution_count": 5,
     "metadata": {},
     "output_type": "execute_result"
    }
   ],
   "source": [
    "dp_feature_pair_an"
   ]
  },
  {
   "cell_type": "code",
   "execution_count": null,
   "metadata": {},
   "outputs": [],
   "source": []
  }
 ],
 "metadata": {
  "kernelspec": {
   "display_name": "mlff",
   "language": "python",
   "name": "python3"
  },
  "language_info": {
   "codemirror_mode": {
    "name": "ipython",
    "version": 3
   },
   "file_extension": ".py",
   "mimetype": "text/x-python",
   "name": "python",
   "nbconvert_exporter": "python",
   "pygments_lexer": "ipython3",
   "version": "3.8.16"
  },
  "orig_nbformat": 4
 },
 "nbformat": 4,
 "nbformat_minor": 2
}
