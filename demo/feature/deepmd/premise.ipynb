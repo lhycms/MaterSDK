{
 "cells": [
  {
   "attachments": {},
   "cell_type": "markdown",
   "metadata": {},
   "source": [
    "# 0. Introduction\n",
    "1. We write a class called `DpFeaturePairPremise` to extract information for $\\widetilde{R}$ from `StructNeighborsBase`.\n",
    "    - Because deepmd specifies the type of `center_atom` and the type of `nbr_atoms`, so we use name it with `pair`"
   ]
  },
  {
   "cell_type": "code",
   "execution_count": 7,
   "metadata": {},
   "outputs": [],
   "source": [
    "from timeit import default_timer as timer\n",
    "from matersdk.io.publicLayer.structure import DStructure\n",
    "from matersdk.io.publicLayer.neigh import StructureNeighborsV2\n",
    "from matersdk.feature.deepmd.premise import DpFeaturePairPremise"
   ]
  },
  {
   "attachments": {},
   "cell_type": "markdown",
   "metadata": {},
   "source": [
    "# 1. Demo for `DpFeaturePairPremise`\n",
    "1. Running time : 0.034893542528152466 s\n",
    "\n",
    "Note\n",
    "----\n",
    "1. 注意区分 `n_neighbors` 和 `max_num_nbrs`:\n",
    "    - `n_neighbors`: 一对多\n",
    "    - `max_num_nbrs`: 一对一"
   ]
  },
  {
   "cell_type": "code",
   "execution_count": 15,
   "metadata": {},
   "outputs": [
    {
     "name": "stdout",
     "output_type": "stream",
     "text": [
      "1.1. Atomic number -- dp_feature_pair_an:\n",
      "[[42. 42. 42. 42. 42. 42.  0.  0.  0.  0.]\n",
      " [42. 42. 42. 42. 42. 42.  0.  0.  0.  0.]\n",
      " [42. 42. 42. 42. 42. 42.  0.  0.  0.  0.]\n",
      " [42. 42. 42. 42. 42. 42.  0.  0.  0.  0.]]\n",
      "\n",
      "1.2. Distance -- dp_feature_pair_d:\n",
      "[[3.19031539 3.19031539 3.19031539 3.19031539 3.19031556 3.19031556\n",
      "  0.         0.         0.         0.        ]\n",
      " [3.19031539 3.19031539 3.19031539 3.19031539 3.19031556 3.19031556\n",
      "  0.         0.         0.         0.        ]\n",
      " [3.19031539 3.19031539 3.19031539 3.19031539 3.19031556 3.19031556\n",
      "  0.         0.         0.         0.        ]\n",
      " [3.19031539 3.19031539 3.19031539 3.19031539 3.19031556 3.19031556\n",
      "  0.         0.         0.         0.        ]]\n",
      "\n",
      "1.3. Coords -- dp_feature_pair_rc:\n",
      "[[[ 3.19031539  0.          0.        ]\n",
      "  [-3.19031539  0.          0.        ]\n",
      "  [-1.59515752  2.76289427  0.        ]\n",
      "  [ 1.59515752 -2.76289427  0.        ]\n",
      "  [ 1.59515787  2.76289427  0.        ]\n",
      "  [-1.59515787 -2.76289427  0.        ]\n",
      "  [ 0.          0.          0.        ]\n",
      "  [ 0.          0.          0.        ]\n",
      "  [ 0.          0.          0.        ]\n",
      "  [ 0.          0.          0.        ]]\n",
      "\n",
      " [[-3.19031539  0.          0.        ]\n",
      "  [ 3.19031539  0.          0.        ]\n",
      "  [-1.59515752  2.76289427  0.        ]\n",
      "  [ 1.59515752 -2.76289427  0.        ]\n",
      "  [ 1.59515787  2.76289427  0.        ]\n",
      "  [-1.59515787 -2.76289427  0.        ]\n",
      "  [ 0.          0.          0.        ]\n",
      "  [ 0.          0.          0.        ]\n",
      "  [ 0.          0.          0.        ]\n",
      "  [ 0.          0.          0.        ]]\n",
      "\n",
      " [[-3.19031539  0.          0.        ]\n",
      "  [ 3.19031539  0.          0.        ]\n",
      "  [ 1.59515752 -2.76289427  0.        ]\n",
      "  [-1.59515752  2.76289427  0.        ]\n",
      "  [-1.59515787 -2.76289427  0.        ]\n",
      "  [ 1.59515787  2.76289427  0.        ]\n",
      "  [ 0.          0.          0.        ]\n",
      "  [ 0.          0.          0.        ]\n",
      "  [ 0.          0.          0.        ]\n",
      "  [ 0.          0.          0.        ]]\n",
      "\n",
      " [[ 3.19031539  0.          0.        ]\n",
      "  [-3.19031539  0.          0.        ]\n",
      "  [ 1.59515752 -2.76289427  0.        ]\n",
      "  [-1.59515752  2.76289427  0.        ]\n",
      "  [-1.59515787 -2.76289427  0.        ]\n",
      "  [ 1.59515787  2.76289427  0.        ]\n",
      "  [ 0.          0.          0.        ]\n",
      "  [ 0.          0.          0.        ]\n",
      "  [ 0.          0.          0.        ]\n",
      "  [ 0.          0.          0.        ]]]\n",
      "\n",
      "\n",
      "\n",
      "Running time : 0.03560169041156769 s\n"
     ]
    }
   ],
   "source": [
    "atom_config_path = \"/data/home/liuhanyu/hyliu/code/pflow/demo/structure/atom.config\"\n",
    "scaling_matrix = [5, 5, 1]  # Expand the primitive cell to process pbc\n",
    "reformat_mark = True    # Resort the atoms according to atomic number after expanding to supercell\n",
    "n_neighbors = 200       # The total number of all kinds of atoms. You'd better set it larger than `max_num_nbr`(usually 100) in `DeepPot-SE`\n",
    "coords_are_cartesian = True     # Use cartesian coordinates to find neighbors\n",
    "\n",
    "center_atomic_number = 42       # The atomic number of center atom\n",
    "nbr_atomic_number = 42          # The atomic number of neighbor atom\n",
    "rcut = 3.2                      # The r_cutoff in `DeepPot-SE`\n",
    "max_num_nbrs = 10               # The max_num_nbrs in `DeepPot-SE`\n",
    "\n",
    "_start = timer()\n",
    "structure = DStructure.from_file(file_format=\"pwmat\", file_path=atom_config_path)\n",
    "struct_nbr = StructureNeighborsV2(\n",
    "                structure=structure,\n",
    "                scaling_matrix=scaling_matrix,\n",
    "                reformat_mark=reformat_mark,\n",
    "                coords_are_cartesian=coords_are_cartesian,\n",
    "                n_neighbors=n_neighbors)\n",
    "dp_feature_pair_premise = DpFeaturePairPremise(structure_neighbors=struct_nbr)\n",
    "\n",
    "dp_feature_pair_an, dp_feature_pair_d, dp_feature_pair_rc = \\\n",
    "        dp_feature_pair_premise.extract_feature_pair(\n",
    "                    center_atomic_number=42,\n",
    "                    nbr_atomic_number=42,\n",
    "                    rcut=3.2,\n",
    "                    max_num_nbrs=10)\n",
    "_end = timer()\n",
    "        \n",
    "print(\"1.1. Atomic number -- dp_feature_pair_an:\")\n",
    "print(dp_feature_pair_an)\n",
    "print()\n",
    "print(\"1.2. Distance -- dp_feature_pair_d:\")\n",
    "print(dp_feature_pair_d)\n",
    "print()\n",
    "print(\"1.3. Coords -- dp_feature_pair_rc:\")\n",
    "print(dp_feature_pair_rc)\n",
    "\n",
    "print(\"\\n\\n\")\n",
    "print(\"Running time : {0} s\".format(_end - _start))"
   ]
  },
  {
   "cell_type": "code",
   "execution_count": null,
   "metadata": {},
   "outputs": [],
   "source": []
  }
 ],
 "metadata": {
  "kernelspec": {
   "display_name": "mlff",
   "language": "python",
   "name": "python3"
  },
  "language_info": {
   "codemirror_mode": {
    "name": "ipython",
    "version": 3
   },
   "file_extension": ".py",
   "mimetype": "text/x-python",
   "name": "python",
   "nbconvert_exporter": "python",
   "pygments_lexer": "ipython3",
   "version": "3.8.16"
  },
  "orig_nbformat": 4
 },
 "nbformat": 4,
 "nbformat_minor": 2
}
