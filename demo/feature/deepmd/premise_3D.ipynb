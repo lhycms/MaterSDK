{
 "cells": [
  {
   "attachments": {},
   "cell_type": "markdown",
   "metadata": {},
   "source": [
    "# 0. Introduction\n",
    "1. We write a class called `DpFeaturePairPremise` to extract information for $\\widetilde{R}$ from `StructNeighborsBase`.\n",
    "    - Because deepmd specifies the type of `center_atom` and the type of `nbr_atoms`, so we use name it with `pair`"
   ]
  },
  {
   "cell_type": "code",
   "execution_count": 1,
   "metadata": {},
   "outputs": [],
   "source": [
    "from timeit import default_timer as timer\n",
    "from matersdk.io.publicLayer.structure import DStructure\n",
    "from matersdk.io.pwmat.output.movement import Movement\n",
    "from matersdk.io.publicLayer.neigh import StructureNeighborsDescriptor\n",
    "from matersdk.feature.deepmd.premise import DpFeaturePairPremiseDescriptor\n",
    "import warnings\n",
    "\n",
    "warnings.filterwarnings('ignore')"
   ]
  },
  {
   "attachments": {},
   "cell_type": "markdown",
   "metadata": {},
   "source": [
    "# 1. Demo for `DpFeaturePairPremiseV1`"
   ]
  },
  {
   "cell_type": "code",
   "execution_count": 2,
   "metadata": {},
   "outputs": [
    {
     "name": "stdout",
     "output_type": "stream",
     "text": [
      "1.1. Atomic number -- dp_feature_pair_an.shape:\t(48, 23)\n",
      "\n",
      "1.2. Distance -- dp_feature_pair_d:\t(48, 23)\n",
      "\n",
      "1.3. Coords -- dp_feature_pair_rc:\t(48, 23, 3)\n"
     ]
    }
   ],
   "source": [
    "atom_config_path = \"/data/home/liuhanyu/hyliu/code/matersdk/demo/structure/atom.config\"\n",
    "movement_path = \"/data/home/liuhanyu/hyliu/code/mlff/test/demo2/PWdata/data1/MOVEMENT\"\n",
    "\n",
    "movement = Movement(movement_path=movement_path)\n",
    "\n",
    "rcut = 6.5                      # The r_cutoff in `DeepPot-SE`\n",
    "scaling_matrix = [3, 3, 3]  # Expand the primitive cell to process pbc\n",
    "reformat_mark = True    # Resort the atoms according to atomic number after expanding to supercell\n",
    "coords_are_cartesian = True     # Use cartesian coordinates to find neighbors\n",
    "\n",
    "center_atomic_number = 3       # The atomic number of center atom\n",
    "nbr_atomic_number = 14          # The atomic number of neighbor atom\n",
    "\n",
    "\n",
    "#structure = DStructure.from_file(file_format=\"pwmat\", file_path=atom_config_path)\n",
    "structure = movement.get_frame_structure(idx_frame=0)\n",
    "struct_nbr = StructureNeighborsDescriptor.create(\n",
    "                'v1',\n",
    "                structure=structure,\n",
    "                rcut=rcut,\n",
    "                scaling_matrix=scaling_matrix,\n",
    "                reformat_mark=reformat_mark,\n",
    "                coords_are_cartesian=coords_are_cartesian)\n",
    "dp_feature_pair_premise = DpFeaturePairPremiseDescriptor.create(\n",
    "                                \"v1\",\n",
    "                                structure_neighbors=struct_nbr)\n",
    "\n",
    "dp_feature_pair_an, dp_feature_pair_d, dp_feature_pair_rc = \\\n",
    "        dp_feature_pair_premise.extract_feature_pair(\n",
    "                        center_atomic_number=center_atomic_number,\n",
    "                        nbr_atomic_number=nbr_atomic_number)\n",
    "        \n",
    "print(\"1.1. Atomic number -- dp_feature_pair_an.shape:\", end=\"\\t\")\n",
    "print(dp_feature_pair_an.shape)\n",
    "print()\n",
    "print(\"1.2. Distance -- dp_feature_pair_d:\", end=\"\\t\")\n",
    "print(dp_feature_pair_d.shape)\n",
    "print()\n",
    "print(\"1.3. Coords -- dp_feature_pair_rc:\", end=\"\\t\")\n",
    "print(dp_feature_pair_rc.shape)"
   ]
  },
  {
   "cell_type": "code",
   "execution_count": 8,
   "metadata": {},
   "outputs": [
    {
     "data": {
      "text/plain": [
       "array([[14., 14., 14., ...,  0.,  0.,  0.],\n",
       "       [14., 14., 14., ...,  0.,  0.,  0.],\n",
       "       [14., 14., 14., ...,  0.,  0.,  0.],\n",
       "       ...,\n",
       "       [14., 14., 14., ..., 14.,  0.,  0.],\n",
       "       [14., 14., 14., ..., 14., 14.,  0.],\n",
       "       [14., 14., 14., ..., 14.,  0.,  0.]])"
      ]
     },
     "execution_count": 8,
     "metadata": {},
     "output_type": "execute_result"
    }
   ],
   "source": [
    "dp_feature_pair_an"
   ]
  },
  {
   "cell_type": "code",
   "execution_count": 3,
   "metadata": {},
   "outputs": [
    {
     "data": {
      "text/plain": [
       "array([[-2.17104302,  1.24359614, -0.73405888],\n",
       "       [-0.08385295, -2.5216187 , -0.7457826 ],\n",
       "       [ 2.20372375,  1.23598946, -0.73583298],\n",
       "       [-2.12499142,  1.27377121,  1.53796628],\n",
       "       [-0.04748414, -2.49156022,  1.54100238],\n",
       "       [ 2.26458618,  1.27214074,  1.52293211],\n",
       "       [ 4.28541775, -2.52414885, -0.72699903],\n",
       "       [ 0.13704705,  4.9917163 , -0.7457826 ],\n",
       "       [ 2.04952713, -1.31040892, -4.56098662],\n",
       "       [-0.03545878,  2.43741292, -4.56841226],\n",
       "       [-4.47410125, -2.52414885, -0.72699903],\n",
       "       [ 4.33588032, -2.48099382,  1.53185751],\n",
       "       [ 0.17341586,  5.02177478,  1.54100238],\n",
       "       [-2.32718875, -1.32798632, -4.5627973 ],\n",
       "       [-4.42363868, -2.48099382,  1.53185751],\n",
       "       [ 0.11192575,  0.06631403,  5.35962658],\n",
       "       [ 0.        ,  0.        ,  0.        ],\n",
       "       [ 0.        ,  0.        ,  0.        ],\n",
       "       [ 0.        ,  0.        ,  0.        ],\n",
       "       [ 0.        ,  0.        ,  0.        ],\n",
       "       [ 0.        ,  0.        ,  0.        ],\n",
       "       [ 0.        ,  0.        ,  0.        ],\n",
       "       [ 0.        ,  0.        ,  0.        ]])"
      ]
     },
     "execution_count": 3,
     "metadata": {},
     "output_type": "execute_result"
    }
   ],
   "source": [
    "dp_feature_pair_rc[7]"
   ]
  },
  {
   "cell_type": "code",
   "execution_count": 4,
   "metadata": {},
   "outputs": [
    {
     "data": {
      "text/plain": [
       "array([2.60745116, 2.63092833, 2.63163799, 2.91606275, 2.92998557,\n",
       "       3.01098237, 5.02639635, 5.04898061, 5.1691713 , 5.17809131,\n",
       "       5.18820171, 5.22511013, 5.25575716, 5.29135846, 5.29815977,\n",
       "       5.36120528, 0.        , 0.        , 0.        , 0.        ,\n",
       "       0.        , 0.        , 0.        ])"
      ]
     },
     "execution_count": 4,
     "metadata": {},
     "output_type": "execute_result"
    }
   ],
   "source": [
    "dp_feature_pair_d[7]"
   ]
  },
  {
   "cell_type": "code",
   "execution_count": null,
   "metadata": {},
   "outputs": [],
   "source": []
  }
 ],
 "metadata": {
  "kernelspec": {
   "display_name": "mlff",
   "language": "python",
   "name": "python3"
  },
  "language_info": {
   "codemirror_mode": {
    "name": "ipython",
    "version": 3
   },
   "file_extension": ".py",
   "mimetype": "text/x-python",
   "name": "python",
   "nbconvert_exporter": "python",
   "pygments_lexer": "ipython3",
   "version": "3.8.16"
  },
  "orig_nbformat": 4
 },
 "nbformat": 4,
 "nbformat_minor": 2
}
