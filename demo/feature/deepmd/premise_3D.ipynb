{
 "cells": [
  {
   "attachments": {},
   "cell_type": "markdown",
   "metadata": {},
   "source": [
    "# 0. Introduction\n",
    "1. We write a class called `DpFeaturePairPremise` to extract information for $\\widetilde{R}$ from `StructNeighborsBase`.\n",
    "    - Because deepmd specifies the type of `center_atom` and the type of `nbr_atoms`, so we use name it with `pair`"
   ]
  },
  {
   "cell_type": "code",
   "execution_count": 1,
   "metadata": {},
   "outputs": [],
   "source": [
    "from timeit import default_timer as timer\n",
    "from matersdk.io.publicLayer.structure import DStructure\n",
    "from matersdk.io.pwmat.output.movement import Movement\n",
    "from matersdk.io.publicLayer.neigh import StructureNeighborsDescriptor\n",
    "from matersdk.feature.deepmd.premise import DpFeaturePairPremiseDescriptor\n",
    "import warnings\n",
    "\n",
    "warnings.filterwarnings('ignore')"
   ]
  },
  {
   "attachments": {},
   "cell_type": "markdown",
   "metadata": {},
   "source": [
    "# 1. Demo for `DpFeaturePairPremiseV1`"
   ]
  },
  {
   "cell_type": "code",
   "execution_count": 5,
   "metadata": {},
   "outputs": [
    {
     "name": "stdout",
     "output_type": "stream",
     "text": [
      "1.1. Atomic number -- dp_feature_pair_an.shape:\t(24, 16)\n",
      "\n",
      "1.2. Distance -- dp_feature_pair_d:\t(24, 16)\n",
      "\n",
      "1.3. Coords -- dp_feature_pair_rc:\t(24, 16, 3)\n"
     ]
    }
   ],
   "source": [
    "atom_config_path = \"/data/home/liuhanyu/hyliu/code/matersdk/demo/structure/atom.config\"\n",
    "movement_path = \"/data/home/liuhanyu/hyliu/code/mlff/test/demo2/PWdata/data1/MOVEMENT\"\n",
    "\n",
    "movement = Movement(movement_path=movement_path)\n",
    "\n",
    "rcut = 6.0                      # The r_cutoff in `DeepPot-SE`\n",
    "scaling_matrix = [3, 3, 3]  # Expand the primitive cell to process pbc\n",
    "reformat_mark = True    # Resort the atoms according to atomic number after expanding to supercell\n",
    "coords_are_cartesian = True     # Use cartesian coordinates to find neighbors\n",
    "\n",
    "center_atomic_number = 14       # The atomic number of center atom\n",
    "nbr_atomic_number = 14          # The atomic number of neighbor atom\n",
    "\n",
    "\n",
    "#structure = DStructure.from_file(file_format=\"pwmat\", file_path=atom_config_path)\n",
    "structure = movement.get_frame_structure(idx_frame=500)\n",
    "struct_nbr = StructureNeighborsDescriptor.create(\n",
    "                'v1',\n",
    "                structure=structure,\n",
    "                rcut=rcut,\n",
    "                scaling_matrix=scaling_matrix,\n",
    "                reformat_mark=reformat_mark,\n",
    "                coords_are_cartesian=coords_are_cartesian)\n",
    "dp_feature_pair_premise = DpFeaturePairPremiseDescriptor.create(\n",
    "                                \"v1\",\n",
    "                                structure_neighbors=struct_nbr)\n",
    "\n",
    "dp_feature_pair_an, dp_feature_pair_d, dp_feature_pair_rc = \\\n",
    "        dp_feature_pair_premise.extract_feature_pair(\n",
    "                        center_atomic_number=center_atomic_number,\n",
    "                        nbr_atomic_number=nbr_atomic_number)\n",
    "        \n",
    "print(\"1.1. Atomic number -- dp_feature_pair_an.shape:\", end=\"\\t\")\n",
    "print(dp_feature_pair_an.shape)\n",
    "print()\n",
    "print(\"1.2. Distance -- dp_feature_pair_d:\", end=\"\\t\")\n",
    "print(dp_feature_pair_d.shape)\n",
    "print()\n",
    "print(\"1.3. Coords -- dp_feature_pair_rc:\", end=\"\\t\")\n",
    "print(dp_feature_pair_rc.shape)"
   ]
  },
  {
   "cell_type": "code",
   "execution_count": 6,
   "metadata": {},
   "outputs": [
    {
     "data": {
      "text/plain": [
       "array([[14., 14., 14., 14., 14., 14., 14., 14., 14., 14., 14., 14., 14.,\n",
       "        14., 14., 14.],\n",
       "       [14., 14., 14., 14., 14., 14., 14., 14., 14., 14., 14., 14., 14.,\n",
       "        14., 14., 14.],\n",
       "       [14., 14., 14., 14., 14., 14., 14., 14., 14., 14., 14., 14., 14.,\n",
       "        14., 14., 14.],\n",
       "       [14., 14., 14., 14., 14., 14., 14., 14., 14., 14., 14., 14., 14.,\n",
       "        14., 14., 14.],\n",
       "       [14., 14., 14., 14., 14., 14., 14., 14., 14., 14., 14., 14., 14.,\n",
       "        14., 14., 14.],\n",
       "       [14., 14., 14., 14., 14., 14., 14., 14., 14., 14., 14., 14., 14.,\n",
       "        14., 14., 14.],\n",
       "       [14., 14., 14., 14., 14., 14., 14., 14., 14., 14., 14., 14., 14.,\n",
       "        14., 14., 14.],\n",
       "       [14., 14., 14., 14., 14., 14., 14., 14., 14., 14., 14., 14., 14.,\n",
       "        14., 14., 14.],\n",
       "       [14., 14., 14., 14., 14., 14., 14., 14., 14., 14., 14., 14., 14.,\n",
       "        14., 14., 14.],\n",
       "       [14., 14., 14., 14., 14., 14., 14., 14., 14., 14., 14., 14., 14.,\n",
       "        14., 14., 14.],\n",
       "       [14., 14., 14., 14., 14., 14., 14., 14., 14., 14., 14., 14., 14.,\n",
       "        14., 14., 14.],\n",
       "       [14., 14., 14., 14., 14., 14., 14., 14., 14., 14., 14., 14., 14.,\n",
       "        14., 14., 14.],\n",
       "       [14., 14., 14., 14., 14., 14., 14., 14., 14., 14., 14., 14., 14.,\n",
       "        14., 14., 14.],\n",
       "       [14., 14., 14., 14., 14., 14., 14., 14., 14., 14., 14., 14., 14.,\n",
       "        14., 14., 14.],\n",
       "       [14., 14., 14., 14., 14., 14., 14., 14., 14., 14., 14., 14., 14.,\n",
       "        14., 14., 14.],\n",
       "       [14., 14., 14., 14., 14., 14., 14., 14., 14., 14., 14., 14., 14.,\n",
       "        14., 14., 14.],\n",
       "       [14., 14., 14., 14., 14., 14., 14., 14., 14., 14., 14., 14., 14.,\n",
       "        14., 14., 14.],\n",
       "       [14., 14., 14., 14., 14., 14., 14., 14., 14., 14., 14., 14., 14.,\n",
       "        14., 14., 14.],\n",
       "       [14., 14., 14., 14., 14., 14., 14., 14., 14., 14., 14., 14., 14.,\n",
       "        14., 14., 14.],\n",
       "       [14., 14., 14., 14., 14., 14., 14., 14., 14., 14., 14., 14., 14.,\n",
       "        14., 14., 14.],\n",
       "       [14., 14., 14., 14., 14., 14., 14., 14., 14., 14., 14., 14., 14.,\n",
       "        14., 14., 14.],\n",
       "       [14., 14., 14., 14., 14., 14., 14., 14., 14., 14., 14., 14., 14.,\n",
       "        14., 14., 14.],\n",
       "       [14., 14., 14., 14., 14., 14., 14., 14., 14., 14., 14., 14., 14.,\n",
       "        14., 14., 14.],\n",
       "       [14., 14., 14., 14., 14., 14., 14., 14., 14., 14., 14., 14., 14.,\n",
       "        14., 14., 14.]])"
      ]
     },
     "execution_count": 6,
     "metadata": {},
     "output_type": "execute_result"
    }
   ],
   "source": [
    "dp_feature_pair_an"
   ]
  },
  {
   "cell_type": "code",
   "execution_count": 12,
   "metadata": {},
   "outputs": [
    {
     "data": {
      "text/plain": [
       "array([[ 0.181759  , -0.06607416, -2.31240179],\n",
       "       [ 2.10638677,  3.72383581,  0.09394268],\n",
       "       [-2.06175339, -3.75362884,  0.04413738],\n",
       "       [-4.30061888,  0.01384832,  0.00844098],\n",
       "       [ 4.35618812,  0.01384832,  0.00844098],\n",
       "       [-2.28304839,  3.73655716,  0.04413738],\n",
       "       [ 2.32768177, -3.76635019,  0.09394268],\n",
       "       [ 2.15539047, -1.19686944,  4.00288124],\n",
       "       [-1.9274068 , -3.72421981, -2.24806646],\n",
       "       [-2.25223025, -1.2849206 ,  3.99869918],\n",
       "       [-4.21775162,  0.01143442, -2.25212851],\n",
       "       [-0.13454859,  2.56104554,  4.05965993],\n",
       "       [ 2.21487571,  3.66543759, -2.28829399],\n",
       "       [-2.1487018 ,  3.76596619, -2.24806646],\n",
       "       [ 4.43905538,  0.01143442, -2.25212851],\n",
       "       [ 2.43617071, -3.82474841, -2.28829399]])"
      ]
     },
     "execution_count": 12,
     "metadata": {},
     "output_type": "execute_result"
    }
   ],
   "source": [
    "dp_feature_pair_rc[0]"
   ]
  },
  {
   "cell_type": "code",
   "execution_count": 11,
   "metadata": {},
   "outputs": [
    {
     "data": {
      "text/plain": [
       "array([2.60582364, 2.7780151 , 2.79511616, 2.80840621, 4.26957272,\n",
       "       4.30373447, 4.31921527, 4.89301901, 5.02020085, 5.03975188,\n",
       "       5.05460139, 5.05963685, 5.12569428, 5.14727502, 5.15650197,\n",
       "       5.17880869, 5.26998222, 6.04752003, 6.06354855, 6.26591047,\n",
       "       6.48649742, 6.48938195, 6.49797885])"
      ]
     },
     "execution_count": 11,
     "metadata": {},
     "output_type": "execute_result"
    }
   ],
   "source": [
    "dp_feature_pair_d[11]"
   ]
  },
  {
   "cell_type": "code",
   "execution_count": 12,
   "metadata": {},
   "outputs": [
    {
     "data": {
      "text/plain": [
       "array([2.60745116, 2.63092833, 2.63163799, 2.91606275, 2.92998557,\n",
       "       3.01098237, 5.02639635, 5.04898061, 5.1691713 , 5.17809131,\n",
       "       5.18820171, 5.22511013, 5.25575716, 5.29135846, 5.29815977,\n",
       "       5.36120528, 0.        , 0.        , 0.        , 0.        ,\n",
       "       0.        , 0.        , 0.        ])"
      ]
     },
     "execution_count": 12,
     "metadata": {},
     "output_type": "execute_result"
    }
   ],
   "source": [
    "dp_feature_pair_d[7]"
   ]
  },
  {
   "cell_type": "code",
   "execution_count": null,
   "metadata": {},
   "outputs": [],
   "source": []
  }
 ],
 "metadata": {
  "kernelspec": {
   "display_name": "mlff",
   "language": "python",
   "name": "python3"
  },
  "language_info": {
   "codemirror_mode": {
    "name": "ipython",
    "version": 3
   },
   "file_extension": ".py",
   "mimetype": "text/x-python",
   "name": "python",
   "nbconvert_exporter": "python",
   "pygments_lexer": "ipython3",
   "version": "3.8.16"
  },
  "orig_nbformat": 4
 },
 "nbformat": 4,
 "nbformat_minor": 2
}
