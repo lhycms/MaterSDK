{
 "cells": [
  {
   "attachments": {},
   "cell_type": "markdown",
   "metadata": {},
   "source": [
    "# 0. Normalize the `tildeR` for the specific center atoms (e.g. Li-Li&Si)\n",
    "## Using `TildeRPairNormalizer`"
   ]
  },
  {
   "cell_type": "code",
   "execution_count": 1,
   "metadata": {},
   "outputs": [],
   "source": [
    "import numpy as np\n",
    "from typing import List, Dict\n",
    "\n",
    "from matersdk.io.pwmat.output.movement import Movement\n",
    "from matersdk.data.deepmd.data_system import DpLabeledSystem\n",
    "from matersdk.io.publicLayer.structure import DStructure\n",
    "from matersdk.io.publicLayer.neigh import StructureNeighborsDescriptor\n",
    "from matersdk.feature.deepmd.se_pair import DpseTildeRPairDescriptor\n",
    "\n",
    "from matersdk.feature.deepmd.preprocess import (\n",
    "                    TildeRPairNormalizer,\n",
    "                    NormalizerPremise\n",
    ")"
   ]
  },
  {
   "attachments": {},
   "cell_type": "markdown",
   "metadata": {},
   "source": [
    "# 1. Custom parameters"
   ]
  },
  {
   "cell_type": "code",
   "execution_count": 18,
   "metadata": {},
   "outputs": [
    {
     "name": "stdout",
     "output_type": "stream",
     "text": [
      "****************** LabeledSystem Summary *******************\n",
      "\t * Images Number           : 550           \n",
      "\t * Atoms Number            : 72            \n",
      "\t * Virials Information     : True          \n",
      "\t * Energy Deposition       : True          \n",
      "\t * Elements List           :\n",
      "\t\t - Li: 48              \n",
      "\t\t - Si: 24              \n",
      "************************************************************\n"
     ]
    },
    {
     "data": {
      "text/plain": []
     },
     "execution_count": 18,
     "metadata": {},
     "output_type": "execute_result"
    }
   ],
   "source": [
    "atom_config_path = \"/data/home/liuhanyu/hyliu/code/matersdk/demo/feature/movement/LiSi.config\"\n",
    "movement_path = \"/data/home/liuhanyu/hyliu/code/mlff/test/demo2/PWdata/data1/MOVEMENT\"\n",
    "movement = Movement(movement_path=movement_path)\n",
    "\n",
    "dpsys = DpLabeledSystem.from_trajectory_s(trajectory_object=movement)\n",
    "dpsys"
   ]
  },
  {
   "attachments": {},
   "cell_type": "markdown",
   "metadata": {},
   "source": [
    "# 2. `NormalizerPremise.concat_tildeRs()`: Generate the dataset to calc `davg` and `dstds`\n",
    "1. Note: We just use the first 10 frames to calculate `davg` and `dstd`"
   ]
  },
  {
   "cell_type": "code",
   "execution_count": 19,
   "metadata": {},
   "outputs": [],
   "source": [
    "structure_indices = [*range(10)]\n",
    "rcut = 6.5\n",
    "rcut_smooth = 6.0\n",
    "center_atomic_number = 3    # Li\n",
    "nbr_atomic_numbers = [3, 14]      # Li, Si\n",
    "scaling_matrix = [3, 3, 3]\n",
    "max_num_nbrs_dict = {3: 100, 14: 80}\n",
    "\n",
    "reformat_mark = True\n",
    "coords_are_cartesian = True"
   ]
  },
  {
   "cell_type": "code",
   "execution_count": 20,
   "metadata": {},
   "outputs": [
    {
     "data": {
      "text/plain": [
       "(48, 1800, 4)"
      ]
     },
     "execution_count": 20,
     "metadata": {},
     "output_type": "execute_result"
    }
   ],
   "source": [
    "tildeRs_array = NormalizerPremise.concat_tildeRs(\n",
    "                    dp_labeled_system=dpsys,\n",
    "                    structure_indices=structure_indices,\n",
    "                    rcut=rcut,\n",
    "                    rcut_smooth=rcut_smooth,\n",
    "                    center_atomic_number=center_atomic_number,\n",
    "                    nbr_atomic_numbers=nbr_atomic_numbers,\n",
    "                    max_num_nbrs_dict=max_num_nbrs_dict,\n",
    "                    scaling_matrix=scaling_matrix\n",
    ")\n",
    "tildeRs_array.shape"
   ]
  },
  {
   "attachments": {},
   "cell_type": "markdown",
   "metadata": {},
   "source": [
    "# 3. Initialize `DpseTildeRPairNormalizer`"
   ]
  },
  {
   "cell_type": "code",
   "execution_count": 21,
   "metadata": {},
   "outputs": [
    {
     "name": "stdout",
     "output_type": "stream",
     "text": [
      "Step 1.1. davg of Environment matrix : \n",
      "\t[[0.06974313 0.         0.         0.        ]]\n",
      "Step 1.2. dstd of Environment matrix : \n",
      "\t[[0.11278804 0.07656205 0.07656205 0.07656205]]\n"
     ]
    }
   ],
   "source": [
    "normalizer = TildeRPairNormalizer(tildeRs_array=tildeRs_array)\n",
    "print(\"Step 1.1. davg of Environment matrix : \", end='\\n\\t')\n",
    "print(normalizer.davg)\n",
    "print(\"Step 1.2. dstd of Environment matrix : \", end='\\n\\t')\n",
    "print(normalizer.dstd)"
   ]
  },
  {
   "attachments": {},
   "cell_type": "markdown",
   "metadata": {},
   "source": [
    "# 4. Normalize a new `tildeR` of new `DStructure`"
   ]
  },
  {
   "cell_type": "code",
   "execution_count": 22,
   "metadata": {},
   "outputs": [],
   "source": [
    "new_structure = movement.get_frame_structure(idx_frame=100)\n",
    "struct_nbr = StructureNeighborsDescriptor.create(\n",
    "                'v1',\n",
    "                structure=new_structure,\n",
    "                rcut=rcut,\n",
    "                scaling_matrix=scaling_matrix,\n",
    "                reformat_mark=reformat_mark,\n",
    "                coords_are_cartesian=coords_are_cartesian)\n",
    "\n",
    "new_tildeRs_array = DpseTildeRPairDescriptor.create(\n",
    "                'v1',\n",
    "                structure_neighbors=struct_nbr,\n",
    "                center_atomic_number=3,\n",
    "                nbr_atomic_number=14,\n",
    "                rcut=rcut,\n",
    "                rcut_smooth=rcut_smooth).get_tildeR(max_num_nbrs=100)"
   ]
  },
  {
   "cell_type": "code",
   "execution_count": 23,
   "metadata": {},
   "outputs": [
    {
     "name": "stdout",
     "output_type": "stream",
     "text": [
      "Step 2. Using a new environment matrix, after normalize...\n",
      "Step 2.1. The max value of environment is : \n",
      "\t4.982843530922144\n",
      "Step 2.2. The min value of environment is : \n",
      "\t-4.953980917632865\n"
     ]
    }
   ],
   "source": [
    "print(\"Step 2. Using a new environment matrix, after normalize...\")\n",
    "print(\"Step 2.1. The max value of environment is : \", end=\"\\n\\t\")\n",
    "print(np.max(normalizer.normalize(tildeRs_array=new_tildeRs_array)))\n",
    "print(\"Step 2.2. The min value of environment is : \", end=\"\\n\\t\")\n",
    "print(np.min(normalizer.normalize(tildeRs_array=new_tildeRs_array)))"
   ]
  },
  {
   "cell_type": "code",
   "execution_count": null,
   "metadata": {},
   "outputs": [],
   "source": []
  }
 ],
 "metadata": {
  "kernelspec": {
   "display_name": "mlff",
   "language": "python",
   "name": "python3"
  },
  "language_info": {
   "codemirror_mode": {
    "name": "ipython",
    "version": 3
   },
   "file_extension": ".py",
   "mimetype": "text/x-python",
   "name": "python",
   "nbconvert_exporter": "python",
   "pygments_lexer": "ipython3",
   "version": "3.8.16"
  },
  "orig_nbformat": 4
 },
 "nbformat": 4,
 "nbformat_minor": 2
}
