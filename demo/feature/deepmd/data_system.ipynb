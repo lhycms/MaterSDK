{
 "cells": [
  {
   "cell_type": "code",
   "execution_count": null,
   "metadata": {},
   "outputs": [],
   "source": []
  },
  {
   "attachments": {},
   "cell_type": "markdown",
   "metadata": {},
   "source": [
    "# 0. Introduction"
   ]
  },
  {
   "cell_type": "code",
   "execution_count": 2,
   "metadata": {},
   "outputs": [],
   "source": [
    "from matersdk.io.pwmat.output.movement import Movement\n",
    "from matersdk.data.deepmd.data_system import DeepmdDataSystem"
   ]
  },
  {
   "attachments": {},
   "cell_type": "markdown",
   "metadata": {},
   "source": [
    "# 1. Demo 1: 根据 Movement 文件，生成 550 个Image文件夹。文件夹内存储一些重要信息"
   ]
  },
  {
   "cell_type": "code",
   "execution_count": 3,
   "metadata": {},
   "outputs": [
    {
     "name": "stdout",
     "output_type": "stream",
     "text": [
      "\n",
      "Step 1. \n",
      "\n",
      "Step 2. The atomic number in system:\t[3, 14]\n",
      "\n",
      "Step 3. The number of atoms in system:\t72\n"
     ]
    }
   ],
   "source": [
    "movement = Movement(movement_path=\"/data/home/liuhanyu/hyliu/code/mlff/test/demo2/PWdata/data1/MOVEMENT\")\n",
    "dp_data_system = DeepmdDataSystem.from_trajectory(trajectory_object=movement)\n",
    "dir_path = \"/data/home/liuhanyu/hyliu/code/test\"\n",
    "\n",
    "### Step 1.\n",
    "print()\n",
    "print(\"Step 1. \")\n",
    "dp_data_system.save(dir_path=dir_path)\n",
    "\n",
    "\n",
    "### Step 2.\n",
    "print()\n",
    "print(\"Step 2. The atomic number in system:\", end='\\t')\n",
    "print(dp_data_system.atomic_numbers_lst)\n",
    "\n",
    "\n",
    "### Step 3.\n",
    "print()\n",
    "print(\"Step 3. The number of atoms in system:\", end='\\t')\n",
    "print(dp_data_system.num_atoms)"
   ]
  },
  {
   "cell_type": "code",
   "execution_count": 4,
   "metadata": {},
   "outputs": [
    {
     "data": {
      "text/plain": [
       "550"
      ]
     },
     "execution_count": 4,
     "metadata": {},
     "output_type": "execute_result"
    }
   ],
   "source": [
    "import os \n",
    "\n",
    "len(os.listdir(\"/data/home/liuhanyu/hyliu/code/test\"))"
   ]
  },
  {
   "attachments": {},
   "cell_type": "markdown",
   "metadata": {},
   "source": [
    "# 2. Demo 2:"
   ]
  }
 ],
 "metadata": {
  "kernelspec": {
   "display_name": "mlff",
   "language": "python",
   "name": "python3"
  },
  "language_info": {
   "codemirror_mode": {
    "name": "ipython",
    "version": 3
   },
   "file_extension": ".py",
   "mimetype": "text/x-python",
   "name": "python",
   "nbconvert_exporter": "python",
   "pygments_lexer": "ipython3",
   "version": "3.8.16"
  },
  "orig_nbformat": 4
 },
 "nbformat": 4,
 "nbformat_minor": 2
}
