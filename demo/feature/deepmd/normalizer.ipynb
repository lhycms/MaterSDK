{
 "cells": [
  {
   "attachments": {},
   "cell_type": "markdown",
   "metadata": {},
   "source": [
    "# 0. Calculate the `davgs` and `dstds` using the first 10 frames.\n",
    "1. `davgs.shape = (num_types, 4)`\n",
    "2. `dstds.shape = (num_types, 4)`"
   ]
  },
  {
   "cell_type": "code",
   "execution_count": 5,
   "metadata": {},
   "outputs": [],
   "source": [
    "from matersdk.io.pwmat.output.movement import Movement\n",
    "from matersdk.data.deepmd.data_system import DpLabeledSystem\n",
    "\n",
    "from matersdk.feature.deepmd.preprocess import TildeRNormalizer"
   ]
  },
  {
   "attachments": {},
   "cell_type": "markdown",
   "metadata": {},
   "source": [
    "## Step 1. Initialize the `DpLabeledSystem`"
   ]
  },
  {
   "cell_type": "code",
   "execution_count": 2,
   "metadata": {},
   "outputs": [
    {
     "name": "stdout",
     "output_type": "stream",
     "text": [
      "****************** LabeledSystem Summary *******************\n",
      "\t * Images Number           : 550           \n",
      "\t * Atoms Number            : 72            \n",
      "\t * Virials Information     : True          \n",
      "\t * Energy Deposition       : True          \n",
      "\t * Elements List           :\n",
      "\t\t - Li: 48              \n",
      "\t\t - Si: 24              \n",
      "************************************************************\n",
      "\n"
     ]
    }
   ],
   "source": [
    "movement_path = \"/data/home/liuhanyu/hyliu/code/mlff/test/demo2/PWdata/data1/MOVEMENT\"\n",
    "movement = Movement(movement_path=movement_path)\n",
    "\n",
    "dpsys = DpLabeledSystem.from_trajectory_s(trajectory_object=movement)\n",
    "print(dpsys)"
   ]
  },
  {
   "attachments": {},
   "cell_type": "markdown",
   "metadata": {},
   "source": [
    "## Step 1.2. Calculate the `davgs` and `dstds`"
   ]
  },
  {
   "cell_type": "code",
   "execution_count": 3,
   "metadata": {},
   "outputs": [],
   "source": [
    "structure_indices = [*range(10)]\n",
    "rcut = 6.5\n",
    "rcut_smooth = 6.0\n",
    "center_atomic_numbers = [3, 14]\n",
    "nbr_atomic_numbers = [3, 14]\n",
    "max_num_nbrs_dict = {3:100, 14:80}\n",
    "scaling_matrix = [3, 3, 3]"
   ]
  },
  {
   "cell_type": "code",
   "execution_count": 6,
   "metadata": {},
   "outputs": [
    {
     "name": "stderr",
     "output_type": "stream",
     "text": [
      "/data/home/liuhanyu/hyliu/code/matersdk/matersdk/feature/deepmd/se_pair.py:147: RuntimeWarning: divide by zero encountered in reciprocal\n",
      "  dp_feature_pair_d_reciprocal_ = np.reciprocal(self.dp_feature_pair_d)\n",
      "/data/home/liuhanyu/hyliu/code/matersdk/matersdk/feature/deepmd/se_pair.py:204: RuntimeWarning: divide by zero encountered in reciprocal\n",
      "  dp_feature_pair_d_reciprocal_ = np.reciprocal(self.dp_feature_pair_d)\n"
     ]
    }
   ],
   "source": [
    "tilde_r_normalizer = TildeRNormalizer(\n",
    "                dp_labeled_system=dpsys,\n",
    "                structure_indices=structure_indices,\n",
    "                rcut=rcut,\n",
    "                rcut_smooth=rcut_smooth,\n",
    "                center_atomic_numbers=center_atomic_numbers,\n",
    "                nbr_atomic_numbers=nbr_atomic_numbers,\n",
    "                max_num_nbrs_dict=max_num_nbrs_dict,\n",
    "                scaling_matrix=scaling_matrix\n",
    ")\n",
    "\n",
    "davgs, dstds = tilde_r_normalizer.calc_stats()"
   ]
  },
  {
   "cell_type": "code",
   "execution_count": 7,
   "metadata": {},
   "outputs": [
    {
     "name": "stdout",
     "output_type": "stream",
     "text": [
      "\n",
      "Step 1. davgs = \n",
      "[[0.06974313 0.         0.         0.        ]\n",
      " [0.06922328 0.         0.         0.        ]]\n",
      "\n",
      "Step 2. dstds = \n",
      "[[0.11278804 0.07656205 0.07656205 0.07656205]\n",
      " [0.1140824  0.07704253 0.07704253 0.07704253]]\n"
     ]
    }
   ],
   "source": [
    "print(\"\\nStep 1. davgs = \")\n",
    "print(davgs)\n",
    "print(\"\\nStep 2. dstds = \")\n",
    "print(dstds)"
   ]
  },
  {
   "cell_type": "code",
   "execution_count": null,
   "metadata": {},
   "outputs": [],
   "source": []
  }
 ],
 "metadata": {
  "kernelspec": {
   "display_name": "mlff",
   "language": "python",
   "name": "python3"
  },
  "language_info": {
   "codemirror_mode": {
    "name": "ipython",
    "version": 3
   },
   "file_extension": ".py",
   "mimetype": "text/x-python",
   "name": "python",
   "nbconvert_exporter": "python",
   "pygments_lexer": "ipython3",
   "version": "3.8.16"
  },
  "orig_nbformat": 4
 },
 "nbformat": 4,
 "nbformat_minor": 2
}
