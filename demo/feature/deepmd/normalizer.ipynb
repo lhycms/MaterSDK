{
 "cells": [
  {
   "attachments": {},
   "cell_type": "markdown",
   "metadata": {},
   "source": [
    "# 0. Calculate the `davgs` and `dstds` using the first 10 frames.\n",
    "1. `davgs.shape = (num_types, 4)`\n",
    "2. `dstds.shape = (num_types, 4)`"
   ]
  },
  {
   "cell_type": "code",
   "execution_count": 1,
   "metadata": {},
   "outputs": [],
   "source": [
    "import numpy as np\n",
    "from matersdk.io.pwmat.output.movement import Movement\n",
    "from matersdk.data.deepmd.data_system import DpLabeledSystem\n",
    "\n",
    "from matersdk.feature.deepmd.preprocess import TildeRNormalizer"
   ]
  },
  {
   "attachments": {},
   "cell_type": "markdown",
   "metadata": {},
   "source": [
    "# 1. Use the first 10 frames of `DpLabeledSystem` to calculate statistic data, and init `TildeRNormalizer`"
   ]
  },
  {
   "attachments": {},
   "cell_type": "markdown",
   "metadata": {},
   "source": [
    "## Step 1. Initialize the `DpLabeledSystem`"
   ]
  },
  {
   "cell_type": "code",
   "execution_count": 2,
   "metadata": {},
   "outputs": [
    {
     "name": "stdout",
     "output_type": "stream",
     "text": [
      "****************** LabeledSystem Summary *******************\n",
      "\t * Images Number           : 550           \n",
      "\t * Atoms Number            : 72            \n",
      "\t * Virials Information     : True          \n",
      "\t * Energy Deposition       : True          \n",
      "\t * Elements List           :\n",
      "\t\t - Li: 48              \n",
      "\t\t - Si: 24              \n",
      "************************************************************\n",
      "\n"
     ]
    }
   ],
   "source": [
    "movement_path = \"/data/home/liuhanyu/hyliu/code/mlff/test/demo2/PWdata/data1/MOVEMENT\"\n",
    "movement = Movement(movement_path=movement_path)\n",
    "\n",
    "dpsys = DpLabeledSystem.from_trajectory_s(trajectory_object=movement)\n",
    "print(dpsys)"
   ]
  },
  {
   "attachments": {},
   "cell_type": "markdown",
   "metadata": {},
   "source": [
    "## Step 1.2. Calculate the `davgs` and `dstds`, init `TildeRNormalizer`"
   ]
  },
  {
   "cell_type": "code",
   "execution_count": 3,
   "metadata": {},
   "outputs": [],
   "source": [
    "structure_indices = [*range(10)]\n",
    "rcut = 6.5\n",
    "rcut_smooth = 6.0\n",
    "center_atomic_numbers = [3, 14]\n",
    "nbr_atomic_numbers = [3, 14]\n",
    "max_num_nbrs = [100, 80]\n",
    "scaling_matrix = [3, 3, 3]"
   ]
  },
  {
   "cell_type": "code",
   "execution_count": 4,
   "metadata": {},
   "outputs": [],
   "source": [
    "tilde_r_normalizer = TildeRNormalizer(\n",
    "                dp_labeled_system=dpsys,\n",
    "                structure_indices=structure_indices,\n",
    "                rcut=rcut,\n",
    "                rcut_smooth=rcut_smooth,\n",
    "                center_atomic_numbers=center_atomic_numbers,\n",
    "                nbr_atomic_numbers=nbr_atomic_numbers,\n",
    "                max_num_nbrs=max_num_nbrs,\n",
    "                scaling_matrix=scaling_matrix\n",
    ")\n",
    "\n",
    "davgs, dstds = tilde_r_normalizer.davgs, tilde_r_normalizer.dstds"
   ]
  },
  {
   "cell_type": "code",
   "execution_count": 5,
   "metadata": {},
   "outputs": [
    {
     "name": "stdout",
     "output_type": "stream",
     "text": [
      "\n",
      "Step 1. davgs = \n",
      "[[0.06974313 0.         0.         0.        ]\n",
      " [0.06922328 0.         0.         0.        ]]\n",
      "\n",
      "Step 2. dstds = \n",
      "[[0.11278804 0.07656205 0.07656205 0.07656205]\n",
      " [0.1140824  0.07704253 0.07704253 0.07704253]]\n"
     ]
    }
   ],
   "source": [
    "print(\"\\nStep 1. davgs = \")\n",
    "print(davgs)\n",
    "print(\"\\nStep 2. dstds = \")\n",
    "print(dstds)"
   ]
  },
  {
   "attachments": {},
   "cell_type": "markdown",
   "metadata": {},
   "source": [
    "## Step 1.3. Normalize $\\tilde{R}$ of new `DStructure` using `davgs` nad `dstds`"
   ]
  },
  {
   "cell_type": "code",
   "execution_count": 6,
   "metadata": {},
   "outputs": [],
   "source": [
    "new_structure = movement.get_frame_structure(idx_frame=100)\n",
    "tildeR_dict = tilde_r_normalizer.normalize(structure=new_structure)"
   ]
  },
  {
   "cell_type": "code",
   "execution_count": 7,
   "metadata": {},
   "outputs": [
    {
     "name": "stdout",
     "output_type": "stream",
     "text": [
      "3_3 :  (48, 100, 4)\n",
      "3_14 :  (48, 80, 4)\n",
      "14_3 :  (24, 100, 4)\n",
      "14_14 :  (24, 80, 4)\n"
     ]
    }
   ],
   "source": [
    "for tmp_pair, tmp_normed_tildeR in tildeR_dict.items():\n",
    "    print(tmp_pair, \": \", tmp_normed_tildeR.shape)"
   ]
  },
  {
   "attachments": {},
   "cell_type": "markdown",
   "metadata": {},
   "source": [
    "# 2. Save the `TildeRNormalizer` to `hdf5 file`"
   ]
  },
  {
   "cell_type": "code",
   "execution_count": 8,
   "metadata": {},
   "outputs": [],
   "source": [
    "hdf5_file_path = \"./demo_normalizer.h5\"\n",
    "\n",
    "tilde_r_normalizer.to(hdf5_file_path=hdf5_file_path)"
   ]
  },
  {
   "cell_type": "code",
   "execution_count": 9,
   "metadata": {},
   "outputs": [
    {
     "name": "stdout",
     "output_type": "stream",
     "text": [
      "-rw-rw-r-- 1 liuhanyu 5632 Jun  7 17:39 ./demo_normalizer.h5\n"
     ]
    }
   ],
   "source": [
    "ll ./demo_normalizer.h5"
   ]
  },
  {
   "attachments": {},
   "cell_type": "markdown",
   "metadata": {},
   "source": [
    "# 3. Init the `TildeRNormalizer` from `hdf5` file"
   ]
  },
  {
   "cell_type": "code",
   "execution_count": 10,
   "metadata": {},
   "outputs": [
    {
     "name": "stdout",
     "output_type": "stream",
     "text": [
      "*************************** TildeRNormalizer Summary ***************************\n",
      "\t * rcut                      :       6.500000\n",
      "\t * rcut_smooth               :       6.000000\n",
      "\t * center_atomic_numbers:    :\t [ 3 14]\n",
      "\t * nbr_atomic_numbers:       :\t [ 3 14]\n",
      "\t * max_num_nbrs              :\t [100  80]\n",
      "\t * scaling_matrix            :\t [3 3 3]\n",
      "\t * davgs                     :\t\n",
      "[[0.06974313 0.         0.         0.        ]\n",
      " [0.06922328 0.         0.         0.        ]]\n",
      "\t * dstds                     :\t\n",
      "[[0.11278804 0.07656205 0.07656205 0.07656205]\n",
      " [0.1140824  0.07704253 0.07704253 0.07704253]]\n",
      "********************************************************************************\n",
      "\n"
     ]
    }
   ],
   "source": [
    "new_trn = TildeRNormalizer.from_file(hdf5_file_path=hdf5_file_path)\n",
    "print(new_trn)"
   ]
  },
  {
   "cell_type": "code",
   "execution_count": null,
   "metadata": {},
   "outputs": [],
   "source": []
  }
 ],
 "metadata": {
  "kernelspec": {
   "display_name": "mlff",
   "language": "python",
   "name": "python3"
  },
  "language_info": {
   "codemirror_mode": {
    "name": "ipython",
    "version": 3
   },
   "file_extension": ".py",
   "mimetype": "text/x-python",
   "name": "python",
   "nbconvert_exporter": "python",
   "pygments_lexer": "ipython3",
   "version": "3.8.16"
  },
  "orig_nbformat": 4
 },
 "nbformat": 4,
 "nbformat_minor": 2
}
