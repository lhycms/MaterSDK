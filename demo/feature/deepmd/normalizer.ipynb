{
 "cells": [
  {
   "attachments": {},
   "cell_type": "markdown",
   "metadata": {},
   "source": [
    "# 0. `TildeRPairNormalizer`"
   ]
  },
  {
   "cell_type": "code",
   "execution_count": 25,
   "metadata": {},
   "outputs": [],
   "source": [
    "import numpy as np\n",
    "from matersdk.io.publicLayer.structure import DStructure\n",
    "from matersdk.io.publicLayer.neigh import StructureNeighborsDescriptor\n",
    "from matersdk.feature.deepmd.se_pair import DpseTildeRPairDescriptor\n",
    "from matersdk.feature.deepmd.preprocess import TildeRPairNormalizer"
   ]
  },
  {
   "attachments": {},
   "cell_type": "markdown",
   "metadata": {},
   "source": [
    "# 1. Custom parameters"
   ]
  },
  {
   "cell_type": "code",
   "execution_count": 26,
   "metadata": {},
   "outputs": [],
   "source": [
    "atom_config_path = \"/data/home/liuhanyu/hyliu/code/matersdk/demo/feature/movement/LiSi.config\"\n",
    "new_atom_config_path = \"/data/home/liuhanyu/hyliu/code/matersdk/demo/feature/movement/LiSi_32.config\"\n",
    "scaling_matrix = [3, 3, 3]\n",
    "reformat_mark = True\n",
    "coords_are_cartesian = True\n",
    "\n",
    "center_atomic_number = 3    # Li\n",
    "nbr_atomic_number = 14      # Si\n",
    "rcut = 6.5\n",
    "rcut_smooth = 6.0"
   ]
  },
  {
   "attachments": {},
   "cell_type": "markdown",
   "metadata": {},
   "source": [
    "# 2. Initialize `StructureNeighbors`"
   ]
  },
  {
   "cell_type": "code",
   "execution_count": 27,
   "metadata": {},
   "outputs": [],
   "source": [
    "### Step 1.\n",
    "structure = DStructure.from_file(\n",
    "                file_format=\"pwmat\",\n",
    "                file_path=atom_config_path)\n",
    "\n",
    "new_structure = DStructure.from_file(\n",
    "                file_format=\"pwmat\",\n",
    "                file_path=new_atom_config_path)\n",
    "\n",
    "\n",
    "### Step 2.\n",
    "struct_nbr = StructureNeighborsDescriptor.create(\n",
    "            'v1',\n",
    "            structure=structure,\n",
    "            rcut=rcut,\n",
    "            scaling_matrix=scaling_matrix,\n",
    "            reformat_mark=reformat_mark,\n",
    "            coords_are_cartesian=coords_are_cartesian)\n",
    "\n",
    "new_struct_nbr = StructureNeighborsDescriptor.create(\n",
    "            'v1',\n",
    "            structure=new_structure,\n",
    "            rcut=rcut,\n",
    "            scaling_matrix=scaling_matrix,\n",
    "            reformat_mark=reformat_mark,\n",
    "            coords_are_cartesian=coords_are_cartesian)\n",
    "\n",
    "\n",
    "### Step 3. \n",
    "dpse_tildeR_pair = DpseTildeRPairDescriptor.create(\n",
    "                'v1',\n",
    "                structure_neighbors=struct_nbr,\n",
    "                center_atomic_number=center_atomic_number,\n",
    "                nbr_atomic_number=nbr_atomic_number,\n",
    "                rcut=rcut,\n",
    "                rcut_smooth=rcut_smooth)\n",
    "tildeRs_array = dpse_tildeR_pair.dp_feature_pair_tildeR\n",
    "\n",
    "new_dpse_tildeR_pair = DpseTildeRPairDescriptor.create(\n",
    "                'v1',\n",
    "                structure_neighbors=new_struct_nbr,\n",
    "                center_atomic_number=center_atomic_number,\n",
    "                nbr_atomic_number=nbr_atomic_number,\n",
    "                rcut=rcut,\n",
    "                rcut_smooth=rcut_smooth)\n",
    "new_tildeRs_array = new_dpse_tildeR_pair.dp_feature_pair_tildeR"
   ]
  },
  {
   "attachments": {},
   "cell_type": "markdown",
   "metadata": {},
   "source": [
    "# 3. Initialize `DpseTildeRPairNormalizer`"
   ]
  },
  {
   "cell_type": "code",
   "execution_count": 28,
   "metadata": {},
   "outputs": [
    {
     "name": "stdout",
     "output_type": "stream",
     "text": [
      "Step 1.1. davg of Environment matrix : \n",
      "\t[[0.21744091 0.         0.         0.        ]]\n",
      "Step 1.2. dstd of Environment matrix : \n",
      "\t[[0.10404247 0.13917061 0.13917061 0.13917061]]\n"
     ]
    }
   ],
   "source": [
    "normalizer = TildeRPairNormalizer(tildeRs_array=tildeRs_array)\n",
    "print(\"Step 1.1. davg of Environment matrix : \", end='\\n\\t')\n",
    "print(normalizer.davg)\n",
    "print(\"Step 1.2. dstd of Environment matrix : \", end='\\n\\t')\n",
    "print(normalizer.dstd)"
   ]
  },
  {
   "cell_type": "code",
   "execution_count": 29,
   "metadata": {},
   "outputs": [
    {
     "data": {
      "text/plain": [
       "4.598950686237524"
      ]
     },
     "execution_count": 29,
     "metadata": {},
     "output_type": "execute_result"
    }
   ],
   "source": [
    "1 / normalizer.davg[0][0]"
   ]
  },
  {
   "cell_type": "code",
   "execution_count": 30,
   "metadata": {},
   "outputs": [
    {
     "name": "stdout",
     "output_type": "stream",
     "text": [
      "Step 2. Using a new environment matrix, after normalize...\n",
      "Step 2.1. The max value of environment is : \n",
      "\t2.9267891630171405\n",
      "Step 2.2. The min value of environment is : \n",
      "\t-2.907938594123164\n"
     ]
    }
   ],
   "source": [
    "print(\"Step 2. Using a new environment matrix, after normalize...\")\n",
    "print(\"Step 2.1. The max value of environment is : \", end=\"\\n\\t\")\n",
    "print(np.max(normalizer.normalize(tildeRs_array=new_tildeRs_array)))\n",
    "print(\"Step 2.2. The min value of environment is : \", end=\"\\n\\t\")\n",
    "print(np.min(normalizer.normalize(tildeRs_array=new_tildeRs_array)))"
   ]
  },
  {
   "cell_type": "code",
   "execution_count": null,
   "metadata": {},
   "outputs": [],
   "source": []
  }
 ],
 "metadata": {
  "kernelspec": {
   "display_name": "mlff",
   "language": "python",
   "name": "python3"
  },
  "language_info": {
   "codemirror_mode": {
    "name": "ipython",
    "version": 3
   },
   "file_extension": ".py",
   "mimetype": "text/x-python",
   "name": "python",
   "nbconvert_exporter": "python",
   "pygments_lexer": "ipython3",
   "version": "3.8.16"
  },
  "orig_nbformat": 4
 },
 "nbformat": 4,
 "nbformat_minor": 2
}
