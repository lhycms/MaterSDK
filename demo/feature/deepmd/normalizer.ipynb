{
 "cells": [
  {
   "attachments": {},
   "cell_type": "markdown",
   "metadata": {},
   "source": [
    "# 0. `TildeRPairNormalizer`"
   ]
  },
  {
   "cell_type": "code",
   "execution_count": 1,
   "metadata": {},
   "outputs": [],
   "source": [
    "import numpy as np\n",
    "from typing import List, Dict\n",
    "\n",
    "from matersdk.io.pwmat.output.movement import Movement\n",
    "from matersdk.io.publicLayer.structure import DStructure\n",
    "from matersdk.io.publicLayer.neigh import StructureNeighborsDescriptor\n",
    "from matersdk.feature.deepmd.se_pair import DpseTildeRPairDescriptor\n",
    "from matersdk.feature.deepmd.preprocess import TildeRPairNormalizer"
   ]
  },
  {
   "attachments": {},
   "cell_type": "markdown",
   "metadata": {},
   "source": [
    "# 1. Custom parameters"
   ]
  },
  {
   "cell_type": "code",
   "execution_count": 2,
   "metadata": {},
   "outputs": [],
   "source": [
    "atom_config_path = \"/data/home/liuhanyu/hyliu/code/matersdk/demo/feature/movement/LiSi.config\"\n",
    "movement_path = \"/data/home/liuhanyu/hyliu/code/mlff/test/demo2/PWdata/data1/MOVEMENT\"\n",
    "movement = Movement(movement_path=movement_path)"
   ]
  },
  {
   "attachments": {},
   "cell_type": "markdown",
   "metadata": {},
   "source": [
    "# 2. Initialize `StructureNeighbors`\n",
    "1. Note: We just use the first 10 frame to calculate `davg` and `dstd`"
   ]
  },
  {
   "cell_type": "code",
   "execution_count": 3,
   "metadata": {},
   "outputs": [],
   "source": [
    "def concat_tildeRs(\n",
    "            structure_indices:List[int],\n",
    "            rcut:float,\n",
    "            rcut_smooth:float,\n",
    "            center_atomic_number:int,\n",
    "            nbr_atomic_numbers:List[int],\n",
    "            scaling_matrix:List[int],\n",
    "            max_num_nbrs_dict:Dict[int, int]\n",
    "            ):\n",
    "    ### Step 1. 得到 DStructure 的列表\n",
    "    structures_lst = [movement.get_frame_structure(idx_frame=tmp_idx) for tmp_idx in structure_indices]\n",
    "\n",
    "    ### Step 2. \n",
    "    tildeRs_lst = []\n",
    "    for tmp_structure in structures_lst:\n",
    "        tmp_struct_nbr = StructureNeighborsDescriptor.create(\n",
    "                        'v1',\n",
    "                        structure=tmp_structure,\n",
    "                        rcut=rcut,\n",
    "                        scaling_matrix=scaling_matrix,\n",
    "                        reformat_mark=True,\n",
    "                        coords_are_cartesian=True)\n",
    "        \n",
    "        tmp_tildeRs_lst = []\n",
    "        for tmp_nbr_an in nbr_atomic_numbers:\n",
    "            tmp_tildeR_pair = DpseTildeRPairDescriptor.create(\n",
    "                        'v1',\n",
    "                        structure_neighbors=tmp_struct_nbr,\n",
    "                        center_atomic_number=center_atomic_number,\n",
    "                        nbr_atomic_number=tmp_nbr_an,\n",
    "                        rcut=rcut,\n",
    "                        rcut_smooth=rcut_smooth).get_tildeR(\n",
    "                                        max_num_nbrs=max_num_nbrs_dict[tmp_nbr_an])\n",
    "            tmp_tildeRs_lst.append(tmp_tildeR_pair)\n",
    "        # shape = (48, 180, 4)\n",
    "        tmp_tildeR_tot = np.concatenate(tmp_tildeRs_lst, axis=1)\n",
    "        tildeRs_lst.append(tmp_tildeR_tot)\n",
    "    # shape = (48, 1800, 4)\n",
    "    tildeR_tot = np.concatenate(tildeRs_lst, axis=1)\n",
    "    return tildeR_tot"
   ]
  },
  {
   "cell_type": "code",
   "execution_count": 7,
   "metadata": {},
   "outputs": [],
   "source": [
    "structure_indices = [*range(10)]\n",
    "rcut = 3.0\n",
    "rcut_smooth = 3.0\n",
    "center_atomic_number = 3    # Li\n",
    "nbr_atomic_numbers = [3, 14]      # Li, Si\n",
    "scaling_matrix = [3, 3, 3]\n",
    "max_num_nbrs = {3: 100, 14: 100}\n",
    "\n",
    "reformat_mark = True\n",
    "coords_are_cartesian = True"
   ]
  },
  {
   "cell_type": "code",
   "execution_count": 8,
   "metadata": {},
   "outputs": [
    {
     "data": {
      "text/plain": [
       "(48, 2000, 4)"
      ]
     },
     "execution_count": 8,
     "metadata": {},
     "output_type": "execute_result"
    }
   ],
   "source": [
    "tildeRs_array = concat_tildeRs(\n",
    "                structure_indices=structure_indices,\n",
    "                rcut=rcut,\n",
    "                rcut_smooth=rcut_smooth,\n",
    "                center_atomic_number=center_atomic_number,\n",
    "                nbr_atomic_numbers=nbr_atomic_numbers,\n",
    "                scaling_matrix=scaling_matrix,\n",
    "                max_num_nbrs_dict=max_num_nbrs)\n",
    "tildeRs_array.shape"
   ]
  },
  {
   "attachments": {},
   "cell_type": "markdown",
   "metadata": {},
   "source": [
    "# 3. Initialize `DpseTildeRPairNormalizer`"
   ]
  },
  {
   "cell_type": "code",
   "execution_count": 9,
   "metadata": {},
   "outputs": [
    {
     "name": "stdout",
     "output_type": "stream",
     "text": [
      "Step 1.1. davg of Environment matrix : \n",
      "\t[[0.01554078 0.         0.         0.        ]]\n",
      "Step 1.2. dstd of Environment matrix : \n",
      "\t[[0.07365668 0.04346195 0.04346195 0.04346195]]\n"
     ]
    }
   ],
   "source": [
    "normalizer = TildeRPairNormalizer(tildeRs_array=tildeRs_array)\n",
    "print(\"Step 1.1. davg of Environment matrix : \", end='\\n\\t')\n",
    "print(normalizer.davg)\n",
    "print(\"Step 1.2. dstd of Environment matrix : \", end='\\n\\t')\n",
    "print(normalizer.dstd)"
   ]
  },
  {
   "attachments": {},
   "cell_type": "markdown",
   "metadata": {},
   "source": [
    "# 4. Normalize a new `tildeR` of new `DStructure`"
   ]
  },
  {
   "cell_type": "code",
   "execution_count": 86,
   "metadata": {},
   "outputs": [],
   "source": [
    "new_structure = movement.get_frame_structure(idx_frame=100)\n",
    "struct_nbr = StructureNeighborsDescriptor.create(\n",
    "                'v1',\n",
    "                structure=new_structure,\n",
    "                rcut=rcut,\n",
    "                scaling_matrix=scaling_matrix,\n",
    "                reformat_mark=reformat_mark,\n",
    "                coords_are_cartesian=coords_are_cartesian)\n",
    "\n",
    "new_tildeRs_array = DpseTildeRPairDescriptor.create(\n",
    "                'v1',\n",
    "                structure_neighbors=struct_nbr,\n",
    "                center_atomic_number=3,\n",
    "                nbr_atomic_number=14,\n",
    "                rcut=rcut,\n",
    "                rcut_smooth=rcut_smooth).get_tildeR(max_num_nbrs=100)"
   ]
  },
  {
   "cell_type": "code",
   "execution_count": 87,
   "metadata": {},
   "outputs": [
    {
     "name": "stdout",
     "output_type": "stream",
     "text": [
      "Step 2. Using a new environment matrix, after normalize...\n",
      "Step 2.1. The max value of environment is : \n",
      "\t5.252378253804327\n",
      "Step 2.2. The min value of environment is : \n",
      "\t-5.221954388104391\n"
     ]
    }
   ],
   "source": [
    "print(\"Step 2. Using a new environment matrix, after normalize...\")\n",
    "print(\"Step 2.1. The max value of environment is : \", end=\"\\n\\t\")\n",
    "print(np.max(normalizer.normalize(tildeRs_array=new_tildeRs_array)))\n",
    "print(\"Step 2.2. The min value of environment is : \", end=\"\\n\\t\")\n",
    "print(np.min(normalizer.normalize(tildeRs_array=new_tildeRs_array)))"
   ]
  },
  {
   "cell_type": "code",
   "execution_count": null,
   "metadata": {},
   "outputs": [],
   "source": []
  }
 ],
 "metadata": {
  "kernelspec": {
   "display_name": "mlff",
   "language": "python",
   "name": "python3"
  },
  "language_info": {
   "codemirror_mode": {
    "name": "ipython",
    "version": 3
   },
   "file_extension": ".py",
   "mimetype": "text/x-python",
   "name": "python",
   "nbconvert_exporter": "python",
   "pygments_lexer": "ipython3",
   "version": "3.8.16"
  },
  "orig_nbformat": 4
 },
 "nbformat": 4,
 "nbformat_minor": 2
}
