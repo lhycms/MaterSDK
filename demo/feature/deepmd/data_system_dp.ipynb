{
 "cells": [
  {
   "attachments": {},
   "cell_type": "markdown",
   "metadata": {},
   "source": [
    "# 0. Introduction\n",
    "Familiar with Deepmd-kit"
   ]
  },
  {
   "cell_type": "code",
   "execution_count": 8,
   "metadata": {},
   "outputs": [],
   "source": [
    "import numpy as np\n",
    "from matersdk.io.pwmat.output.movement import Movement\n",
    "from matersdk.data.deepmd.data_system import DpLabeledSystem"
   ]
  },
  {
   "attachments": {},
   "cell_type": "markdown",
   "metadata": {},
   "source": [
    "# 1. 以类似 Deepmd-kit 的形式存储"
   ]
  },
  {
   "cell_type": "code",
   "execution_count": 9,
   "metadata": {},
   "outputs": [
    {
     "name": "stdout",
     "output_type": "stream",
     "text": [
      "****************** LabeledSystem Summary *******************\n",
      "\t * Images Number           : 550           \n",
      "\t * Atoms Number            : 72            \n",
      "\t * Virials Information     : True          \n",
      "\t * Energy Deposition       : True          \n",
      "\t * Elements List           :\n",
      "\t\t - Li: 48              \n",
      "\t\t - Si: 24              \n",
      "************************************************************\n",
      "\n"
     ]
    }
   ],
   "source": [
    "movement_path = \"/data/home/liuhanyu/hyliu/code/mlff/test/demo2/PWdata/data1/MOVEMENT\"\n",
    "output_dir = \"/data/home/liuhanyu/hyliu/code/test\"\n",
    "dir_path = \"/data/home/liuhanyu/hyliu/code/test\"\n",
    "\n",
    "movement = Movement(movement_path=movement_path)\n",
    "dpsys = DpLabeledSystem.from_trajectory_s(trajectory_object=movement)\n",
    "print(dpsys)"
   ]
  },
  {
   "cell_type": "code",
   "execution_count": 10,
   "metadata": {},
   "outputs": [
    {
     "name": "stdout",
     "output_type": "stream",
     "text": [
      "Step 1. Folder already exists: /data/home/liuhanyu/hyliu/code/test\n",
      "Step 2. Remove previous folder.\n",
      "Step 3. Create this folder again: /data/home/liuhanyu/hyliu/code/test\n"
     ]
    }
   ],
   "source": [
    "dpsys.save_info_dpdata(\n",
    "                dir_path=dir_path,\n",
    "                set_size=len(dpsys))"
   ]
  },
  {
   "cell_type": "code",
   "execution_count": 11,
   "metadata": {},
   "outputs": [
    {
     "name": "stdout",
     "output_type": "stream",
     "text": [
      "\u001b[0m\u001b[01;34mset.000\u001b[0m/  type_map.raw  type.raw\n"
     ]
    }
   ],
   "source": [
    "ls /data/home/liuhanyu/hyliu/code/test"
   ]
  },
  {
   "cell_type": "code",
   "execution_count": 12,
   "metadata": {},
   "outputs": [
    {
     "name": "stdout",
     "output_type": "stream",
     "text": [
      "atom_coord.npy   atom_force.npy  tot_energy.npy\n",
      "atom_energy.npy  cell.npy        virial.npy\n"
     ]
    }
   ],
   "source": [
    "ls /data/home/liuhanyu/hyliu/code/test/set.000"
   ]
  },
  {
   "attachments": {},
   "cell_type": "markdown",
   "metadata": {},
   "source": [
    "# 2. Generate SubLabeledSystem with indices"
   ]
  },
  {
   "cell_type": "code",
   "execution_count": 13,
   "metadata": {},
   "outputs": [
    {
     "name": "stdout",
     "output_type": "stream",
     "text": [
      "****************** LabeledSystem Summary *******************\n",
      "\t * Images Number           : 400           \n",
      "\t * Atoms Number            : 72            \n",
      "\t * Virials Information     : True          \n",
      "\t * Energy Deposition       : True          \n",
      "\t * Elements List           :\n",
      "\t\t - Li: 48              \n",
      "\t\t - Si: 24              \n",
      "************************************************************\n",
      "\n"
     ]
    }
   ],
   "source": [
    "training_set = DpLabeledSystem.from_indices(\n",
    "                        dp_labeled_system=dpsys,\n",
    "                        indices_lst=[*range(400)]\n",
    ")\n",
    "print(training_set)\n",
    "#training_set.save_info_dpdata(dir_path=\"./trainset\", set_size=len(training_set))"
   ]
  },
  {
   "cell_type": "code",
   "execution_count": 14,
   "metadata": {},
   "outputs": [
    {
     "name": "stdout",
     "output_type": "stream",
     "text": [
      "****************** LabeledSystem Summary *******************\n",
      "\t * Images Number           : 150           \n",
      "\t * Atoms Number            : 72            \n",
      "\t * Virials Information     : True          \n",
      "\t * Energy Deposition       : True          \n",
      "\t * Elements List           :\n",
      "\t\t - Li: 48              \n",
      "\t\t - Si: 24              \n",
      "************************************************************\n",
      "\n"
     ]
    }
   ],
   "source": [
    "validation_set = DpLabeledSystem.from_indices(\n",
    "                        dp_labeled_system=dpsys,\n",
    "                        indices_lst=[*range(400, 550)]\n",
    ")\n",
    "print(validation_set)\n",
    "#validation_set.save_info_dpdata(dir_path=\"./validset\", set_size=len(validation_set))"
   ]
  },
  {
   "cell_type": "code",
   "execution_count": null,
   "metadata": {},
   "outputs": [],
   "source": []
  }
 ],
 "metadata": {
  "kernelspec": {
   "display_name": "mlff",
   "language": "python",
   "name": "python3"
  },
  "language_info": {
   "codemirror_mode": {
    "name": "ipython",
    "version": 3
   },
   "file_extension": ".py",
   "mimetype": "text/x-python",
   "name": "python",
   "nbconvert_exporter": "python",
   "pygments_lexer": "ipython3",
   "version": "3.8.16"
  },
  "orig_nbformat": 4
 },
 "nbformat": 4,
 "nbformat_minor": 2
}
