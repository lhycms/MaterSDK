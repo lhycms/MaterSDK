{
 "cells": [
  {
   "attachments": {},
   "cell_type": "markdown",
   "metadata": {},
   "source": [
    "# 0. Introduciton: Get $\\tilde{R}$ for deepmd"
   ]
  },
  {
   "cell_type": "code",
   "execution_count": 1,
   "metadata": {},
   "outputs": [],
   "source": [
    "from matersdk.io.publicLayer.structure import DStructure\n",
    "from matersdk.io.publicLayer.neigh import StructureNeighborsDescriptor\n",
    "from matersdk.feature.deepmd.se import DpseTildeRDescriptor"
   ]
  },
  {
   "attachments": {},
   "cell_type": "markdown",
   "metadata": {},
   "source": [
    "# 1. Demo 1. 2D-$MoS_2$"
   ]
  },
  {
   "cell_type": "code",
   "execution_count": 2,
   "metadata": {},
   "outputs": [],
   "source": [
    "atom_config_path = \"/data/home/liuhanyu/hyliu/code/matersdk/demo/structure/atom.config\"\n",
    "scaling_matrix = [5, 5, 1]\n",
    "reformat_mark = True\n",
    "coords_are_cartesian = True\n",
    "\n",
    "center_atomic_numbers_lst = [16, 42]\n",
    "nbr_atomic_numbers_lst = [16, 42]\n",
    "sel = [20, 15]  # 20 for 16(S); 15 for 42(Mo)\n",
    "rcut = 3.3\n",
    "rcut_smooth = 3.0"
   ]
  },
  {
   "cell_type": "code",
   "execution_count": 3,
   "metadata": {},
   "outputs": [
    {
     "name": "stdout",
     "output_type": "stream",
     "text": [
      "\n",
      "Step 1. After flatten(), The shape of tildeR = \t(1680,)\n"
     ]
    }
   ],
   "source": [
    "structure = DStructure.from_file(\n",
    "                        file_format=\"pwmat\",\n",
    "                        file_path=atom_config_path)\n",
    "neighbors = StructureNeighborsDescriptor.create(\n",
    "                'v1',\n",
    "                structure=structure,\n",
    "                rcut=rcut,\n",
    "                scaling_matrix=scaling_matrix,\n",
    "                reformat_mark=reformat_mark,\n",
    "                coords_are_cartesian=coords_are_cartesian)\n",
    "\n",
    "print(\"\\nStep 1. After flatten(), The shape of tildeR = \", end=\"\\t\")\n",
    "dpse_tildeR = DpseTildeRDescriptor.create(\n",
    "                'v1',\n",
    "                structure_neighbors=neighbors,\n",
    "                center_atomic_numbers_lst=center_atomic_numbers_lst,\n",
    "                nbr_atomic_numbers_lst=nbr_atomic_numbers_lst,\n",
    "                sel=sel,\n",
    "                rcut=rcut,\n",
    "                rcut_smooth=rcut_smooth)\n",
    "\n",
    "tilde_r_tot = dpse_tildeR.get_tildeR()\n",
    "print(tilde_r_tot.shape)"
   ]
  },
  {
   "cell_type": "code",
   "execution_count": 4,
   "metadata": {},
   "outputs": [
    {
     "data": {
      "text/plain": [
       "array([ 0.19966981,  0.        ,  0.        ,  0.19966981,  0.08146538,\n",
       "       -0.08146538,  0.        ,  0.        ,  0.08146538,  0.08146538,\n",
       "        0.        ,  0.        ,  0.08146538, -0.04073269,  0.07055109,\n",
       "        0.        ,  0.08146538,  0.04073269, -0.07055109,  0.        ,\n",
       "        0.08146509, -0.04073255, -0.07055083,  0.        ,  0.08146509,\n",
       "        0.04073255,  0.07055083,  0.        ,  0.        ,  0.        ,\n",
       "        0.        ,  0.        ,  0.        ,  0.        ,  0.        ,\n",
       "        0.        ,  0.        ,  0.        ,  0.        ,  0.        ,\n",
       "        0.        ,  0.        ,  0.        ,  0.        ,  0.        ,\n",
       "        0.        ,  0.        ,  0.        ,  0.        ,  0.        ,\n",
       "        0.        ,  0.        ,  0.        ,  0.        ,  0.        ,\n",
       "        0.        ,  0.        ,  0.        ,  0.        ,  0.        ,\n",
       "        0.        ,  0.        ,  0.        ,  0.        ,  0.        ,\n",
       "        0.        ,  0.        ,  0.        ,  0.        ,  0.        ,\n",
       "        0.        ,  0.        ,  0.        ,  0.        ,  0.        ,\n",
       "        0.        ,  0.        ,  0.        ,  0.        ,  0.        ,\n",
       "        0.19966981,  0.        ,  0.        , -0.19966981,  0.08146538,\n",
       "       -0.08146538,  0.        ,  0.        ,  0.08146538,  0.08146538,\n",
       "        0.        ,  0.        ,  0.08146538, -0.04073269,  0.07055109,\n",
       "        0.        ,  0.08146538,  0.04073269, -0.07055109,  0.        ])"
      ]
     },
     "execution_count": 4,
     "metadata": {},
     "output_type": "execute_result"
    }
   ],
   "source": [
    "tilde_r_tot[:100]"
   ]
  },
  {
   "cell_type": "code",
   "execution_count": null,
   "metadata": {},
   "outputs": [],
   "source": []
  }
 ],
 "metadata": {
  "kernelspec": {
   "display_name": "mlff",
   "language": "python",
   "name": "python3"
  },
  "language_info": {
   "codemirror_mode": {
    "name": "ipython",
    "version": 3
   },
   "file_extension": ".py",
   "mimetype": "text/x-python",
   "name": "python",
   "nbconvert_exporter": "python",
   "pygments_lexer": "ipython3",
   "version": "3.8.16"
  },
  "orig_nbformat": 4
 },
 "nbformat": 4,
 "nbformat_minor": 2
}
