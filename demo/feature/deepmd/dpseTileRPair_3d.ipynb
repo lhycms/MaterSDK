{
 "cells": [
  {
   "attachments": {},
   "cell_type": "markdown",
   "metadata": {},
   "source": [
    "# 0. Introduction\n",
    "1. We write `DpseTildeRPairV1` to construct the $\\widetilde{R}$ in `DeepPot-SE` \n",
    "    - Note: For pair elements"
   ]
  },
  {
   "cell_type": "code",
   "execution_count": 1,
   "metadata": {},
   "outputs": [],
   "source": [
    "from timeit import default_timer as timer\n",
    "from matersdk.io.publicLayer.structure import DStructure\n",
    "from matersdk.io.publicLayer.neigh import StructureNeighborsDescriptor\n",
    "from matersdk.feature.deepmd.se_pair import DpseTildeRPairDescriptor\n",
    "\n",
    "import warnings\n",
    "\n",
    "warnings.filterwarnings('ignore')"
   ]
  },
  {
   "attachments": {},
   "cell_type": "markdown",
   "metadata": {},
   "source": [
    "# 1. Demo for `DpseTildeRPairV1`"
   ]
  },
  {
   "cell_type": "code",
   "execution_count": 2,
   "metadata": {},
   "outputs": [
    {
     "name": "stdout",
     "output_type": "stream",
     "text": [
      "\n",
      "Step 1. Print the attributions of DeepmdSeR:\n",
      "\t1. deepmd_se_r.dp_feature_pair_an.shape =  (48, 37)\n",
      "\t2. deepmd_se_r.dp_feature_pair_d.shape =  (48, 37)\n",
      "\t3. deepmd_se_r.dp_feature_pair_rc.shape =  (48, 37, 3)\n",
      "\n",
      "Step 2. Get segmented form of s in Deepmd:\n",
      "\t1. s.shape =  (48, 37)\n",
      "\n",
      "Step 3.\n",
      "\t1. deepmd_se_r.dp_feature_pair_tildeR.shape =  (48, 37, 4)\n"
     ]
    }
   ],
   "source": [
    "atom_config_path = \"/data/home/liuhanyu/hyliu/code/matersdk/demo/feature/movement/LiSi.config\"\n",
    "structure = DStructure.from_file(\n",
    "                file_format=\"pwmat\",\n",
    "                file_path=atom_config_path)\n",
    "\n",
    "scaling_matrix = [3, 3, 3]\n",
    "reformat_mark = True\n",
    "coords_are_cartesian = True\n",
    "\n",
    "center_atomic_number = 3    # Li\n",
    "nbr_atomic_number = 14      # Si\n",
    "rcut = 7\n",
    "rcut_smooth = 6.5\n",
    "\n",
    "\n",
    "\n",
    "struct_nbr = StructureNeighborsDescriptor.create(\n",
    "                'v1',\n",
    "                structure=structure,\n",
    "                rcut=rcut,\n",
    "                scaling_matrix=scaling_matrix,\n",
    "                reformat_mark=reformat_mark,\n",
    "                coords_are_cartesian=coords_are_cartesian)\n",
    "dpse_tildeR_pair = DpseTildeRPairDescriptor.create(\n",
    "                'v1',\n",
    "                structure_neighbors=struct_nbr,\n",
    "                center_atomic_number=center_atomic_number,\n",
    "                nbr_atomic_number=nbr_atomic_number,\n",
    "                rcut=rcut,\n",
    "                rcut_smooth=rcut_smooth)\n",
    "\n",
    "\n",
    "print()\n",
    "print(\"Step 1. Print the attributions of DeepmdSeR:\")\n",
    "print(\"\\t1. deepmd_se_r.dp_feature_pair_an.shape = \", dpse_tildeR_pair.dp_feature_pair_an.shape)\n",
    "print(\"\\t2. deepmd_se_r.dp_feature_pair_d.shape = \", dpse_tildeR_pair.dp_feature_pair_d.shape)\n",
    "print(\"\\t3. deepmd_se_r.dp_feature_pair_rc.shape = \", dpse_tildeR_pair.dp_feature_pair_rc.shape)\n",
    "\n",
    "\n",
    "### Step 2. Get smooth edition s_{ij}\n",
    "print()\n",
    "print(\"Step 2. Get segmented form of s in Deepmd:\")\n",
    "print(\"\\t1. s.shape = \", dpse_tildeR_pair._get_s(rcut=rcut, rcut_smooth=rcut_smooth).shape)\n",
    "\n",
    "\n",
    "### Step 3.\n",
    "print()\n",
    "print(\"Step 3.\")\n",
    "print(\"\\t1. deepmd_se_r.dp_feature_pair_tildeR.shape = \", dpse_tildeR_pair.dp_feature_pair_tildeR.shape)"
   ]
  },
  {
   "cell_type": "code",
   "execution_count": 5,
   "metadata": {},
   "outputs": [
    {
     "data": {
      "text/plain": [
       "(37, 4)"
      ]
     },
     "execution_count": 5,
     "metadata": {},
     "output_type": "execute_result"
    }
   ],
   "source": [
    "dpse_tildeR_pair.dp_feature_pair_tildeR[0].shape"
   ]
  },
  {
   "cell_type": "code",
   "execution_count": null,
   "metadata": {},
   "outputs": [],
   "source": []
  }
 ],
 "metadata": {
  "kernelspec": {
   "display_name": "mlff",
   "language": "python",
   "name": "python3"
  },
  "language_info": {
   "codemirror_mode": {
    "name": "ipython",
    "version": 3
   },
   "file_extension": ".py",
   "mimetype": "text/x-python",
   "name": "python",
   "nbconvert_exporter": "python",
   "pygments_lexer": "ipython3",
   "version": "3.8.16"
  },
  "orig_nbformat": 4
 },
 "nbformat": 4,
 "nbformat_minor": 2
}
