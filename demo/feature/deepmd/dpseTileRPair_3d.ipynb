{
 "cells": [
  {
   "attachments": {},
   "cell_type": "markdown",
   "metadata": {},
   "source": [
    "# 0. Introduction\n",
    "1. We write `DpseTildeRPairV1` to construct the $\\widetilde{R}$ in `DeepPot-SE` \n",
    "    - Note: For pair elements"
   ]
  },
  {
   "cell_type": "code",
   "execution_count": 1,
   "metadata": {},
   "outputs": [],
   "source": [
    "import numpy as np\n",
    "from timeit import default_timer as timer\n",
    "from matersdk.io.publicLayer.structure import DStructure\n",
    "from matersdk.io.pwmat.output.movement import Movement\n",
    "from matersdk.io.publicLayer.neigh import (\n",
    "                    StructureNeighborsDescriptor,\n",
    "                    StructureNeighborsUtils\n",
    ")\n",
    "from matersdk.feature.deepmd.se_pair import DpseTildeRPairDescriptor\n",
    "\n",
    "import warnings\n",
    "\n",
    "warnings.filterwarnings('ignore')"
   ]
  },
  {
   "attachments": {},
   "cell_type": "markdown",
   "metadata": {},
   "source": [
    "# 1. Demo for `DpseTildeRPairV1`\n",
    "Calculate the `Environment matrix` (Rij) for Li-Li pair"
   ]
  },
  {
   "attachments": {},
   "cell_type": "markdown",
   "metadata": {},
   "source": [
    "## 1.1. Calculate the `Environment matrix` (Rij) for Li-Li pair"
   ]
  },
  {
   "cell_type": "code",
   "execution_count": 6,
   "metadata": {},
   "outputs": [
    {
     "name": "stdout",
     "output_type": "stream",
     "text": [
      "\n",
      "Step 1. Print the attributions of DeepmdSeR:\n",
      "\t1. deepmd_se_r.dp_feature_pair_an.shape =  (48, 20)\n",
      "\t2. deepmd_se_r.dp_feature_pair_d.shape =  (48, 20)\n",
      "\t3. deepmd_se_r.dp_feature_pair_rc.shape =  (48, 20, 3)\n",
      "\n",
      "Step 2. Get segmented form of s in Deepmd:\n",
      "\t1. s.shape =  (48, 20)\n",
      "\n",
      "Step 3.\n",
      "\t1. deepmd_se_r.dp_feature_pair_tildeR.shape =  (48, 20, 4)\n"
     ]
    }
   ],
   "source": [
    "movement_path = \"/data/home/liuhanyu/hyliu/code/mlff/test/demo2/PWdata/data1/MOVEMENT\"\n",
    "structure = Movement(movement_path=movement_path).get_frame_structure(idx_frame=343)\n",
    "\n",
    "scaling_matrix = [3, 3, 3]\n",
    "reformat_mark = True\n",
    "coords_are_cartesian = True\n",
    "\n",
    "center_atomic_number = 3    # Li\n",
    "nbr_atomic_numbers = [3, 14]      # Li, Si\n",
    "max_num_nbrs = [100, 100]\n",
    "rcut = 5\n",
    "rcut_smooth = 0.5\n",
    "\n",
    "\n",
    "\n",
    "struct_nbr = StructureNeighborsDescriptor.create(\n",
    "                'v1',\n",
    "                structure=structure,\n",
    "                rcut=rcut,\n",
    "                scaling_matrix=scaling_matrix,\n",
    "                reformat_mark=reformat_mark,\n",
    "                coords_are_cartesian=coords_are_cartesian)\n",
    "dpse_tildeR_pair = DpseTildeRPairDescriptor.create(\n",
    "                'v1',\n",
    "                structure_neighbors=struct_nbr,\n",
    "                center_atomic_number=center_atomic_number,\n",
    "                nbr_atomic_number=nbr_atomic_numbers[0],    # Li\n",
    "                rcut=rcut,\n",
    "                rcut_smooth=rcut_smooth)\n",
    "\n",
    "\n",
    "print()\n",
    "print(\"Step 1. Print the attributions of DeepmdSeR:\")\n",
    "print(\"\\t1. deepmd_se_r.dp_feature_pair_an.shape = \", dpse_tildeR_pair.dp_feature_pair_an.shape)\n",
    "print(\"\\t2. deepmd_se_r.dp_feature_pair_d.shape = \", dpse_tildeR_pair.dp_feature_pair_d.shape)\n",
    "print(\"\\t3. deepmd_se_r.dp_feature_pair_rc.shape = \", dpse_tildeR_pair.dp_feature_pair_rc.shape)\n",
    "\n",
    "\n",
    "### Step 2. Get smooth edition s_{ij}\n",
    "print()\n",
    "print(\"Step 2. Get segmented form of s in Deepmd:\")\n",
    "print(\"\\t1. s.shape = \", dpse_tildeR_pair._get_s(rcut=rcut, rcut_smooth=rcut_smooth).shape)\n",
    "\n",
    "\n",
    "### Step 3.\n",
    "print()\n",
    "print(\"Step 3.\")\n",
    "print(\"\\t1. deepmd_se_r.dp_feature_pair_tildeR.shape = \", dpse_tildeR_pair.dp_feature_pair_tildeR.shape)"
   ]
  },
  {
   "attachments": {},
   "cell_type": "markdown",
   "metadata": {},
   "source": [
    "## 1.2. Zero-padding"
   ]
  },
  {
   "cell_type": "code",
   "execution_count": 7,
   "metadata": {},
   "outputs": [
    {
     "name": "stdout",
     "output_type": "stream",
     "text": [
      "1. Before zero-padding, Rij's shape = \t(48, 20, 4)\n",
      "2. After zero-padding, Rij's shape = \t(48, 100, 4)\n"
     ]
    }
   ],
   "source": [
    "print(\"1. Before zero-padding, Rij's shape = \", end='\\t')\n",
    "print(dpse_tildeR_pair.dp_feature_pair_tildeR.shape)\n",
    "print(\"2. After zero-padding, Rij's shape = \", end='\\t')\n",
    "print(dpse_tildeR_pair.get_tildeR(max_num_nbrs=max_num_nbrs[0]).shape)"
   ]
  },
  {
   "attachments": {},
   "cell_type": "markdown",
   "metadata": {},
   "source": [
    "# 1.3. Derivative of $\\tilde{R}^i_j$ with respect to x, y, z"
   ]
  },
  {
   "cell_type": "code",
   "execution_count": 8,
   "metadata": {},
   "outputs": [
    {
     "name": "stdout",
     "output_type": "stream",
     "text": [
      "2. After zero-padding, the derivative of Rij's shape = \t(48, 100, 4, 3)\n"
     ]
    }
   ],
   "source": [
    "print(\"2. After zero-padding, the derivative of Rij's shape = \", end='\\t')\n",
    "print(dpse_tildeR_pair.calc_derivative(max_num_nbrs=max_num_nbrs[0]).shape)"
   ]
  },
  {
   "attachments": {},
   "cell_type": "markdown",
   "metadata": {},
   "source": []
  },
  {
   "attachments": {},
   "cell_type": "markdown",
   "metadata": {},
   "source": [
    "# 2. For `PWmatMLFF`, get `neigh_list`\n",
    "The `343st` is corresponding to `image_005`"
   ]
  },
  {
   "cell_type": "code",
   "execution_count": 9,
   "metadata": {},
   "outputs": [],
   "source": [
    "neigh_list = StructureNeighborsUtils.get_nbrs_indices(\n",
    "                    struct_nbr=struct_nbr,\n",
    "                    center_atomic_number=center_atomic_number,\n",
    "                    nbr_atomic_number=nbr_atomic_numbers[0])"
   ]
  },
  {
   "cell_type": "code",
   "execution_count": 11,
   "metadata": {},
   "outputs": [
    {
     "data": {
      "text/plain": [
       "array([ 0,  2,  2,  3,  3,  4,  4,  9, 10, 12, 13, 14, 15, 37, 38, 40, 41,\n",
       "       42, 43, 45])"
      ]
     },
     "execution_count": 11,
     "metadata": {},
     "output_type": "execute_result"
    }
   ],
   "source": [
    "np.sort(neigh_list[0])"
   ]
  },
  {
   "attachments": {},
   "cell_type": "markdown",
   "metadata": {},
   "source": [
    "## 2.1. Compare with Fortran code\n",
    "Compare with the forth column of `PWdata/dRneigh.dat`."
   ]
  },
  {
   "cell_type": "code",
   "execution_count": 31,
   "metadata": {},
   "outputs": [
    {
     "name": "stdout",
     "output_type": "stream",
     "text": [
      "[ 2  2  3  3  4  4  9 10 12 13 14 15 37 38 40 41 42 43 45]\n"
     ]
    }
   ],
   "source": [
    "print(np.sort(neigh_list[0]))"
   ]
  },
  {
   "cell_type": "code",
   "execution_count": null,
   "metadata": {},
   "outputs": [],
   "source": []
  }
 ],
 "metadata": {
  "kernelspec": {
   "display_name": "mlff",
   "language": "python",
   "name": "python3"
  },
  "language_info": {
   "codemirror_mode": {
    "name": "ipython",
    "version": 3
   },
   "file_extension": ".py",
   "mimetype": "text/x-python",
   "name": "python",
   "nbconvert_exporter": "python",
   "pygments_lexer": "ipython3",
   "version": "3.8.16"
  },
  "orig_nbformat": 4
 },
 "nbformat": 4,
 "nbformat_minor": 2
}
