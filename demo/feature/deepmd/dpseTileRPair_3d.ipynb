{
 "cells": [
  {
   "attachments": {},
   "cell_type": "markdown",
   "metadata": {},
   "source": [
    "# 0. Introduction\n",
    "1. We write `DpseTildeRPairV1` to construct the $\\widetilde{R}$ in `DeepPot-SE` \n",
    "    - Note: For pair elements"
   ]
  },
  {
   "cell_type": "code",
   "execution_count": 12,
   "metadata": {},
   "outputs": [],
   "source": [
    "from timeit import default_timer as timer\n",
    "from matersdk.io.publicLayer.structure import DStructure\n",
    "from matersdk.io.pwmat.output.movement import Movement\n",
    "from matersdk.io.publicLayer.neigh import (\n",
    "                    StructureNeighborsDescriptor,\n",
    "                    StructureNeighborsUtils\n",
    ")\n",
    "from matersdk.feature.deepmd.se_pair import DpseTildeRPairDescriptor\n",
    "\n",
    "import warnings\n",
    "\n",
    "warnings.filterwarnings('ignore')"
   ]
  },
  {
   "attachments": {},
   "cell_type": "markdown",
   "metadata": {},
   "source": [
    "# 1. Demo for `DpseTildeRPairV1`"
   ]
  },
  {
   "cell_type": "code",
   "execution_count": 13,
   "metadata": {},
   "outputs": [
    {
     "name": "stdout",
     "output_type": "stream",
     "text": [
      "\n",
      "Step 1. Print the attributions of DeepmdSeR:\n",
      "\t1. deepmd_se_r.dp_feature_pair_an.shape =  (48, 19)\n",
      "\t2. deepmd_se_r.dp_feature_pair_d.shape =  (48, 19)\n",
      "\t3. deepmd_se_r.dp_feature_pair_rc.shape =  (48, 19, 3)\n",
      "\n",
      "Step 2. Get segmented form of s in Deepmd:\n",
      "\t1. s.shape =  (48, 19)\n",
      "\n",
      "Step 3.\n",
      "\t1. deepmd_se_r.dp_feature_pair_tildeR.shape =  (48, 19, 4)\n"
     ]
    }
   ],
   "source": [
    "movement_path = \"/data/home/liuhanyu/hyliu/code/mlff/test/demo2/PWdata/data1/MOVEMENT\"\n",
    "structure = Movement(movement_path=movement_path).get_frame_structure(idx_frame=0)\n",
    "\n",
    "scaling_matrix = [3, 3, 3]\n",
    "reformat_mark = True\n",
    "coords_are_cartesian = True\n",
    "\n",
    "center_atomic_number = 3    # Li\n",
    "nbr_atomic_number = 3      # Li\n",
    "rcut = 5\n",
    "rcut_smooth = 5\n",
    "\n",
    "\n",
    "\n",
    "struct_nbr = StructureNeighborsDescriptor.create(\n",
    "                'v1',\n",
    "                structure=structure,\n",
    "                rcut=rcut,\n",
    "                scaling_matrix=scaling_matrix,\n",
    "                reformat_mark=reformat_mark,\n",
    "                coords_are_cartesian=coords_are_cartesian)\n",
    "dpse_tildeR_pair = DpseTildeRPairDescriptor.create(\n",
    "                'v1',\n",
    "                structure_neighbors=struct_nbr,\n",
    "                center_atomic_number=center_atomic_number,\n",
    "                nbr_atomic_number=nbr_atomic_number,\n",
    "                rcut=rcut,\n",
    "                rcut_smooth=rcut_smooth)\n",
    "\n",
    "\n",
    "print()\n",
    "print(\"Step 1. Print the attributions of DeepmdSeR:\")\n",
    "print(\"\\t1. deepmd_se_r.dp_feature_pair_an.shape = \", dpse_tildeR_pair.dp_feature_pair_an.shape)\n",
    "print(\"\\t2. deepmd_se_r.dp_feature_pair_d.shape = \", dpse_tildeR_pair.dp_feature_pair_d.shape)\n",
    "print(\"\\t3. deepmd_se_r.dp_feature_pair_rc.shape = \", dpse_tildeR_pair.dp_feature_pair_rc.shape)\n",
    "\n",
    "\n",
    "### Step 2. Get smooth edition s_{ij}\n",
    "print()\n",
    "print(\"Step 2. Get segmented form of s in Deepmd:\")\n",
    "print(\"\\t1. s.shape = \", dpse_tildeR_pair._get_s(rcut=rcut, rcut_smooth=rcut_smooth).shape)\n",
    "\n",
    "\n",
    "### Step 3.\n",
    "print()\n",
    "print(\"Step 3.\")\n",
    "print(\"\\t1. deepmd_se_r.dp_feature_pair_tildeR.shape = \", dpse_tildeR_pair.dp_feature_pair_tildeR.shape)"
   ]
  },
  {
   "cell_type": "code",
   "execution_count": 14,
   "metadata": {},
   "outputs": [
    {
     "data": {
      "text/plain": [
       "(19, 4)"
      ]
     },
     "execution_count": 14,
     "metadata": {},
     "output_type": "execute_result"
    }
   ],
   "source": [
    "dpse_tildeR_pair.dp_feature_pair_tildeR[0].shape"
   ]
  },
  {
   "cell_type": "markdown",
   "metadata": {},
   "source": []
  },
  {
   "attachments": {},
   "cell_type": "markdown",
   "metadata": {},
   "source": [
    "# 2. For `PWmatMLFF`, get `neigh_list`"
   ]
  },
  {
   "cell_type": "code",
   "execution_count": 19,
   "metadata": {},
   "outputs": [],
   "source": [
    "neigh_list = StructureNeighborsUtils.get_nbrs_indices(\n",
    "                    struct_nbr=struct_nbr,\n",
    "                    center_atomic_number=center_atomic_number,\n",
    "                    nbr_atomic_number=nbr_atomic_number)"
   ]
  },
  {
   "cell_type": "code",
   "execution_count": 30,
   "metadata": {},
   "outputs": [
    {
     "data": {
      "text/plain": [
       "array([[40, 38, 37, 45, 12,  9, 10, 13, 15, 14,  2,  4,  3,  3,  2,  4,\n",
       "        42, 43, 41],\n",
       "       [37, 38, 39, 46, 10,  9, 11, 14, 16, 15,  1,  3,  4,  4,  1,  3,\n",
       "        44, 43, 42],\n",
       "       [38, 39, 40, 47, 10, 11, 12, 15, 16, 13,  2,  4,  1,  1,  4,  2,\n",
       "        44, 41, 43],\n",
       "       [39, 40, 37, 48, 11, 12,  9, 16, 14, 13,  1,  3,  2,  2,  3,  1,\n",
       "        41, 42, 44],\n",
       "       [19, 18, 17, 25, 15, 14, 13, 10, 12,  9,  6,  8,  7,  7,  8,  6,\n",
       "        32, 29, 30],\n",
       "       [20, 19, 18, 26, 16, 15, 14, 11,  9, 10,  7,  5,  8,  8,  5,  7,\n",
       "        30, 29, 31],\n",
       "       [20, 17, 19, 27, 16, 13, 15, 12, 10, 11,  6,  8,  5,  5,  8,  6,\n",
       "        30, 31, 32],\n",
       "       [18, 17, 20, 28, 13, 14, 16,  9, 11, 12,  7,  5,  6,  6,  5,  7,\n",
       "        31, 32, 29],\n",
       "       [37, 13, 14, 15,  2,  1,  4,  8,  6,  5, 12, 10, 11, 11, 10, 12,\n",
       "        18, 17, 19],\n",
       "       [38, 14, 15, 16,  3,  2,  1,  5,  7,  6,  9, 11, 12, 12, 11,  9,\n",
       "        18, 19, 20]])"
      ]
     },
     "execution_count": 30,
     "metadata": {},
     "output_type": "execute_result"
    }
   ],
   "source": [
    "neigh_list[0:10]"
   ]
  },
  {
   "cell_type": "code",
   "execution_count": 16,
   "metadata": {},
   "outputs": [
    {
     "data": {
      "text/plain": [
       "array([[ 2.24613115,  1.26193103,  0.40983658],\n",
       "       [ 4.41639206,  0.00997971,  1.13661614],\n",
       "       [ 2.32551443,  3.78535143,  1.13634179],\n",
       "       [ 0.05971646,  2.4974472 , -0.41150095],\n",
       "       [ 4.44548443,  2.48641568, -0.41111687],\n",
       "       [ 0.01962851,  0.01983827,  1.12891616],\n",
       "       [ 2.15597907, -1.26536109, -0.40700167],\n",
       "       [ 2.17255685,  1.21688548, -2.34425136],\n",
       "       [ 4.34851363, -0.02954319, -1.13756721],\n",
       "       [ 2.27947929,  3.73469457, -1.13623206],\n",
       "       [-0.02286512, -0.01689586, -1.13584797],\n",
       "       [ 0.12225203,  2.5334953 ,  2.34697653],\n",
       "       [ 2.20503752, -1.21646395,  2.35518862],\n",
       "       [ 4.5053906 ,  2.54081382,  2.34545848],\n",
       "       [ 0.0914622 ,  0.051895  ,  3.76444998],\n",
       "       [ 4.47197198,  0.05317369,  3.7578108 ],\n",
       "       [ 2.3921808 ,  3.80696915,  3.75197637],\n",
       "       [ 4.31042488, -2.49966982,  0.40848314],\n",
       "       [ 0.1579049 ,  5.01364662,  0.40720286],\n",
       "       [ 6.61684702,  1.2623561 ,  0.41428099],\n",
       "       [-2.14267198,  1.2623561 ,  0.41428099],\n",
       "       [ 4.53132488,  5.01366518,  0.40848314],\n",
       "       [-0.0629951 , -2.49968838,  0.40720286],\n",
       "       [ 2.2242508 ,  3.70669962, -3.75020227],\n",
       "       [ 4.30062208, -0.05509242, -3.75696947],\n",
       "       [-0.07534392, -0.06167074, -3.7453372 ],\n",
       "       [ 0.        ,  0.        ,  0.        ],\n",
       "       [ 0.        ,  0.        ,  0.        ],\n",
       "       [ 0.        ,  0.        ,  0.        ],\n",
       "       [ 0.        ,  0.        ,  0.        ],\n",
       "       [ 0.        ,  0.        ,  0.        ]])"
      ]
     },
     "execution_count": 16,
     "metadata": {},
     "output_type": "execute_result"
    }
   ],
   "source": [
    "struct_nbr.key_nbr_coords[0]"
   ]
  },
  {
   "cell_type": "code",
   "execution_count": null,
   "metadata": {},
   "outputs": [],
   "source": []
  }
 ],
 "metadata": {
  "kernelspec": {
   "display_name": "mlff",
   "language": "python",
   "name": "python3"
  },
  "language_info": {
   "codemirror_mode": {
    "name": "ipython",
    "version": 3
   },
   "file_extension": ".py",
   "mimetype": "text/x-python",
   "name": "python",
   "nbconvert_exporter": "python",
   "pygments_lexer": "ipython3",
   "version": "3.8.16"
  },
  "orig_nbformat": 4
 },
 "nbformat": 4,
 "nbformat_minor": 2
}
