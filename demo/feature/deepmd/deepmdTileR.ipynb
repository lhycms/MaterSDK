{
 "cells": [
  {
   "attachments": {},
   "cell_type": "markdown",
   "metadata": {},
   "source": [
    "# 0. Introduction\n",
    "1. We write `DeepmdSeTildeR` to construct the $\\widetilde{R}$ in `DeepPot-SE`"
   ]
  },
  {
   "cell_type": "code",
   "execution_count": 3,
   "metadata": {},
   "outputs": [],
   "source": [
    "from timeit import default_timer as timer\n",
    "from matersdk.io.publicLayer.structure import DStructure\n",
    "from matersdk.io.publicLayer.neigh import StructureNeighborsV2\n",
    "from matersdk.feature.deepmd.se import DeepmdSeTildeR"
   ]
  },
  {
   "attachments": {},
   "cell_type": "markdown",
   "metadata": {},
   "source": [
    "# 1. Demo for `DeepmdSeTildeR`\n",
    "1. Running time = 0.030405722558498383 s"
   ]
  },
  {
   "cell_type": "code",
   "execution_count": 13,
   "metadata": {},
   "outputs": [
    {
     "name": "stdout",
     "output_type": "stream",
     "text": [
      "1.1. R in DeepPot-SE\n",
      "[[[ 0.24842529  0.24842529  0.          0.        ]\n",
      "  [ 0.24842529 -0.24842529  0.          0.        ]\n",
      "  [ 0.24842529 -0.12421263  0.21514262  0.        ]\n",
      "  [ 0.24842529  0.12421263 -0.21514262  0.        ]\n",
      "  [ 0.24842505  0.12421253  0.2151424   0.        ]\n",
      "  [ 0.24842505 -0.12421253 -0.2151424   0.        ]\n",
      "  [ 0.          0.          0.          0.        ]\n",
      "  [ 0.          0.          0.          0.        ]\n",
      "  [ 0.          0.          0.          0.        ]\n",
      "  [ 0.          0.          0.          0.        ]]\n",
      "\n",
      " [[ 0.24842529 -0.24842529  0.          0.        ]\n",
      "  [ 0.24842529  0.24842529  0.          0.        ]\n",
      "  [ 0.24842529 -0.12421263  0.21514262  0.        ]\n",
      "  [ 0.24842529  0.12421263 -0.21514262  0.        ]\n",
      "  [ 0.24842505  0.12421253  0.2151424   0.        ]\n",
      "  [ 0.24842505 -0.12421253 -0.2151424   0.        ]\n",
      "  [ 0.          0.          0.          0.        ]\n",
      "  [ 0.          0.          0.          0.        ]\n",
      "  [ 0.          0.          0.          0.        ]\n",
      "  [ 0.          0.          0.          0.        ]]\n",
      "\n",
      " [[ 0.24842529 -0.24842529  0.          0.        ]\n",
      "  [ 0.24842529  0.24842529  0.          0.        ]\n",
      "  [ 0.24842529  0.12421263 -0.21514262  0.        ]\n",
      "  [ 0.24842529 -0.12421263  0.21514262  0.        ]\n",
      "  [ 0.24842505 -0.12421253 -0.2151424   0.        ]\n",
      "  [ 0.24842505  0.12421253  0.2151424   0.        ]\n",
      "  [ 0.          0.          0.          0.        ]\n",
      "  [ 0.          0.          0.          0.        ]\n",
      "  [ 0.          0.          0.          0.        ]\n",
      "  [ 0.          0.          0.          0.        ]]\n",
      "\n",
      " [[ 0.24842529  0.24842529  0.          0.        ]\n",
      "  [ 0.24842529 -0.24842529  0.          0.        ]\n",
      "  [ 0.24842529  0.12421263 -0.21514262  0.        ]\n",
      "  [ 0.24842529 -0.12421263  0.21514262  0.        ]\n",
      "  [ 0.24842505 -0.12421253 -0.2151424   0.        ]\n",
      "  [ 0.24842505  0.12421253  0.2151424   0.        ]\n",
      "  [ 0.          0.          0.          0.        ]\n",
      "  [ 0.          0.          0.          0.        ]\n",
      "  [ 0.          0.          0.          0.        ]\n",
      "  [ 0.          0.          0.          0.        ]]]\n",
      "\n",
      "\n",
      "\n",
      "Running time = 0.031161807477474213 s\n"
     ]
    }
   ],
   "source": [
    "atom_config_path = \"/data/home/liuhanyu/hyliu/code/pflow/demo/structure/atom.config\"\n",
    "scaling_matrix = [5, 5, 1]\n",
    "reformat_mark = True\n",
    "n_neighbors = 200\n",
    "coords_are_cartesian = True\n",
    "\n",
    "center_atomic_number = 42\n",
    "nbr_atomic_number = 42\n",
    "rcut = 3.4\n",
    "rcut_smooth = 3.1\n",
    "max_num_nbrs = 10\n",
    "\n",
    "_start = timer()\n",
    "structure = DStructure.from_file(\n",
    "                file_format=\"pwmat\",\n",
    "                file_path=atom_config_path)\n",
    "struct_nbr = StructureNeighborsV2(\n",
    "                structure=structure,\n",
    "                scaling_matrix=scaling_matrix,\n",
    "                reformat_mark=reformat_mark,\n",
    "                n_neighbors=n_neighbors,\n",
    "                #algorithm=algorithm,\n",
    "                coords_are_cartesian=coords_are_cartesian)\n",
    "deepmd_se_r = DeepmdSeTildeR(\n",
    "                structure_neighbors=struct_nbr,\n",
    "                center_atomic_number=center_atomic_number,\n",
    "                nbr_atomic_number=nbr_atomic_number,\n",
    "                rcut=rcut,\n",
    "                rcut_smooth=rcut_smooth,\n",
    "                max_num_nbrs=max_num_nbrs)\n",
    "_end = timer()\n",
    "\n",
    "#print(deepmd_se_r.dp_feature_pair_an)\n",
    "#print(deepmd_se_r.dp_feature_pair_d)\n",
    "#print(deepmd_se_r.dp_feature_pair_rc)\n",
    "print(\"1.1. R in DeepPot-SE\")\n",
    "print(deepmd_se_r.dp_feature_pair_tildeR)\n",
    "print(\"\\n\\n\")\n",
    "print(\"Running time = {0} s\".format(_end - _start))"
   ]
  },
  {
   "cell_type": "code",
   "execution_count": null,
   "metadata": {},
   "outputs": [],
   "source": []
  }
 ],
 "metadata": {
  "kernelspec": {
   "display_name": "mlff",
   "language": "python",
   "name": "python3"
  },
  "language_info": {
   "codemirror_mode": {
    "name": "ipython",
    "version": 3
   },
   "file_extension": ".py",
   "mimetype": "text/x-python",
   "name": "python",
   "nbconvert_exporter": "python",
   "pygments_lexer": "ipython3",
   "version": "3.8.16"
  },
  "orig_nbformat": 4
 },
 "nbformat": 4,
 "nbformat_minor": 2
}
