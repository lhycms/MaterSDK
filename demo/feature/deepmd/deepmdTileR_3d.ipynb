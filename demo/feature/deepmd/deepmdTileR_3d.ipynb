{
 "cells": [
  {
   "attachments": {},
   "cell_type": "markdown",
   "metadata": {},
   "source": [
    "# 0. Introduction\n",
    "1. We write `DeepmdSeTildeR` to construct the $\\widetilde{R}$ in `DeepPot-SE`"
   ]
  },
  {
   "cell_type": "code",
   "execution_count": 1,
   "metadata": {},
   "outputs": [],
   "source": [
    "from timeit import default_timer as timer\n",
    "from pflow.io.publicLayer.structure import DStructure\n",
    "from pflow.io.publicLayer.neigh import StructureNeighborsV2\n",
    "from pflow.feature.deepmd.se import DeepmdSeTildeR"
   ]
  },
  {
   "attachments": {},
   "cell_type": "markdown",
   "metadata": {},
   "source": [
    "# 1. Demo for `DeepmdSeTildeR`\n",
    "1. Running time = 0.2314864993095398 s"
   ]
  },
  {
   "cell_type": "code",
   "execution_count": 4,
   "metadata": {},
   "outputs": [
    {
     "name": "stdout",
     "output_type": "stream",
     "text": [
      "1.1. R in DeepPot-SE\n",
      "[[[ 0.38989146  0.32687363 -0.18861164  0.09795218]\n",
      "  [ 0.3876594  -0.3245613  -0.18864416  0.09671171]\n",
      "  [ 0.37817839  0.01436821  0.36341413  0.1036466 ]\n",
      "  ...\n",
      "  [ 0.          0.          0.          0.        ]\n",
      "  [ 0.          0.          0.          0.        ]\n",
      "  [ 0.          0.          0.          0.        ]]\n",
      "\n",
      " [[ 0.38845326  0.01132949  0.37101977  0.11450724]\n",
      "  [ 0.37867847  0.30257434 -0.19743547  0.11342568]\n",
      "  [ 0.37223559 -0.29759346 -0.19098885  0.11627866]\n",
      "  ...\n",
      "  [ 0.          0.          0.          0.        ]\n",
      "  [ 0.          0.          0.          0.        ]\n",
      "  [ 0.          0.          0.          0.        ]]\n",
      "\n",
      " [[ 0.39670084 -0.33035184 -0.19113575  0.10819586]\n",
      "  [ 0.38484031  0.32345499 -0.18203168  0.10170251]\n",
      "  [ 0.37454811  0.01526631  0.36036188  0.10095814]\n",
      "  ...\n",
      "  [ 0.          0.          0.          0.        ]\n",
      "  [ 0.          0.          0.          0.        ]\n",
      "  [ 0.          0.          0.          0.        ]]\n",
      "\n",
      " ...\n",
      "\n",
      " [[ 0.38177335  0.00343547 -0.00208869 -0.38175218]\n",
      "  [ 0.35595299  0.01555651  0.31293365  0.1689173 ]\n",
      "  [ 0.35497533 -0.2599267  -0.17817625  0.16339772]\n",
      "  ...\n",
      "  [ 0.          0.          0.          0.        ]\n",
      "  [ 0.          0.          0.          0.        ]\n",
      "  [ 0.          0.          0.          0.        ]]\n",
      "\n",
      " [[ 0.37127548 -0.28705589 -0.16592438  0.16707335]\n",
      "  [ 0.35817437  0.00395765  0.0182705  -0.35768618]\n",
      "  [ 0.35214484  0.28115394 -0.15660299  0.14294738]\n",
      "  ...\n",
      "  [ 0.          0.          0.          0.        ]\n",
      "  [ 0.          0.          0.          0.        ]\n",
      "  [ 0.          0.          0.          0.        ]]\n",
      "\n",
      " [[ 0.3688834  -0.02293849  0.01131027 -0.36799574]\n",
      "  [ 0.36415771  0.005309    0.32730278  0.15954795]\n",
      "  [ 0.35933921  0.27089375 -0.17516147  0.15830257]\n",
      "  ...\n",
      "  [ 0.          0.          0.          0.        ]\n",
      "  [ 0.          0.          0.          0.        ]\n",
      "  [ 0.          0.          0.          0.        ]]]\n",
      "\n",
      "\n",
      "\n",
      "Running time = 0.22877619415521622 s\n"
     ]
    }
   ],
   "source": [
    "atom_config_path = \"/data/home/liuhanyu/hyliu/code/pflow/demo/feature/movement/LiSi.config\"\n",
    "scaling_matrix = [3, 3, 3]\n",
    "reformat_mark = True\n",
    "n_neighbors = 200\n",
    "coords_are_cartesian = True\n",
    "\n",
    "center_atomic_number = 3    # Li\n",
    "nbr_atomic_number = 14      # Si\n",
    "rcut = 3.4\n",
    "rcut_smooth = 3.1\n",
    "max_num_nbrs = 10\n",
    "\n",
    "_start = timer()\n",
    "structure = DStructure.from_file(\n",
    "                file_format=\"pwmat\",\n",
    "                file_path=atom_config_path)\n",
    "struct_nbr = StructureNeighborsV2(\n",
    "                structure=structure,\n",
    "                scaling_matrix=scaling_matrix,\n",
    "                reformat_mark=reformat_mark,\n",
    "                n_neighbors=n_neighbors,\n",
    "                #algorithm=algorithm,\n",
    "                coords_are_cartesian=coords_are_cartesian)\n",
    "deepmd_se_r = DeepmdSeTildeR(\n",
    "                structure_neighbors=struct_nbr,\n",
    "                center_atomic_number=center_atomic_number,\n",
    "                nbr_atomic_number=nbr_atomic_number,\n",
    "                rcut=rcut,\n",
    "                rcut_smooth=rcut_smooth,\n",
    "                max_num_nbrs=max_num_nbrs)\n",
    "_end = timer()\n",
    "\n",
    "#print(deepmd_se_r.dp_feature_pair_an)\n",
    "#print(deepmd_se_r.dp_feature_pair_d)\n",
    "#print(deepmd_se_r.dp_feature_pair_rc)\n",
    "print(\"1.1. R in DeepPot-SE\")\n",
    "print(deepmd_se_r.dp_feature_pair_tildeR)\n",
    "print(\"\\n\\n\")\n",
    "print(\"Running time = {0} s\".format(_end - _start))"
   ]
  },
  {
   "cell_type": "code",
   "execution_count": null,
   "metadata": {},
   "outputs": [],
   "source": []
  }
 ],
 "metadata": {
  "kernelspec": {
   "display_name": "mlff",
   "language": "python",
   "name": "python3"
  },
  "language_info": {
   "codemirror_mode": {
    "name": "ipython",
    "version": 3
   },
   "file_extension": ".py",
   "mimetype": "text/x-python",
   "name": "python",
   "nbconvert_exporter": "python",
   "pygments_lexer": "ipython3",
   "version": "3.8.16"
  },
  "orig_nbformat": 4
 },
 "nbformat": 4,
 "nbformat_minor": 2
}
