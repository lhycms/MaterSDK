{
 "cells": [
  {
   "attachments": {},
   "cell_type": "markdown",
   "metadata": {},
   "source": [
    "# 0. Introduction\n",
    "1. We write `DeepmdSeTildeR` to construct the $\\widetilde{R}$ in `DeepPot-SE`"
   ]
  },
  {
   "cell_type": "code",
   "execution_count": 1,
   "metadata": {},
   "outputs": [],
   "source": [
    "from timeit import default_timer as timer\n",
    "from matersdk.io.publicLayer.structure import DStructure\n",
    "from matersdk.io.publicLayer.neigh import (\n",
    "                StructureNeighborsDescriptor,\n",
    "                StructureNeighborsUtils\n",
    ")\n",
    "from matersdk.feature.deepmd.se_pair import DpseTildeRPairDescriptor\n",
    "\n",
    "import warnings\n",
    "warnings.filterwarnings('ignore')\n"
   ]
  },
  {
   "attachments": {},
   "cell_type": "markdown",
   "metadata": {},
   "source": [
    "# 1. Demo for `DpseTildeRPairV1`"
   ]
  },
  {
   "cell_type": "code",
   "execution_count": 3,
   "metadata": {},
   "outputs": [
    {
     "name": "stdout",
     "output_type": "stream",
     "text": [
      "\n",
      "Step 1. Print the attributions of DeepmdSeR:\n",
      "\t1. deepmd_se_r.dp_feature_pair_an.shape =  (4, 6)\n",
      "\t2. deepmd_se_r.dp_feature_pair_d.shape =  (4, 6)\n",
      "\t3. deepmd_se_r.dp_feature_pair_rc.shape =  (4, 6, 3)\n",
      "\n",
      "Step 2. Get segmented form of s in Deepmd:\n",
      "\t1. s.shape =  (4, 6)\n",
      "\n",
      "Step 3.\n",
      "\t1. deepmd_se_r.dp_feature_pair_tildeR.shape =  (4, 6, 4)\n"
     ]
    }
   ],
   "source": [
    "atom_config_path = \"/data/home/liuhanyu/hyliu/code/matersdk/demo/structure/atom.config\"\n",
    "scaling_matrix = [5, 5, 1]\n",
    "reformat_mark = True\n",
    "coords_are_cartesian = True\n",
    "\n",
    "center_atomic_number = 42\n",
    "nbr_atomic_number = 42\n",
    "rcut = 3.3\n",
    "rcut_smooth = 3.0\n",
    "\n",
    "structure = DStructure.from_file(\n",
    "                file_format=\"pwmat\",\n",
    "                file_path=atom_config_path)\n",
    "neighbors = StructureNeighborsDescriptor.create(\n",
    "                'v1',\n",
    "                structure=structure,\n",
    "                rcut=rcut,\n",
    "                scaling_matrix=scaling_matrix,\n",
    "                reformat_mark=reformat_mark,\n",
    "                coords_are_cartesian=coords_are_cartesian)\n",
    "\n",
    "### Step 1. Print the attributions of DeepmdSeR\n",
    "dpse_tildeR_pair = DpseTildeRPairDescriptor.create(\n",
    "                'v1',\n",
    "                structure_neighbors=neighbors,\n",
    "                center_atomic_number=center_atomic_number,\n",
    "                nbr_atomic_number=nbr_atomic_number,\n",
    "                rcut=rcut,\n",
    "                rcut_smooth=rcut_smooth)\n",
    "\n",
    "print()\n",
    "print(\"Step 1. Print the attributions of DeepmdSeR:\")\n",
    "print(\"\\t1. deepmd_se_r.dp_feature_pair_an.shape = \", dpse_tildeR_pair.dp_feature_pair_an.shape)\n",
    "print(\"\\t2. deepmd_se_r.dp_feature_pair_d.shape = \", dpse_tildeR_pair.dp_feature_pair_d.shape)\n",
    "print(\"\\t3. deepmd_se_r.dp_feature_pair_rc.shape = \", dpse_tildeR_pair.dp_feature_pair_rc.shape)\n",
    "\n",
    "\n",
    "### Step 2. Get smooth edition s_{ij}\n",
    "print()\n",
    "print(\"Step 2. Get segmented form of s in Deepmd:\")\n",
    "print(\"\\t1. s.shape = \", dpse_tildeR_pair._get_s(rcut=rcut, rcut_smooth=rcut_smooth).shape)\n",
    "\n",
    "\n",
    "### Step 3.\n",
    "print()\n",
    "print(\"Step 3.\")\n",
    "print(\"\\t1. deepmd_se_r.dp_feature_pair_tildeR.shape = \", dpse_tildeR_pair.dp_feature_pair_tildeR.shape)"
   ]
  },
  {
   "cell_type": "code",
   "execution_count": 4,
   "metadata": {},
   "outputs": [
    {
     "name": "stdout",
     "output_type": "stream",
     "text": [
      "Step 4. With zero-padding, the shape of tildeR =  (4, 14, 4)\n"
     ]
    }
   ],
   "source": [
    "print(\"Step 4. With zero-padding, the shape of tildeR = \", end=' ')\n",
    "print(dpse_tildeR_pair.get_tildeR(max_num_nbrs=14).shape)"
   ]
  },
  {
   "cell_type": "code",
   "execution_count": 5,
   "metadata": {},
   "outputs": [
    {
     "data": {
      "text/plain": [
       "array([[[ 0.08146538,  0.08146538,  0.        ,  0.        ],\n",
       "        [ 0.08146538, -0.08146538,  0.        ,  0.        ],\n",
       "        [ 0.08146538, -0.04073269,  0.07055109,  0.        ],\n",
       "        [ 0.08146538,  0.04073269, -0.07055109,  0.        ],\n",
       "        [ 0.08146509,  0.04073255,  0.07055083,  0.        ],\n",
       "        [ 0.08146509, -0.04073255, -0.07055083,  0.        ]],\n",
       "\n",
       "       [[ 0.08146538, -0.08146538,  0.        ,  0.        ],\n",
       "        [ 0.08146538,  0.08146538,  0.        ,  0.        ],\n",
       "        [ 0.08146538, -0.04073269,  0.07055109,  0.        ],\n",
       "        [ 0.08146538,  0.04073269, -0.07055109,  0.        ],\n",
       "        [ 0.08146509,  0.04073255,  0.07055083,  0.        ],\n",
       "        [ 0.08146509, -0.04073255, -0.07055083,  0.        ]],\n",
       "\n",
       "       [[ 0.08146538, -0.08146538,  0.        ,  0.        ],\n",
       "        [ 0.08146538,  0.08146538,  0.        ,  0.        ],\n",
       "        [ 0.08146538,  0.04073269, -0.07055109,  0.        ],\n",
       "        [ 0.08146538, -0.04073269,  0.07055109,  0.        ],\n",
       "        [ 0.08146509, -0.04073255, -0.07055083,  0.        ],\n",
       "        [ 0.08146509,  0.04073255,  0.07055083,  0.        ]],\n",
       "\n",
       "       [[ 0.08146538,  0.08146538,  0.        ,  0.        ],\n",
       "        [ 0.08146538, -0.08146538,  0.        ,  0.        ],\n",
       "        [ 0.08146538,  0.04073269, -0.07055109,  0.        ],\n",
       "        [ 0.08146538, -0.04073269,  0.07055109,  0.        ],\n",
       "        [ 0.08146509, -0.04073255, -0.07055083,  0.        ],\n",
       "        [ 0.08146509,  0.04073255,  0.07055083,  0.        ]]])"
      ]
     },
     "execution_count": 5,
     "metadata": {},
     "output_type": "execute_result"
    }
   ],
   "source": [
    "dpse_tildeR_pair.dp_feature_pair_tildeR"
   ]
  },
  {
   "attachments": {},
   "cell_type": "markdown",
   "metadata": {},
   "source": [
    "# 2. For PWmatMLFF, get `neigh_list`"
   ]
  },
  {
   "cell_type": "code",
   "execution_count": 6,
   "metadata": {},
   "outputs": [
    {
     "ename": "TypeError",
     "evalue": "get_nbrs_indices() got an unexpected keyword argument 'center_atomic_number'",
     "output_type": "error",
     "traceback": [
      "\u001b[0;31m---------------------------------------------------------------------------\u001b[0m",
      "\u001b[0;31mTypeError\u001b[0m                                 Traceback (most recent call last)",
      "Cell \u001b[0;32mIn[6], line 1\u001b[0m\n\u001b[0;32m----> 1\u001b[0m neigh_list \u001b[39m=\u001b[39m StructureNeighborsUtils\u001b[39m.\u001b[39;49mget_nbrs_indices(\n\u001b[1;32m      2\u001b[0m                     struct_nbr\u001b[39m=\u001b[39;49mneighbors,\n\u001b[1;32m      3\u001b[0m                     center_atomic_number\u001b[39m=\u001b[39;49mcenter_atomic_number,\n\u001b[1;32m      4\u001b[0m                     nbr_atomic_number\u001b[39m=\u001b[39;49mnbr_atomic_number)\n\u001b[1;32m      5\u001b[0m \u001b[39mprint\u001b[39m(neigh_list)\n",
      "\u001b[0;31mTypeError\u001b[0m: get_nbrs_indices() got an unexpected keyword argument 'center_atomic_number'"
     ]
    }
   ],
   "source": [
    "neigh_list = StructureNeighborsUtils.get_nbrs_indices(\n",
    "                    struct_nbr=neighbors,\n",
    "                    center_atomic_number=center_atomic_number,\n",
    "                    nbr_atomic_number=nbr_atomic_number)\n",
    "print(neigh_list)"
   ]
  },
  {
   "cell_type": "code",
   "execution_count": null,
   "metadata": {},
   "outputs": [],
   "source": []
  },
  {
   "attachments": {},
   "cell_type": "markdown",
   "metadata": {},
   "source": [
    "# 3. Calculate the gradient of $\\tilde{R}^i_j$ with respect to `x`, `y` and `z`"
   ]
  },
  {
   "cell_type": "code",
   "execution_count": 9,
   "metadata": {},
   "outputs": [
    {
     "name": "stdout",
     "output_type": "stream",
     "text": [
      "1. Without zero-padding, shape of gradient =  (4, 6, 4, 3)\n"
     ]
    }
   ],
   "source": [
    "### Step 1.\n",
    "tildeR_deriv = dpse_tildeR_pair._calc_derivative()\n",
    "print(\"1. Without zero-padding, shape of gradient = \", tildeR_deriv.shape)\n",
    "\n",
    "### Step 2. \n",
    "#tildeR_deriv = dpse_tildeR_pair.calc_derivative(max_num_nbrs=26)\n",
    "#print(\"1. With zero-padding, shape of gradient = \", tildeR_deriv.shape)"
   ]
  },
  {
   "cell_type": "code",
   "execution_count": 10,
   "metadata": {},
   "outputs": [
    {
     "data": {
      "text/plain": [
       "array([[[[ 1.71177981,  0.        ,  0.        ],\n",
       "         [ 1.71177981,  0.        ,  0.        ],\n",
       "         [ 0.        , -0.02553521,  0.        ],\n",
       "         [ 0.        ,  0.        , -0.02553521]],\n",
       "\n",
       "        [[-1.71177981,  0.        ,  0.        ],\n",
       "         [ 1.71177981, -0.        , -0.        ],\n",
       "         [-0.        , -0.02553521,  0.        ],\n",
       "         [-0.        ,  0.        , -0.02553521]],\n",
       "\n",
       "        [[-0.85588981,  1.48244486,  0.        ],\n",
       "         [ 0.40879345, -0.75227942, -0.        ],\n",
       "         [-0.75227942,  1.27745115,  0.        ],\n",
       "         [-0.        ,  0.        , -0.02553521]],\n",
       "\n",
       "        [[ 0.85588981, -1.48244486,  0.        ],\n",
       "         [ 0.40879345, -0.75227942,  0.        ],\n",
       "         [-0.75227942,  1.27745115, -0.        ],\n",
       "         [ 0.        , -0.        , -0.02553521]],\n",
       "\n",
       "        [[ 0.85588874,  1.48244267,  0.        ],\n",
       "         [ 0.40879305,  0.75227841,  0.        ],\n",
       "         [ 0.75227841,  1.27744921,  0.        ],\n",
       "         [ 0.        ,  0.        , -0.02553512]],\n",
       "\n",
       "        [[-0.85588874, -1.48244267,  0.        ],\n",
       "         [ 0.40879305,  0.75227841, -0.        ],\n",
       "         [ 0.75227841,  1.27744921, -0.        ],\n",
       "         [-0.        , -0.        , -0.02553512]]],\n",
       "\n",
       "\n",
       "       [[[-1.71177981,  0.        ,  0.        ],\n",
       "         [ 1.71177981, -0.        , -0.        ],\n",
       "         [-0.        , -0.02553521,  0.        ],\n",
       "         [-0.        ,  0.        , -0.02553521]],\n",
       "\n",
       "        [[ 1.71177981,  0.        ,  0.        ],\n",
       "         [ 1.71177981,  0.        ,  0.        ],\n",
       "         [ 0.        , -0.02553521,  0.        ],\n",
       "         [ 0.        ,  0.        , -0.02553521]],\n",
       "\n",
       "        [[-0.85588981,  1.48244486,  0.        ],\n",
       "         [ 0.40879345, -0.75227942, -0.        ],\n",
       "         [-0.75227942,  1.27745115,  0.        ],\n",
       "         [-0.        ,  0.        , -0.02553521]],\n",
       "\n",
       "        [[ 0.85588981, -1.48244486,  0.        ],\n",
       "         [ 0.40879345, -0.75227942,  0.        ],\n",
       "         [-0.75227942,  1.27745115, -0.        ],\n",
       "         [ 0.        , -0.        , -0.02553521]],\n",
       "\n",
       "        [[ 0.85588874,  1.48244267,  0.        ],\n",
       "         [ 0.40879305,  0.75227841,  0.        ],\n",
       "         [ 0.75227841,  1.27744921,  0.        ],\n",
       "         [ 0.        ,  0.        , -0.02553512]],\n",
       "\n",
       "        [[-0.85588874, -1.48244267,  0.        ],\n",
       "         [ 0.40879305,  0.75227841, -0.        ],\n",
       "         [ 0.75227841,  1.27744921, -0.        ],\n",
       "         [-0.        , -0.        , -0.02553512]]],\n",
       "\n",
       "\n",
       "       [[[-1.71177981,  0.        ,  0.        ],\n",
       "         [ 1.71177981, -0.        , -0.        ],\n",
       "         [-0.        , -0.02553521,  0.        ],\n",
       "         [-0.        ,  0.        , -0.02553521]],\n",
       "\n",
       "        [[ 1.71177981,  0.        ,  0.        ],\n",
       "         [ 1.71177981,  0.        ,  0.        ],\n",
       "         [ 0.        , -0.02553521,  0.        ],\n",
       "         [ 0.        ,  0.        , -0.02553521]],\n",
       "\n",
       "        [[ 0.85588981, -1.48244486,  0.        ],\n",
       "         [ 0.40879345, -0.75227942,  0.        ],\n",
       "         [-0.75227942,  1.27745115, -0.        ],\n",
       "         [ 0.        , -0.        , -0.02553521]],\n",
       "\n",
       "        [[-0.85588981,  1.48244486,  0.        ],\n",
       "         [ 0.40879345, -0.75227942, -0.        ],\n",
       "         [-0.75227942,  1.27745115,  0.        ],\n",
       "         [-0.        ,  0.        , -0.02553521]],\n",
       "\n",
       "        [[-0.85588874, -1.48244267,  0.        ],\n",
       "         [ 0.40879305,  0.75227841, -0.        ],\n",
       "         [ 0.75227841,  1.27744921, -0.        ],\n",
       "         [-0.        , -0.        , -0.02553512]],\n",
       "\n",
       "        [[ 0.85588874,  1.48244267,  0.        ],\n",
       "         [ 0.40879305,  0.75227841,  0.        ],\n",
       "         [ 0.75227841,  1.27744921,  0.        ],\n",
       "         [ 0.        ,  0.        , -0.02553512]]],\n",
       "\n",
       "\n",
       "       [[[ 1.71177981,  0.        ,  0.        ],\n",
       "         [ 1.71177981,  0.        ,  0.        ],\n",
       "         [ 0.        , -0.02553521,  0.        ],\n",
       "         [ 0.        ,  0.        , -0.02553521]],\n",
       "\n",
       "        [[-1.71177981,  0.        ,  0.        ],\n",
       "         [ 1.71177981, -0.        , -0.        ],\n",
       "         [-0.        , -0.02553521,  0.        ],\n",
       "         [-0.        ,  0.        , -0.02553521]],\n",
       "\n",
       "        [[ 0.85588981, -1.48244486,  0.        ],\n",
       "         [ 0.40879345, -0.75227942,  0.        ],\n",
       "         [-0.75227942,  1.27745115, -0.        ],\n",
       "         [ 0.        , -0.        , -0.02553521]],\n",
       "\n",
       "        [[-0.85588981,  1.48244486,  0.        ],\n",
       "         [ 0.40879345, -0.75227942, -0.        ],\n",
       "         [-0.75227942,  1.27745115,  0.        ],\n",
       "         [-0.        ,  0.        , -0.02553521]],\n",
       "\n",
       "        [[-0.85588874, -1.48244267,  0.        ],\n",
       "         [ 0.40879305,  0.75227841, -0.        ],\n",
       "         [ 0.75227841,  1.27744921, -0.        ],\n",
       "         [-0.        , -0.        , -0.02553512]],\n",
       "\n",
       "        [[ 0.85588874,  1.48244267,  0.        ],\n",
       "         [ 0.40879305,  0.75227841,  0.        ],\n",
       "         [ 0.75227841,  1.27744921,  0.        ],\n",
       "         [ 0.        ,  0.        , -0.02553512]]]])"
      ]
     },
     "execution_count": 10,
     "metadata": {},
     "output_type": "execute_result"
    }
   ],
   "source": [
    "tildeR_deriv"
   ]
  },
  {
   "cell_type": "code",
   "execution_count": null,
   "metadata": {},
   "outputs": [],
   "source": []
  }
 ],
 "metadata": {
  "kernelspec": {
   "display_name": "mlff",
   "language": "python",
   "name": "python3"
  },
  "language_info": {
   "codemirror_mode": {
    "name": "ipython",
    "version": 3
   },
   "file_extension": ".py",
   "mimetype": "text/x-python",
   "name": "python",
   "nbconvert_exporter": "python",
   "pygments_lexer": "ipython3",
   "version": "3.8.16"
  },
  "orig_nbformat": 4
 },
 "nbformat": 4,
 "nbformat_minor": 2
}
