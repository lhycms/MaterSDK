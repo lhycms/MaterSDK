{
 "cells": [
  {
   "attachments": {},
   "cell_type": "markdown",
   "metadata": {},
   "source": [
    "# 0. Introduction\n",
    "1. You can pick any frame structure from `MOVEMENT`, and get some key information from this structure."
   ]
  },
  {
   "cell_type": "code",
   "execution_count": 5,
   "metadata": {},
   "outputs": [],
   "source": [
    "from matersdk.io.pwmat.output.movement import Movement"
   ]
  },
  {
   "attachments": {},
   "cell_type": "markdown",
   "metadata": {},
   "source": [
    "# 1. Extract information from a certain\n",
    "\n",
    "## 1.1. Extract `structure` of a certain frame"
   ]
  },
  {
   "cell_type": "code",
   "execution_count": 7,
   "metadata": {},
   "outputs": [
    {
     "name": "stdout",
     "output_type": "stream",
     "text": [
      "Full Formula (Ge27 Te27)\n",
      "Reduced Formula: GeTe\n",
      "abc   :  12.689042  12.689042  10.937264\n",
      "angles:  90.000000  90.000000 120.000000\n",
      "pbc   :       True       True       True\n",
      "Sites (54)\n",
      "  #  SP            a          b         c  atomic_energy    atomic_force                                       atomic_velocity      magmom\n",
      "---  ----  ---------  ---------  --------  ---------------  -------------------------------------------------  -----------------  --------\n",
      "  0  Ge    -0.000993  -0.004349  0.219402  [0. 0. 0.]       [-0.73275422 -0.19307501 -0.12641208]              [0. 0. 0.]                0\n",
      "  1  Ge     0.332181  -0.005043  0.224024  [0. 0. 0.]       [-0.20179559 -0.07053787 -0.66101175]              [0. 0. 0.]                0\n",
      "  2  Ge     0.661733  -0.006322  0.21777   [0. 0. 0.]       [ 0.95247751  0.39893218 -0.63379175]              [0. 0. 0.]                0\n",
      "  3  Ge    -0.001198   0.327969  0.220452  [0. 0. 0.]       [-0.24000012 -0.206815   -0.25351564]              [0. 0. 0.]                0\n",
      "  4  Ge     0.330467   0.330089  0.222761  [0. 0. 0.]       [-0.99212688  0.35006185 -0.24919321]              [0. 0. 0.]                0\n",
      "  5  Ge     0.664554   0.328669  0.22228   [0. 0. 0.]       [ 0.22645943 -0.42909195 -0.03181367]              [0. 0. 0.]                0\n",
      "  6  Ge    -0.003392   0.659944  0.22418   [0. 0. 0.]       [-0.5346105   0.36791857 -0.7345996 ]              [0. 0. 0.]                0\n",
      "  7  Ge     0.33216    0.663581  0.22573   [0. 0. 0.]       [ 0.15648855  0.42567842 -0.29953713]              [0. 0. 0.]                0\n",
      "  8  Ge     0.660063   0.659066  0.222435  [0. 0. 0.]       [ 0.28650766  0.26246021 -0.63229124]              [0. 0. 0.]                0\n",
      "  9  Ge     0.225352   0.108539  0.559877  [0. 0. 0.]       [-0.17031789 -0.14719876  0.03395989]              [0. 0. 0.]                0\n",
      " 10  Ge     0.559155   0.107558  0.560445  [0. 0. 0.]       [ 0.68233294  0.07536812 -0.52627212]              [0. 0. 0.]                0\n",
      " 11  Ge     0.889832   0.107024  0.563694  [0. 0. 0.]       [-0.44509304  0.68729049 -0.27745655]              [0. 0. 0.]                0\n",
      " 12  Ge     0.224742   0.439123  0.554928  [0. 0. 0.]       [ 0.40406862  0.03414796 -0.48478924]              [0. 0. 0.]                0\n",
      " 13  Ge     0.555964   0.439241  0.556414  [0. 0. 0.]       [-0.35557417 -0.28344658 -0.12609087]              [0. 0. 0.]                0\n",
      " 14  Ge     0.889151   0.442105  0.555711  [0. 0. 0.]       [ 0.23704752 -0.00886589 -0.77693241]              [0. 0. 0.]                0\n",
      " 15  Ge     0.228611   0.778129  0.557935  [0. 0. 0.]       [ 0.01699141  0.02165857 -0.38598277]              [0. 0. 0.]                0\n",
      " 16  Ge     0.562708   0.778425  0.555126  [0. 0. 0.]       [-0.24206449  0.64458706 -0.4645944 ]              [0. 0. 0.]                0\n",
      " 17  Ge     0.89466    0.779328  0.559253  [0. 0. 0.]       [ 6.05926206e-01  3.42449930e-04 -2.55790604e-03]  [0. 0. 0.]                0\n",
      " 18  Ge     0.119279   0.225982  0.890414  [0. 0. 0.]       [ 0.4077533  -0.10144367 -0.299977  ]              [0. 0. 0.]                0\n",
      " 19  Ge     0.450612   0.224404  0.889968  [0. 0. 0.]       [-0.05017428  0.31281697  0.04706947]              [0. 0. 0.]                0\n",
      " 20  Ge     0.781674   0.223735  0.891103  [0. 0. 0.]       [-0.33423206 -0.22204092  0.19564368]              [0. 0. 0.]                0\n",
      " 21  Ge     0.115012   0.55634   0.888171  [0. 0. 0.]       [-0.19897944 -0.07834128 -0.43150229]              [0. 0. 0.]                0\n",
      " 22  Ge     0.449529   0.557305  0.89073   [0. 0. 0.]       [-0.75028471  0.86648542  0.04799185]              [0. 0. 0.]                0\n",
      " 23  Ge     0.781904   0.556748  0.893441  [0. 0. 0.]       [ 0.43568746 -0.11534407 -0.12252677]              [0. 0. 0.]                0\n",
      " 24  Ge     0.115105   0.888183  0.889683  [0. 0. 0.]       [ 0.30876996 -0.26359316 -0.07072867]              [0. 0. 0.]                0\n",
      " 25  Ge     0.445823   0.885591  0.891337  [0. 0. 0.]       [ 0.23227864 -0.14966729  0.47142953]              [0. 0. 0.]                0\n",
      " 26  Ge     0.7801     0.886446  0.893343  [0. 0. 0.]       [-0.26563067  0.10106233  0.38702958]              [0. 0. 0.]                0\n",
      " 27  Te     0.003035   0.00024   0.763874  [0. 0. 0.]       [-0.19874124  0.64228235  1.31243935]              [0. 0. 0.]                0\n",
      " 28  Te     0.334691  -0.001899  0.761087  [0. 0. 0.]       [-0.90293854 -0.06857129  0.53805022]              [0. 0. 0.]                0\n",
      " 29  Te     0.67142   -0.00107   0.760534  [0. 0. 0.]       [0.48136371 0.0252389  0.38249672]                 [0. 0. 0.]                0\n",
      " 30  Te     0.002632   0.332238  0.759709  [0. 0. 0.]       [-0.11776355 -0.57716219 -0.14573721]              [0. 0. 0.]                0\n",
      " 31  Te     0.337079   0.332619  0.761422  [0. 0. 0.]       [-0.57189963 -0.43217318  0.58562924]              [0. 0. 0.]                0\n",
      " 32  Te     0.671494   0.331664  0.757652  [0. 0. 0.]       [ 0.14635833 -0.33948436  0.51373029]              [0. 0. 0.]                0\n",
      " 33  Te     0.002376   0.665892  0.760603  [0. 0. 0.]       [-0.15925859  0.28015571  0.75555969]              [0. 0. 0.]                0\n",
      " 34  Te     0.333142   0.663752  0.759927  [0. 0. 0.]       [0.58265229 0.08005339 1.57477436]                 [0. 0. 0.]                0\n",
      " 35  Te     0.671942   0.66685   0.76077   [0. 0. 0.]       [-0.22759892  0.59351399  0.74659119]              [0. 0. 0.]                0\n",
      " 36  Te     0.224973   0.10982   0.089675  [0. 0. 0.]       [ 0.19982035 -0.66404618 -0.14727329]              [0. 0. 0.]                0\n",
      " 37  Te     0.551278   0.106944  0.088669  [0. 0. 0.]       [ 0.78603361  0.71026731 -0.03420904]              [0. 0. 0.]                0\n",
      " 38  Te     0.883849   0.103884  0.092846  [0. 0. 0.]       [-1.48915469 -1.50239019  1.03978251]              [0. 0. 0.]                0\n",
      " 39  Te     0.221653   0.439094  0.086988  [0. 0. 0.]       [ 1.03321396 -0.43441053 -0.52037407]              [0. 0. 0.]                0\n",
      " 40  Te     0.553094   0.438251  0.090252  [0. 0. 0.]       [-0.20805775 -0.28566925  1.01105941]              [0. 0. 0.]                0\n",
      " 41  Te     0.8838     0.436429  0.092001  [0. 0. 0.]       [-0.58676777 -0.69524583  0.6661429 ]              [0. 0. 0.]                0\n",
      " 42  Te     0.219528   0.768499  0.090042  [0. 0. 0.]       [-0.22332863  0.42749499 -0.57805016]              [0. 0. 0.]                0\n",
      " 43  Te     0.549113   0.768603  0.088985  [0. 0. 0.]       [0.8134306  0.8592327  0.29827843]                 [0. 0. 0.]                0\n",
      " 44  Te     0.88167    0.766787  0.090237  [0. 0. 0.]       [-0.94440448 -0.30236063  0.39060657]              [0. 0. 0.]                0\n",
      " 45  Te     0.112596   0.215031  0.425941  [0. 0. 0.]       [-0.28079839 -0.27570525 -0.37558215]              [0. 0. 0.]                0\n",
      " 46  Te     0.443762   0.216934  0.427786  [0. 0. 0.]       [ 0.02625827 -0.42153167 -0.50726546]              [0. 0. 0.]                0\n",
      " 47  Te     0.776363   0.214925  0.424956  [0. 0. 0.]       [-0.46024504 -0.12566058 -0.73869157]              [0. 0. 0.]                0\n",
      " 48  Te     0.11455    0.552024  0.428177  [0. 0. 0.]       [ 0.50216601 -1.08358288  0.97434697]              [0. 0. 0.]                0\n",
      " 49  Te     0.445098   0.551784  0.428376  [0. 0. 0.]       [-0.87677009 -0.65050813 -0.12672562]              [0. 0. 0.]                0\n",
      " 50  Te     0.775615   0.552302  0.425933  [0. 0. 0.]       [ 0.10815227 -0.27236703 -0.48500814]              [0. 0. 0.]                0\n",
      " 51  Te     0.11644    0.887006  0.425623  [0. 0. 0.]       [-1.12878382 -0.37286214  0.14829019]              [0. 0. 0.]                0\n",
      " 52  Te     0.447955   0.885799  0.426794  [0. 0. 0.]       [-0.28604944 -0.66876647 -0.01598946]              [0. 0. 0.]                0\n",
      " 53  Te     0.778845   0.885584  0.422717  [0. 0. 0.]       [-0.66972062 -0.08043831 -0.63264748]              [0. 0. 0.]                0\n"
     ]
    }
   ],
   "source": [
    "movement_path = \"/data/home/liuhanyu/hyliu/code/mlff/test/demo2/PWdata/data1/MOVEMENT\"\n",
    "movement_path = \"/data/home/liuhanyu/hyliu/pwmat_demo/xhm/MOVEMENT\"\n",
    "movement = Movement(movement_path=movement_path)\n",
    "idx_frame = 42000 # 帧数从 0 开始计数\n",
    "\n",
    "structure = movement.get_frame_structure(idx_frame=idx_frame)\n",
    "\n",
    "print(structure)\n",
    "\n",
    "structure.to(output_file_path=\"POSCAR\", output_file_format=\"vasp\") # Save the structure\n"
   ]
  },
  {
   "attachments": {},
   "cell_type": "markdown",
   "metadata": {},
   "source": [
    "## 1.1. Extract `atomic energy` of sites[0]"
   ]
  },
  {
   "cell_type": "code",
   "execution_count": 3,
   "metadata": {},
   "outputs": [
    {
     "data": {
      "text/plain": [
       "array([-190.92567467,  -99.2213168 ,    2.60533769])"
      ]
     },
     "execution_count": 3,
     "metadata": {},
     "output_type": "execute_result"
    }
   ],
   "source": [
    "structure.sites[0].atomic_energy"
   ]
  },
  {
   "attachments": {},
   "cell_type": "markdown",
   "metadata": {},
   "source": [
    "## 1.2. Extract `atomic force` of sites[0]"
   ]
  },
  {
   "cell_type": "code",
   "execution_count": 4,
   "metadata": {},
   "outputs": [
    {
     "data": {
      "text/plain": [
       "array([-0.02878378, -0.10504416, -0.06755898])"
      ]
     },
     "execution_count": 4,
     "metadata": {},
     "output_type": "execute_result"
    }
   ],
   "source": [
    "structure.sites[0].atomic_force"
   ]
  },
  {
   "attachments": {},
   "cell_type": "markdown",
   "metadata": {},
   "source": [
    "## 1.3. Extract `atomic velocity` of sites[0]"
   ]
  },
  {
   "cell_type": "code",
   "execution_count": 5,
   "metadata": {},
   "outputs": [
    {
     "data": {
      "text/plain": [
       "array([-0.01553816, -0.00793133,  0.0300551 ])"
      ]
     },
     "execution_count": 5,
     "metadata": {},
     "output_type": "execute_result"
    }
   ],
   "source": [
    "structure.sites[0].atomic_velocity"
   ]
  },
  {
   "attachments": {},
   "cell_type": "markdown",
   "metadata": {},
   "source": [
    "## 1.4. Extract `virial tensor` of a certain frame"
   ]
  },
  {
   "cell_type": "code",
   "execution_count": 6,
   "metadata": {},
   "outputs": [
    {
     "data": {
      "text/plain": [
       "array([[ 1.10777,  4.69247,  2.3782 ],\n",
       "       [ 4.6929 , 10.3903 , -2.29625],\n",
       "       [ 2.37849, -2.29598, 31.5619 ]])"
      ]
     },
     "execution_count": 6,
     "metadata": {},
     "output_type": "execute_result"
    }
   ],
   "source": [
    "movement.get_frame_virial(idx_frame=400)"
   ]
  },
  {
   "attachments": {},
   "cell_type": "markdown",
   "metadata": {},
   "source": [
    "## 1.5. Extract `volume` of a certain frame"
   ]
  },
  {
   "cell_type": "code",
   "execution_count": 7,
   "metadata": {},
   "outputs": [
    {
     "data": {
      "text/plain": [
       "1149.5008426005834"
      ]
     },
     "execution_count": 7,
     "metadata": {},
     "output_type": "execute_result"
    }
   ],
   "source": [
    "movement.get_frame_volume(idx_frame=539)"
   ]
  },
  {
   "attachments": {},
   "cell_type": "markdown",
   "metadata": {},
   "source": [
    "## 1.6. Extract `energy` of a certain frame"
   ]
  },
  {
   "cell_type": "code",
   "execution_count": 8,
   "metadata": {},
   "outputs": [
    {
     "name": "stdout",
     "output_type": "stream",
     "text": [
      "\t1. Total energy: -11869.8704 eV\n",
      "\t2. Potential energy: -11885.32824 eV\n",
      "\t3. Kenitic energy: 15.4578476 eV\n"
     ]
    }
   ],
   "source": [
    "energy_tot, energy_p, energy_k = movement.get_frame_energy(idx_frame=400)\n",
    "print( \"\\t1. Total energy: {0} eV\".format(energy_tot) )\n",
    "print( \"\\t2. Potential energy: {0} eV\".format(energy_p) )\n",
    "print( \"\\t3. Kenitic energy: {0} eV\".format(energy_k) )"
   ]
  },
  {
   "attachments": {},
   "cell_type": "markdown",
   "metadata": {},
   "source": [
    "# 2. Get the `max number of neighbor atom` in all atom.config in Movement.\n",
    "\n",
    "## 2.1. `max_num_mnbrs_real`"
   ]
  },
  {
   "cell_type": "code",
   "execution_count": 9,
   "metadata": {},
   "outputs": [
    {
     "name": "stdout",
     "output_type": "stream",
     "text": [
      "MOVEMENT中所有atom.config中，所有原子中近邻原子数(不包括自身)最大为:\t\t78\n"
     ]
    }
   ],
   "source": [
    "print(\"MOVEMENT中所有atom.config中，所有原子中近邻原子数(不包括自身)最大为:\\t\", end='\\t')\n",
    "scaling_matrix = [3, 3, 3]\n",
    "rcut = 6.5\n",
    "print(movement.get_max_num_nbrs_real(rcut=rcut, scaling_matrix=scaling_matrix))"
   ]
  },
  {
   "attachments": {},
   "cell_type": "markdown",
   "metadata": {},
   "source": [
    "## 2.2. `max_num_mnbrs_real_element`"
   ]
  },
  {
   "cell_type": "code",
   "execution_count": 10,
   "metadata": {},
   "outputs": [
    {
     "name": "stdout",
     "output_type": "stream",
     "text": [
      "MOVEMENT中所有atom.config中，所有原子中近邻原子数(不包括自身)最大为:\n",
      "{'Li': 54, 'Si': 29}\n"
     ]
    }
   ],
   "source": [
    "print(\"MOVEMENT中所有atom.config中，所有原子中近邻原子数(不包括自身)最大为:\")\n",
    "scaling_matrix = [3, 3, 3]\n",
    "rcut = 6.5\n",
    "print(movement.get_max_num_nbrs_real_element(\n",
    "                    rcut=rcut,\n",
    "                    nbr_elements=[\"Li\", \"Si\"],\n",
    "                    scaling_matrix=scaling_matrix)\n",
    ")"
   ]
  },
  {
   "attachments": {},
   "cell_type": "markdown",
   "metadata": {},
   "source": [
    "# 3. Get informations from all frames, and store them in format of `list`\n",
    "\n",
    "For `Machine Learning Force Field`."
   ]
  },
  {
   "cell_type": "code",
   "execution_count": 20,
   "metadata": {},
   "outputs": [],
   "source": [
    "(structures_lst, \n",
    " total_energys_array,\n",
    " potential_energys_array,\n",
    " kinetic_energys_array,\n",
    " virial_tensors_array) = \\\n",
    "            movement.get_all_frame_structures_info()"
   ]
  },
  {
   "cell_type": "code",
   "execution_count": 22,
   "metadata": {},
   "outputs": [
    {
     "name": "stdout",
     "output_type": "stream",
     "text": [
      "1. The number of MOVEMENT is :  550\n",
      "2. The shape of virial_tensors_array is :  (550, 3, 3)\n"
     ]
    }
   ],
   "source": [
    "print(\"1. The number of MOVEMENT is : \", len(structures_lst))\n",
    "print(\"2. The shape of virial_tensors_array is : \", virial_tensors_array.shape)"
   ]
  },
  {
   "cell_type": "code",
   "execution_count": null,
   "metadata": {},
   "outputs": [],
   "source": []
  }
 ],
 "metadata": {
  "kernelspec": {
   "display_name": "mlff",
   "language": "python",
   "name": "python3"
  },
  "language_info": {
   "codemirror_mode": {
    "name": "ipython",
    "version": 3
   },
   "file_extension": ".py",
   "mimetype": "text/x-python",
   "name": "python",
   "nbconvert_exporter": "python",
   "pygments_lexer": "ipython3",
   "version": "3.8.16"
  },
  "orig_nbformat": 4
 },
 "nbformat": 4,
 "nbformat_minor": 2
}
