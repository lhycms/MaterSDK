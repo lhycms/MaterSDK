{
 "cells": [
  {
   "attachments": {},
   "cell_type": "markdown",
   "metadata": {},
   "source": [
    "# 0. Introduction\n",
    "1. You can use `matersdk.feature.graph.edge.AdjacentMatrix` to generate adjacent matrix whose elements in it represents the number of bond."
   ]
  },
  {
   "cell_type": "code",
   "execution_count": 1,
   "metadata": {},
   "outputs": [],
   "source": [
    "from matersdk.io.publicLayer.structure import DStructure\n",
    "from matersdk.feature.graph.edge import AdjacentMatrix"
   ]
  },
  {
   "attachments": {},
   "cell_type": "markdown",
   "metadata": {},
   "source": [
    "# 1. Demo for generating adjacent matrix"
   ]
  },
  {
   "cell_type": "code",
   "execution_count": 2,
   "metadata": {},
   "outputs": [
    {
     "name": "stdout",
     "output_type": "stream",
     "text": [
      "[[0. 1. 2. 0. 2. 0. 2. 0. 1. 1. 1. 0.]\n",
      " [1. 0. 0. 2. 0. 2. 0. 2. 1. 1. 1. 0.]\n",
      " [2. 0. 0. 1. 2. 0. 2. 0. 1. 1. 0. 1.]\n",
      " [0. 2. 1. 0. 0. 2. 0. 2. 1. 1. 0. 1.]\n",
      " [2. 0. 2. 0. 0. 1. 2. 0. 1. 0. 1. 1.]\n",
      " [0. 2. 0. 2. 1. 0. 0. 2. 1. 0. 1. 1.]\n",
      " [2. 0. 2. 0. 2. 0. 0. 1. 0. 1. 1. 1.]\n",
      " [0. 2. 0. 2. 0. 2. 1. 0. 0. 1. 1. 1.]\n",
      " [1. 1. 1. 1. 1. 1. 0. 0. 0. 2. 2. 2.]\n",
      " [1. 1. 1. 1. 0. 0. 1. 1. 2. 0. 2. 2.]\n",
      " [1. 1. 0. 0. 1. 1. 1. 1. 2. 2. 0. 2.]\n",
      " [0. 0. 1. 1. 1. 1. 1. 1. 2. 2. 2. 0.]]\n"
     ]
    }
   ],
   "source": [
    "atom_config_path = \"/data/home/liuhanyu/hyliu/code/matersdk/demo/structure/atom.config\"\n",
    "scaling_matrix = [5, 5, 1]\n",
    "structure = DStructure.from_file(file_format=\"pwmat\", file_path=atom_config_path)\n",
    "structure.reformat_elements_()  # sort the site accorading to atomic number\n",
    "rcut = 3.2\n",
    "\n",
    "adjacent_matrix = AdjacentMatrix(\n",
    "                        structure=structure,\n",
    "                        rcut=rcut,\n",
    "                        scaling_matrix=scaling_matrix)\n",
    "print(adjacent_matrix.get_adjacent_matrix())"
   ]
  },
  {
   "cell_type": "code",
   "execution_count": null,
   "metadata": {},
   "outputs": [],
   "source": []
  }
 ],
 "metadata": {
  "kernelspec": {
   "display_name": "mlff",
   "language": "python",
   "name": "python3"
  },
  "language_info": {
   "codemirror_mode": {
    "name": "ipython",
    "version": 3
   },
   "file_extension": ".py",
   "mimetype": "text/x-python",
   "name": "python",
   "nbconvert_exporter": "python",
   "pygments_lexer": "ipython3",
   "version": "3.8.16"
  },
  "orig_nbformat": 4
 },
 "nbformat": 4,
 "nbformat_minor": 2
}
